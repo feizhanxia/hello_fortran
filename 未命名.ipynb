{
 "cells": [
  {
   "cell_type": "markdown",
   "id": "59822878-b8e8-4f26-b90c-cad79e3ebdfc",
   "metadata": {},
   "source": [
    "# hello"
   ]
  },
  {
   "cell_type": "code",
   "execution_count": null,
   "id": "203e9a17-3b47-4bfc-aa45-123258e56a8e",
   "metadata": {},
   "outputs": [],
   "source": []
  }
 ],
 "metadata": {
  "kernelspec": {
   "display_name": "Julia 1.7.1",
   "language": "julia",
   "name": "julia-1.7"
  },
  "language_info": {
   "file_extension": ".jl",
   "mimetype": "application/julia",
   "name": "julia",
   "version": "1.7.1"
  }
 },
 "nbformat": 4,
 "nbformat_minor": 5
}
