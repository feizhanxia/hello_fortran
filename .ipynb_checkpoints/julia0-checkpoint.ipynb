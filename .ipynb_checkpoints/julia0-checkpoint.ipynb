{
 "cells": [
  {
   "cell_type": "code",
   "execution_count": 1,
   "id": "463da97a-9609-4591-b12a-3043efb8ee0a",
   "metadata": {},
   "outputs": [
    {
     "name": "stdout",
     "output_type": "stream",
     "text": [
      "Hello World\n"
     ]
    }
   ],
   "source": [
    "println(\"Hello World\")"
   ]
  },
  {
   "cell_type": "code",
   "execution_count": 2,
   "id": "67dfa229-6137-47ce-907f-6a16e96d0933",
   "metadata": {},
   "outputs": [
    {
     "name": "stdout",
     "output_type": "stream",
     "text": [
      "\"Hello\" = \"Hello\"\n"
     ]
    },
    {
     "data": {
      "text/plain": [
       "\"Hello\""
      ]
     },
     "execution_count": 2,
     "metadata": {},
     "output_type": "execute_result"
    }
   ],
   "source": [
    "@show \"Hello\" "
   ]
  },
  {
   "cell_type": "code",
   "execution_count": 3,
   "id": "53fbeb02-b14e-4bf8-be20-05a79fcedeb8",
   "metadata": {},
   "outputs": [
    {
     "data": {
      "text/plain": [
       "\"Hello\""
      ]
     },
     "execution_count": 3,
     "metadata": {},
     "output_type": "execute_result"
    }
   ],
   "source": [
    "x = \"Hello\""
   ]
  },
  {
   "cell_type": "code",
   "execution_count": 4,
   "id": "18adbc7c-6258-45b5-92c0-69fbe6bc5089",
   "metadata": {},
   "outputs": [
    {
     "data": {
      "text/plain": [
       "\"smile\""
      ]
     },
     "execution_count": 4,
     "metadata": {},
     "output_type": "execute_result"
    }
   ],
   "source": [
    "😄 = \"smile\""
   ]
  },
  {
   "cell_type": "code",
   "execution_count": 5,
   "id": "6126d2c4-2437-48d8-85ab-273bfb584ab6",
   "metadata": {},
   "outputs": [
    {
     "data": {
      "text/plain": [
       "2.2"
      ]
     },
     "execution_count": 5,
     "metadata": {},
     "output_type": "execute_result"
    }
   ],
   "source": [
    "ϵ = 2.2"
   ]
  },
  {
   "cell_type": "code",
   "execution_count": 6,
   "id": "21a2503e-734b-4f3f-9482-d34800de6f33",
   "metadata": {},
   "outputs": [
    {
     "data": {
      "text/plain": [
       "π = 3.1415926535897..."
      ]
     },
     "execution_count": 6,
     "metadata": {},
     "output_type": "execute_result"
    }
   ],
   "source": [
    "π"
   ]
  },
  {
   "cell_type": "code",
   "execution_count": 7,
   "id": "0024ea69-1c24-4070-9b98-527393e613fb",
   "metadata": {},
   "outputs": [
    {
     "data": {
      "text/plain": [
       "mysum (generic function with 1 method)"
      ]
     },
     "execution_count": 7,
     "metadata": {},
     "output_type": "execute_result"
    }
   ],
   "source": [
    "function mysum(A)\n",
    "    s = 0.0 #s = zero(eltype(A))\n",
    "    for a in A\n",
    "        s += a\n",
    "    end\n",
    "    s\n",
    "end"
   ]
  },
  {
   "cell_type": "code",
   "execution_count": 8,
   "id": "c7977753-78f5-4920-b5a8-585598b15720",
   "metadata": {},
   "outputs": [
    {
     "data": {
      "text/plain": [
       "492.87929100602554"
      ]
     },
     "execution_count": 8,
     "metadata": {},
     "output_type": "execute_result"
    }
   ],
   "source": [
    "A = rand(1000)\n",
    "mysum(A)"
   ]
  },
  {
   "cell_type": "code",
   "execution_count": 9,
   "id": "443a1a42-5781-4508-8e0e-791c9cc6e225",
   "metadata": {},
   "outputs": [
    {
     "data": {
      "text/plain": [
       "1000-element Vector{Float64}:\n",
       " 0.8061789883950949\n",
       " 0.2026721163699443\n",
       " 0.9243765774556147\n",
       " 0.7999062917640304\n",
       " 0.04447393540247058\n",
       " 0.5742707497575249\n",
       " 0.19255919479669648\n",
       " 0.696466140883462\n",
       " 0.8045824748597171\n",
       " 0.5191282603792752\n",
       " 0.0730057879945597\n",
       " 0.6757340156307206\n",
       " 0.48835643317945754\n",
       " ⋮\n",
       " 0.947597025898346\n",
       " 0.018048717643129986\n",
       " 0.644935610921381\n",
       " 0.6518594127904412\n",
       " 0.515675933530916\n",
       " 0.6853162847886797\n",
       " 0.4893721256898329\n",
       " 0.37809913077205104\n",
       " 0.44878972738186773\n",
       " 0.33001691295100744\n",
       " 0.8393056540620724\n",
       " 0.017015011598563556"
      ]
     },
     "execution_count": 9,
     "metadata": {},
     "output_type": "execute_result"
    }
   ],
   "source": [
    "rand(1000)"
   ]
  },
  {
   "cell_type": "code",
   "execution_count": 10,
   "id": "a175fef8-b0fc-4a11-aeef-0c0e0db77727",
   "metadata": {},
   "outputs": [
    {
     "data": {
      "text/plain": [
       "10×10 Matrix{Float64}:\n",
       " 0.370485    0.56632    0.72803   …  0.956275    0.567069   0.235366\n",
       " 0.237406    0.686946   0.418606     0.608823    0.986419   0.618079\n",
       " 0.887615    0.0593731  0.50167      0.289594    0.270322   0.332111\n",
       " 0.595044    0.0704099  0.769355     0.572157    0.483103   0.217092\n",
       " 0.115761    0.431488   0.744404     0.00162659  0.708271   0.659901\n",
       " 0.00360028  0.472264   0.144988  …  0.412807    0.0539176  0.678105\n",
       " 0.299423    0.60115    0.571382     0.376455    0.0677381  0.0566279\n",
       " 0.376958    0.971451   0.461756     0.687363    0.589225   0.790235\n",
       " 0.284219    0.122282   0.754709     0.886948    0.604155   0.322084\n",
       " 0.156313    0.282723   0.344524     0.720331    0.0536798  0.773316"
      ]
     },
     "execution_count": 10,
     "metadata": {},
     "output_type": "execute_result"
    }
   ],
   "source": [
    "rand(10,10)"
   ]
  },
  {
   "cell_type": "code",
   "execution_count": 13,
   "id": "409bd146-6f16-4e6c-84f0-4c1efba2297b",
   "metadata": {},
   "outputs": [
    {
     "data": {
      "text/plain": [
       "10×10 Matrix{Bool}:\n",
       " 1  0  0  1  1  1  1  0  0  1\n",
       " 0  1  1  1  0  1  1  0  1  1\n",
       " 1  1  0  0  1  1  1  1  1  1\n",
       " 1  1  0  0  1  0  1  1  1  1\n",
       " 0  1  1  0  1  1  0  0  0  0\n",
       " 1  1  1  0  0  1  1  0  1  1\n",
       " 0  0  1  0  1  0  0  1  1  0\n",
       " 0  0  1  1  1  1  0  1  1  1\n",
       " 0  0  0  1  1  0  0  1  0  0\n",
       " 0  0  0  1  1  1  1  0  0  1"
      ]
     },
     "execution_count": 13,
     "metadata": {},
     "output_type": "execute_result"
    }
   ],
   "source": [
    "rand(Bool,10,10)"
   ]
  },
  {
   "cell_type": "code",
   "execution_count": 18,
   "id": "c2b66b75-3f69-4e89-a1d5-39721eb76b8c",
   "metadata": {},
   "outputs": [
    {
     "data": {
      "text/plain": [
       "10×10 Matrix{Int64}:\n",
       "  1179334930573952531   7918261451433686758  …  -4357103689880962300\n",
       "  6588177236795656778   1471068730516296773     -2729693667460299363\n",
       " -6007923201694274811  -2940487961871193172     -9158740193713259959\n",
       "  8203256060589271067   7427851247152971035     -7111297361427970614\n",
       "  -894646902891346238   4214872934350786978     -7180524234589688102\n",
       " -4747574064339417648   6198685477394568333  …   3374017357478099809\n",
       "  8656387631347604265    755499173535903630      2677149825784506197\n",
       " -3979531818365416767   7977096188297443852     -4801198507626519518\n",
       "  3916675105371841255  -1044823875656775842     -3348786402275536796\n",
       "  4792014540162586067  -2795696806461857670     -4692733585211899161"
      ]
     },
     "execution_count": 18,
     "metadata": {},
     "output_type": "execute_result"
    }
   ],
   "source": [
    "rand(Int,10,10)"
   ]
  },
  {
   "cell_type": "code",
   "execution_count": 19,
   "id": "cd8c6f6e-9f1e-4f75-b8d9-63a70fe546a3",
   "metadata": {},
   "outputs": [
    {
     "data": {
      "text/plain": [
       "is_even (generic function with 1 method)"
      ]
     },
     "execution_count": 19,
     "metadata": {},
     "output_type": "execute_result"
    }
   ],
   "source": [
    "is_even(x::Int) = x % 2 == 0 # Type Annotation"
   ]
  },
  {
   "cell_type": "code",
   "execution_count": 20,
   "id": "709b6b62-2c9d-4c23-a4c2-ea49ebc6e72b",
   "metadata": {},
   "outputs": [
    {
     "data": {
      "text/plain": [
       "true"
      ]
     },
     "execution_count": 20,
     "metadata": {},
     "output_type": "execute_result"
    }
   ],
   "source": [
    "is_even(4)"
   ]
  },
  {
   "cell_type": "code",
   "execution_count": 22,
   "id": "df327da7-b3e0-432c-95c2-e059fdf46ec9",
   "metadata": {},
   "outputs": [
    {
     "data": {
      "text/plain": [
       "250.62893465994782"
      ]
     },
     "execution_count": 22,
     "metadata": {},
     "output_type": "execute_result"
    }
   ],
   "source": [
    "function sum_even(A)\n",
    "    s = 0.0\n",
    "    for i in eachindex(A)\n",
    "        if iseven(i)\n",
    "            s+=A[i]\n",
    "        end\n",
    "    end\n",
    "    s\n",
    "end\n",
    "\n",
    "sum_even(A)"
   ]
  },
  {
   "cell_type": "code",
   "execution_count": 23,
   "id": "799616b7-a866-491b-9159-6c88ea79b64d",
   "metadata": {},
   "outputs": [
    {
     "ename": "LoadError",
     "evalue": "MethodError: no method matching is_even(::Float64)\n\u001b[0mClosest candidates are:\n\u001b[0m  is_even(\u001b[91m::Int64\u001b[39m) at In[19]:1",
     "output_type": "error",
     "traceback": [
      "MethodError: no method matching is_even(::Float64)\n\u001b[0mClosest candidates are:\n\u001b[0m  is_even(\u001b[91m::Int64\u001b[39m) at In[19]:1",
      "",
      "Stacktrace:",
      " [1] top-level scope",
      "   @ In[23]:1",
      " [2] eval",
      "   @ ./boot.jl:373 [inlined]",
      " [3] include_string(mapexpr::typeof(REPL.softscope), mod::Module, code::String, filename::String)",
      "   @ Base ./loading.jl:1196"
     ]
    }
   ],
   "source": [
    "is_even(2.0)"
   ]
  },
  {
   "cell_type": "code",
   "execution_count": 66,
   "id": "60fe1ad4-9103-43ea-9ba8-f80996a1c44d",
   "metadata": {},
   "outputs": [
    {
     "data": {
      "text/plain": [
       "is_even"
      ]
     },
     "execution_count": 66,
     "metadata": {},
     "output_type": "execute_result"
    }
   ],
   "source": [
    "\"\"\"\n",
    "    is_even(x::Int) -> Bool\n",
    "判断一个整数 `x` 是否是偶数\n",
    "```math\n",
    "\\\\mbox{if } \\\\frac{\\\\epsilon}{2}\n",
    "```\n",
    "\"\"\"\n",
    "is_even"
   ]
  },
  {
   "cell_type": "code",
   "execution_count": 33,
   "id": "38f03310-47c3-45e9-8e6e-34b3b9c42b32",
   "metadata": {},
   "outputs": [
    {
     "data": {
      "text/plain": [
       "is_even"
      ]
     },
     "execution_count": 33,
     "metadata": {},
     "output_type": "execute_result"
    }
   ],
   "source": [
    "\"\"\"\n",
    "a\n",
    "\"\"\"\n",
    "is_even"
   ]
  },
  {
   "cell_type": "code",
   "execution_count": 55,
   "id": "8c10a4a8-8cae-4676-aab2-a71ce4d2c56f",
   "metadata": {},
   "outputs": [
    {
     "name": "stdout",
     "output_type": "stream",
     "text": [
      "search: \u001b[0m\u001b[1mi\u001b[22m\u001b[0m\u001b[1ms\u001b[22m\u001b[0m\u001b[1m_\u001b[22m\u001b[0m\u001b[1me\u001b[22m\u001b[0m\u001b[1mv\u001b[22m\u001b[0m\u001b[1me\u001b[22m\u001b[0m\u001b[1mn\u001b[22m\n",
      "\n"
     ]
    },
    {
     "data": {
      "text/latex": [
       "\\begin{verbatim}\n",
       "is_even(x::Int) -> Bool\n",
       "\\end{verbatim}\n",
       "判断一个整数 \\texttt{x} 是否是偶数\n",
       "\n",
       "$$ \\frac{\\epsilon}{2}$$\n"
      ],
      "text/markdown": [
       "```\n",
       "is_even(x::Int) -> Bool\n",
       "```\n",
       "\n",
       "判断一个整数 `x` 是否是偶数\n",
       "\n",
       "$$\n",
       " \\frac{\\epsilon}{2}\n",
       "$$\n"
      ],
      "text/plain": [
       "\u001b[36m  is_even(x::Int) -> Bool\u001b[39m\n",
       "\n",
       "  判断一个整数 \u001b[36mx\u001b[39m 是否是偶数\n",
       "\n",
       "\u001b[35m   \\frac{\\epsilon}{2}\u001b[39m"
      ]
     },
     "execution_count": 55,
     "metadata": {},
     "output_type": "execute_result"
    }
   ],
   "source": [
    "?is_even"
   ]
  },
  {
   "cell_type": "code",
   "execution_count": 58,
   "id": "33a0de8c-3edf-4332-aa0f-e41253a875a4",
   "metadata": {},
   "outputs": [
    {
     "data": {
      "text/latex": [
       "\\begin{verbatim}\n",
       "is_even(x::Int) -> Bool\n",
       "\\end{verbatim}\n",
       "判断一个整数 \\texttt{x} 是否是偶数\n",
       "\n",
       "$$ \\frac{\\epsilon}{2}$$\n"
      ],
      "text/markdown": [
       "```\n",
       "is_even(x::Int) -> Bool\n",
       "```\n",
       "\n",
       "判断一个整数 `x` 是否是偶数\n",
       "\n",
       "$$\n",
       " \\frac{\\epsilon}{2}\n",
       "$$\n"
      ],
      "text/plain": [
       "\u001b[36m  is_even(x::Int) -> Bool\u001b[39m\n",
       "\n",
       "  判断一个整数 \u001b[36mx\u001b[39m 是否是偶数\n",
       "\n",
       "\u001b[35m   \\frac{\\epsilon}{2}\u001b[39m"
      ]
     },
     "execution_count": 58,
     "metadata": {},
     "output_type": "execute_result"
    }
   ],
   "source": [
    "@doc is_even"
   ]
  },
  {
   "cell_type": "code",
   "execution_count": 59,
   "id": "d949749c-4ef3-4ac2-835a-4ba7483d69f2",
   "metadata": {},
   "outputs": [
    {
     "data": {
      "text/plain": [
       "is_even"
      ]
     },
     "execution_count": 59,
     "metadata": {},
     "output_type": "execute_result"
    }
   ],
   "source": [
    "@doc \"aaa\" is_even"
   ]
  },
  {
   "cell_type": "code",
   "execution_count": 60,
   "id": "638b9629-8cb1-4d6a-a78c-bcc36c4dfdd3",
   "metadata": {},
   "outputs": [
    {
     "data": {
      "text/latex": [
       "aaa\n",
       "\n"
      ],
      "text/markdown": [
       "aaa\n"
      ],
      "text/plain": [
       "  aaa"
      ]
     },
     "execution_count": 60,
     "metadata": {},
     "output_type": "execute_result"
    }
   ],
   "source": [
    "@doc is_even"
   ]
  },
  {
   "cell_type": "code",
   "execution_count": 4,
   "id": "8545e82a-6f8a-4f45-b8ff-61d50ef41101",
   "metadata": {},
   "outputs": [
    {
     "name": "stdout",
     "output_type": "stream",
     "text": [
      "search:\n",
      "\n",
      "Couldn't find \u001b[36mis_even\u001b[39m\n",
      "Perhaps you meant iseven, isopen or isfile\n"
     ]
    },
    {
     "data": {
      "text/latex": [
       "No documentation found.\n",
       "\n",
       "Binding \\texttt{is\\_even} does not exist.\n",
       "\n"
      ],
      "text/markdown": [
       "No documentation found.\n",
       "\n",
       "Binding `is_even` does not exist.\n"
      ],
      "text/plain": [
       "  No documentation found.\n",
       "\n",
       "  Binding \u001b[36mis_even\u001b[39m does not exist."
      ]
     },
     "execution_count": 4,
     "metadata": {},
     "output_type": "execute_result"
    }
   ],
   "source": [
    "?is_even"
   ]
  },
  {
   "cell_type": "code",
   "execution_count": 68,
   "id": "c0a8e5ff-39a1-4d91-8d31-2168d29b854e",
   "metadata": {},
   "outputs": [],
   "source": [
    "using OhMyREPL"
   ]
  },
  {
   "cell_type": "code",
   "execution_count": 70,
   "id": "c99349af-8311-46cd-bfc3-b48687f17ad2",
   "metadata": {},
   "outputs": [],
   "source": [
    "using JuliaZH"
   ]
  },
  {
   "cell_type": "code",
   "execution_count": 5,
   "id": "dc68abf4-ecb6-47e2-b1c2-2e7dabb6408e",
   "metadata": {},
   "outputs": [
    {
     "data": {
      "text/plain": [
       "walk"
      ]
     },
     "execution_count": 5,
     "metadata": {},
     "output_type": "execute_result"
    }
   ],
   "source": [
    "\"\"\"\n",
    "    walk(t) -> trajectory\n",
    "模拟随机行走\n",
    "\"\"\"\n",
    "function walk(T)\n",
    "    x = 0 #初始位置\n",
    "    trajectory = [x]\n",
    "    for t in 1:T\n",
    "        if rand() < 0.5\n",
    "            x += 1\n",
    "        else\n",
    "            x -= 1\n",
    "        end\n",
    "        push!(trajectory, x)\n",
    "    end\n",
    "    return trajectory\n",
    "end"
   ]
  },
  {
   "cell_type": "code",
   "execution_count": 73,
   "id": "b3e14f5a-05c5-4227-9f62-690a0ae4686e",
   "metadata": {},
   "outputs": [
    {
     "name": "stdout",
     "output_type": "stream",
     "text": [
      "search: \u001b[0m\u001b[1mp\u001b[22m\u001b[0m\u001b[1mu\u001b[22m\u001b[0m\u001b[1ms\u001b[22m\u001b[0m\u001b[1mh\u001b[22m\u001b[0m\u001b[1m!\u001b[22m \u001b[0m\u001b[1mp\u001b[22m\u001b[0m\u001b[1mu\u001b[22m\u001b[0m\u001b[1ms\u001b[22m\u001b[0m\u001b[1mh\u001b[22mfirst\u001b[0m\u001b[1m!\u001b[22m \u001b[0m\u001b[1mp\u001b[22m\u001b[0m\u001b[1mu\u001b[22m\u001b[0m\u001b[1ms\u001b[22m\u001b[0m\u001b[1mh\u001b[22mdisplay\n",
      "\n"
     ]
    },
    {
     "data": {
      "text/latex": [
       "\\begin{verbatim}\n",
       "push!(collection, items...) -> collection\n",
       "\\end{verbatim}\n",
       "Insert one or more \\texttt{items} in \\texttt{collection}. If \\texttt{collection} is an ordered container, the items are inserted at the end (in the given order).\n",
       "\n",
       "\\section{Examples}\n",
       "\\begin{verbatim}\n",
       "julia> push!([1, 2, 3], 4, 5, 6)\n",
       "6-element Vector{Int64}:\n",
       " 1\n",
       " 2\n",
       " 3\n",
       " 4\n",
       " 5\n",
       " 6\n",
       "\\end{verbatim}\n",
       "If \\texttt{collection} is ordered, use \\href{@ref}{\\texttt{append!}} to add all the elements of another collection to it. The result of the preceding example is equivalent to \\texttt{append!([1, 2, 3], [4, 5, 6])}. For \\texttt{AbstractSet} objects, \\href{@ref}{\\texttt{union!}} can be used instead.\n",
       "\n",
       "See \\href{@ref}{\\texttt{sizehint!}} for notes about the performance model.\n",
       "\n",
       "See also \\href{@ref}{\\texttt{pushfirst!}}.\n",
       "\n"
      ],
      "text/markdown": [
       "```\n",
       "push!(collection, items...) -> collection\n",
       "```\n",
       "\n",
       "Insert one or more `items` in `collection`. If `collection` is an ordered container, the items are inserted at the end (in the given order).\n",
       "\n",
       "# Examples\n",
       "\n",
       "```jldoctest\n",
       "julia> push!([1, 2, 3], 4, 5, 6)\n",
       "6-element Vector{Int64}:\n",
       " 1\n",
       " 2\n",
       " 3\n",
       " 4\n",
       " 5\n",
       " 6\n",
       "```\n",
       "\n",
       "If `collection` is ordered, use [`append!`](@ref) to add all the elements of another collection to it. The result of the preceding example is equivalent to `append!([1, 2, 3], [4, 5, 6])`. For `AbstractSet` objects, [`union!`](@ref) can be used instead.\n",
       "\n",
       "See [`sizehint!`](@ref) for notes about the performance model.\n",
       "\n",
       "See also [`pushfirst!`](@ref).\n"
      ],
      "text/plain": [
       "  \u001b[38;5;81mpush!\u001b[0m(\u001b[0m\u001b[39mcollection\u001b[0m\u001b[39m,\u001b[0m \u001b[0m\u001b[39mitems\u001b[0m\u001b[38;5;197m...\u001b[0m\u001b[39m)\u001b[0m \u001b[0m\u001b[38;5;197m->\u001b[0m \u001b[0m\u001b[39mcollection\u001b[0m\u001b[39m\u001b[0m\n",
       "\n",
       "\n",
       "  Insert one or more \u001b[36mitems\u001b[39m in \u001b[36mcollection\u001b[39m. If \u001b[36mcollection\u001b[39m is an ordered\n",
       "  container, the items are inserted at the end (in the given order).\n",
       "\n",
       "\u001b[1m  Examples\u001b[22m\n",
       "\u001b[1m  ≡≡≡≡≡≡≡≡≡≡\u001b[22m\n",
       "\n",
       "  \u001b[31;1mjulia> \u001b[0m\u001b[38;5;81mpush!\u001b[0m(\u001b[0m\u001b[39m[\u001b[0m\u001b[38;5;141m1\u001b[0m\u001b[39m,\u001b[0m \u001b[0m\u001b[38;5;141m2\u001b[0m\u001b[39m,\u001b[0m \u001b[0m\u001b[38;5;141m3\u001b[0m\u001b[39m]\u001b[0m\u001b[39m,\u001b[0m \u001b[0m\u001b[38;5;141m4\u001b[0m\u001b[39m,\u001b[0m \u001b[0m\u001b[38;5;141m5\u001b[0m\u001b[39m,\u001b[0m \u001b[0m\u001b[38;5;141m6\u001b[0m\u001b[39m)\u001b[0m\n",
       "  \u001b[0m\u001b[39m\u001b[0m6-element Vector{Int64}:\n",
       "   1\n",
       "   2\n",
       "   3\n",
       "   4\n",
       "   5\n",
       "   6\n",
       "\n",
       "\n",
       "  If \u001b[36mcollection\u001b[39m is ordered, use \u001b[36mappend!\u001b[39m to add all the elements of another\n",
       "  collection to it. The result of the preceding example is equivalent to\n",
       "  \u001b[36mappend!([1, 2, 3], [4, 5, 6])\u001b[39m. For \u001b[36mAbstractSet\u001b[39m objects, \u001b[36munion!\u001b[39m can be used\n",
       "  instead.\n",
       "\n",
       "  See \u001b[36msizehint!\u001b[39m for notes about the performance model.\n",
       "\n",
       "  See also \u001b[36mpushfirst!\u001b[39m."
      ]
     },
     "execution_count": 73,
     "metadata": {},
     "output_type": "execute_result"
    }
   ],
   "source": [
    "?push!"
   ]
  },
  {
   "cell_type": "code",
   "execution_count": 75,
   "id": "4f946984-6baa-4abd-b999-5a6e9268af36",
   "metadata": {},
   "outputs": [
    {
     "name": "stdout",
     "output_type": "stream",
     "text": [
      "search: \u001b[0m\u001b[1mw\u001b[22m\u001b[0m\u001b[1ma\u001b[22m\u001b[0m\u001b[1ml\u001b[22m\u001b[0m\u001b[1mk\u001b[22m \u001b[0m\u001b[1mw\u001b[22m\u001b[0m\u001b[1ma\u001b[22m\u001b[0m\u001b[1ml\u001b[22m\u001b[0m\u001b[1mk\u001b[22mdir sho\u001b[0m\u001b[1mw\u001b[22m\u001b[0m\u001b[1ma\u001b[22mb\u001b[0m\u001b[1ml\u001b[22me s\u001b[0m\u001b[1mw\u001b[22m\u001b[0m\u001b[1ma\u001b[22mpfie\u001b[0m\u001b[1ml\u001b[22md! is\u001b[0m\u001b[1mw\u001b[22mrit\u001b[0m\u001b[1ma\u001b[22mb\u001b[0m\u001b[1ml\u001b[22me\n",
      "\n"
     ]
    },
    {
     "data": {
      "text/latex": [
       "\\begin{verbatim}\n",
       "walk(t) -> trajectory\n",
       "\\end{verbatim}\n",
       "模拟随机行走\n",
       "\n"
      ],
      "text/markdown": [
       "```\n",
       "walk(t) -> trajectory\n",
       "```\n",
       "\n",
       "模拟随机行走\n"
      ],
      "text/plain": [
       "  \u001b[38;5;81mwalk\u001b[0m(\u001b[0m\u001b[39mt\u001b[0m\u001b[39m)\u001b[0m \u001b[0m\u001b[38;5;197m->\u001b[0m \u001b[0m\u001b[39mtrajectory\u001b[0m\u001b[39m\u001b[0m\n",
       "\n",
       "\n",
       "  模拟随机行走"
      ]
     },
     "execution_count": 75,
     "metadata": {},
     "output_type": "execute_result"
    }
   ],
   "source": [
    "?walk"
   ]
  },
  {
   "cell_type": "code",
   "execution_count": 10,
   "id": "658449b0-1878-45b4-9a50-ef9d83d9375f",
   "metadata": {},
   "outputs": [],
   "source": [
    "using IJulia, GR, Interact"
   ]
  },
  {
   "cell_type": "code",
   "execution_count": 11,
   "id": "be105000-dc2d-4006-a30f-8196b04b8ca5",
   "metadata": {},
   "outputs": [],
   "source": [
    "using Plots"
   ]
  },
  {
   "cell_type": "code",
   "execution_count": 13,
   "id": "62933948-36a4-4303-8184-736c6b86670b",
   "metadata": {},
   "outputs": [
    {
     "ename": "LoadError",
     "evalue": "UndefVarError: plot not defined",
     "output_type": "error",
     "traceback": [
      "UndefVarError: plot not defined",
      "",
      "Stacktrace:",
      " [1] top-level scope",
      "   @ In[13]:2",
      " [2] eval",
      "   @ ./boot.jl:373 [inlined]",
      " [3] include_string(mapexpr::typeof(REPL.softscope), mod::Module, code::String, filename::String)",
      "   @ Base ./loading.jl:1196"
     ]
    }
   ],
   "source": [
    "x = 1:10; y = rand(10, 2) # 2 columns means two lines\n",
    "plot(x, y)"
   ]
  },
  {
   "cell_type": "code",
   "execution_count": 14,
   "id": "8f67c215-f5bb-406e-a456-4e7ec074f699",
   "metadata": {},
   "outputs": [
    {
     "ename": "LoadError",
     "evalue": "UndefVarError: walk not defined",
     "output_type": "error",
     "traceback": [
      "UndefVarError: walk not defined",
      "",
      "Stacktrace:",
      " [1] top-level scope",
      "   @ In[14]:2",
      " [2] eval",
      "   @ ./boot.jl:373 [inlined]",
      " [3] include_string(mapexpr::typeof(REPL.softscope), mod::Module, code::String, filename::String)",
      "   @ Base ./loading.jl:1196"
     ]
    }
   ],
   "source": [
    "T=100\n",
    "plot(0:T, walk(T))"
   ]
  },
  {
   "cell_type": "code",
   "execution_count": 6,
   "id": "32d618ee-faa7-4111-9dd0-26a27fb98e69",
   "metadata": {},
   "outputs": [
    {
     "data": {
      "application/vnd.webio.node+json": {
       "children": [
        {
         "children": [
          {
           "children": [
            {
             "children": [
              {
               "children": [
                {
                 "children": [
                  "T"
                 ],
                 "instanceArgs": {
                  "namespace": "html",
                  "tag": "label"
                 },
                 "nodeType": "DOM",
                 "props": {
                  "className": "interact ",
                  "style": {
                   "padding": "5px 10px 0px 10px"
                  }
                 },
                 "type": "node"
                }
               ],
               "instanceArgs": {
                "namespace": "html",
                "tag": "div"
               },
               "nodeType": "DOM",
               "props": {
                "className": "interact-flex-row-left"
               },
               "type": "node"
              },
              {
               "children": [
                {
                 "children": [],
                 "instanceArgs": {
                  "namespace": "html",
                  "tag": "input"
                 },
                 "nodeType": "DOM",
                 "props": {
                  "attributes": {
                   "data-bind": "numericValue: index, valueUpdate: 'input', event: {change: function (){this.changes(this.changes()+1)}}",
                   "orient": "horizontal",
                   "type": "range"
                  },
                  "className": "slider slider is-fullwidth",
                  "max": 100,
                  "min": 10,
                  "step": 1,
                  "style": {}
                 },
                 "type": "node"
                }
               ],
               "instanceArgs": {
                "namespace": "html",
                "tag": "div"
               },
               "nodeType": "DOM",
               "props": {
                "className": "interact-flex-row-center"
               },
               "type": "node"
              },
              {
               "children": [
                {
                 "children": [],
                 "instanceArgs": {
                  "namespace": "html",
                  "tag": "p"
                 },
                 "nodeType": "DOM",
                 "props": {
                  "attributes": {
                   "data-bind": "text: formatted_val"
                  }
                 },
                 "type": "node"
                }
               ],
               "instanceArgs": {
                "namespace": "html",
                "tag": "div"
               },
               "nodeType": "DOM",
               "props": {
                "className": "interact-flex-row-right"
               },
               "type": "node"
              }
             ],
             "instanceArgs": {
              "namespace": "html",
              "tag": "div"
             },
             "nodeType": "DOM",
             "props": {
              "className": "interact-flex-row interact-widget"
             },
             "type": "node"
            }
           ],
           "instanceArgs": {
            "handlers": {
             "changes": [
              "(function (val){return (val!=this.model[\"changes\"]()) ? (this.valueFromJulia[\"changes\"]=true, this.model[\"changes\"](val)) : undefined})"
             ],
             "index": [
              "(function (val){return (val!=this.model[\"index\"]()) ? (this.valueFromJulia[\"index\"]=true, this.model[\"index\"](val)) : undefined})"
             ]
            },
            "id": "13234977521722219027",
            "imports": {
             "data": [
              {
               "name": "knockout",
               "type": "js",
               "url": "/assetserver/6ca7fde95f08d7c1dda6ec1796f289b6c81c6f02-knockout.js"
              },
              {
               "name": "knockout_punches",
               "type": "js",
               "url": "/assetserver/efa259327b8811e0f649ee414241b33d79970dfd-knockout_punches.js"
              },
              {
               "name": null,
               "type": "js",
               "url": "/assetserver/c98fb2c94cb90318a0d2ad6f29b9a32d742f2d2f-all.js"
              },
              {
               "name": null,
               "type": "css",
               "url": "/assetserver/89bed67d7926eaa2adb5db10bb8dfc1391b2cbcf-style.css"
              },
              {
               "name": null,
               "type": "css",
               "url": "/assetserver/e656676faaad789048f67c415857ea352fc37e00-bulma_confined.min.css"
              }
             ],
             "type": "async_block"
            },
            "mount_callbacks": [
             "function () {\n    var handler = (function (ko, koPunches) {\n    ko.punches.enableAll();\n    ko.bindingHandlers.numericValue = {\n        init: function(element, valueAccessor, allBindings, data, context) {\n            var stringified = ko.observable(ko.unwrap(valueAccessor()));\n            stringified.subscribe(function(value) {\n                var val = parseFloat(value);\n                if (!isNaN(val)) {\n                    valueAccessor()(val);\n                }\n            });\n            valueAccessor().subscribe(function(value) {\n                var str = JSON.stringify(value);\n                if ((str == \"0\") && ([\"-0\", \"-0.\"].indexOf(stringified()) >= 0))\n                     return;\n                 if ([\"null\", \"\"].indexOf(str) >= 0)\n                     return;\n                stringified(str);\n            });\n            ko.applyBindingsToNode(\n                element,\n                {\n                    value: stringified,\n                    valueUpdate: allBindings.get('valueUpdate'),\n                },\n                context,\n            );\n        }\n    };\n    var json_data = {\"formatted_vals\":[\"10\",\"11\",\"12\",\"13\",\"14\",\"15\",\"16\",\"17\",\"18\",\"19\",\"20\",\"21\",\"22\",\"23\",\"24\",\"25\",\"26\",\"27\",\"28\",\"29\",\"30\",\"31\",\"32\",\"33\",\"34\",\"35\",\"36\",\"37\",\"38\",\"39\",\"40\",\"41\",\"42\",\"43\",\"44\",\"45\",\"46\",\"47\",\"48\",\"49\",\"50\",\"51\",\"52\",\"53\",\"54\",\"55\",\"56\",\"57\",\"58\",\"59\",\"60\",\"61\",\"62\",\"63\",\"64\",\"65\",\"66\",\"67\",\"68\",\"69\",\"70\",\"71\",\"72\",\"73\",\"74\",\"75\",\"76\",\"77\",\"78\",\"79\",\"80\",\"81\",\"82\",\"83\",\"84\",\"85\",\"86\",\"87\",\"88\",\"89\",\"90\",\"91\",\"92\",\"93\",\"94\",\"95\",\"96\",\"97\",\"98\",\"99\",\"100\"],\"changes\":WebIO.getval({\"name\":\"changes\",\"scope\":\"13234977521722219027\",\"id\":\"9005995790751090263\",\"type\":\"observable\"}),\"index\":WebIO.getval({\"name\":\"index\",\"scope\":\"13234977521722219027\",\"id\":\"4287663631927872425\",\"type\":\"observable\"})};\n    var self = this;\n    function AppViewModel() {\n        for (var key in json_data) {\n            var el = json_data[key];\n            this[key] = Array.isArray(el) ? ko.observableArray(el) : ko.observable(el);\n        }\n        \n        [this[\"formatted_val\"]=ko.computed(    function(){\n        return this.formatted_vals()[parseInt(this.index())-(10)];\n    }\n,this)]\n        [this[\"changes\"].subscribe((function (val){!(this.valueFromJulia[\"changes\"]) ? (WebIO.setval({\"name\":\"changes\",\"scope\":\"13234977521722219027\",\"id\":\"9005995790751090263\",\"type\":\"observable\"},val)) : undefined; return this.valueFromJulia[\"changes\"]=false}),self),this[\"index\"].subscribe((function (val){!(this.valueFromJulia[\"index\"]) ? (WebIO.setval({\"name\":\"index\",\"scope\":\"13234977521722219027\",\"id\":\"4287663631927872425\",\"type\":\"observable\"},val)) : undefined; return this.valueFromJulia[\"index\"]=false}),self)]\n        \n    }\n    self.model = new AppViewModel();\n    self.valueFromJulia = {};\n    for (var key in json_data) {\n        self.valueFromJulia[key] = false;\n    }\n    ko.applyBindings(self.model, self.dom);\n}\n);\n    (WebIO.importBlock({\"data\":[{\"name\":\"knockout\",\"type\":\"js\",\"url\":\"/assetserver/6ca7fde95f08d7c1dda6ec1796f289b6c81c6f02-knockout.js\"},{\"name\":\"knockout_punches\",\"type\":\"js\",\"url\":\"/assetserver/efa259327b8811e0f649ee414241b33d79970dfd-knockout_punches.js\"}],\"type\":\"async_block\"})).then((imports) => handler.apply(this, imports));\n}\n"
            ],
            "observables": {
             "changes": {
              "id": "9005995790751090263",
              "sync": false,
              "value": 0
             },
             "index": {
              "id": "4287663631927872425",
              "sync": true,
              "value": 55
             }
            },
            "systemjs_options": null
           },
           "nodeType": "Scope",
           "props": {},
           "type": "node"
          }
         ],
         "instanceArgs": {
          "namespace": "html",
          "tag": "div"
         },
         "nodeType": "DOM",
         "props": {
          "className": "field interact-widget"
         },
         "type": "node"
        },
        {
         "children": [
          {
           "children": [],
           "instanceArgs": {
            "id": "488895810813947340",
            "name": "obs-node"
           },
           "nodeType": "ObservableNode",
           "props": {},
           "type": "node"
          }
         ],
         "instanceArgs": {
          "handlers": {},
          "id": "9456416883913482197",
          "imports": {
           "data": [],
           "type": "async_block"
          },
          "mount_callbacks": [],
          "observables": {
           "obs-node": {
            "id": "488895810813947340",
            "sync": false,
            "value": {
             "children": [
              {
               "children": [],
               "instanceArgs": {
                "namespace": "html",
                "tag": "div"
               },
               "nodeType": "DOM",
               "props": {
                "setInnerHtml": "<?xml version=\"1.0\" encoding=\"utf-8\"?>\n<svg xmlns=\"http://www.w3.org/2000/svg\" xmlns:xlink=\"http://www.w3.org/1999/xlink\" width=\"600\" height=\"450\" viewBox=\"0 0 2400 1800\">\n<defs>\n  <clipPath id=\"clip630\">\n    <rect x=\"180\" y=\"45\" width=\"2101\" height=\"1621\"/>\n  </clipPath>\n</defs>\n<defs>\n  <clipPath id=\"clip631\">\n    <rect x=\"0\" y=\"0\" width=\"2400\" height=\"1800\"/>\n  </clipPath>\n</defs>\n<polyline clip-path=\"url(#clip631)\" style=\"stroke:#cccccc; stroke-linecap:butt; stroke-linejoin:round; stroke-width:3.6; stroke-opacity:1; fill:none\" points=\"\n  180,1665 2280,1665 \n  \"/>\n<polyline clip-path=\"url(#clip631)\" style=\"stroke:#ededed; stroke-linecap:butt; stroke-linejoin:round; stroke-width:3.6; stroke-opacity:1; fill:none\" points=\"\n  180,1600.2 2280,1600.2 \n  \"/>\n<polyline clip-path=\"url(#clip631)\" style=\"stroke:#ededed; stroke-linecap:butt; stroke-linejoin:round; stroke-width:3.6; stroke-opacity:1; fill:none\" points=\"\n  180,1535.4 2280,1535.4 \n  \"/>\n<polyline clip-path=\"url(#clip631)\" style=\"stroke:#ededed; stroke-linecap:butt; stroke-linejoin:round; stroke-width:3.6; stroke-opacity:1; fill:none\" points=\"\n  180,1470.6 2280,1470.6 \n  \"/>\n<polyline clip-path=\"url(#clip631)\" style=\"stroke:#ededed; stroke-linecap:butt; stroke-linejoin:round; stroke-width:3.6; stroke-opacity:1; fill:none\" points=\"\n  180,1405.8 2280,1405.8 \n  \"/>\n<polyline clip-path=\"url(#clip631)\" style=\"stroke:#cccccc; stroke-linecap:butt; stroke-linejoin:round; stroke-width:3.6; stroke-opacity:1; fill:none\" points=\"\n  180,1341 2280,1341 \n  \"/>\n<polyline clip-path=\"url(#clip631)\" style=\"stroke:#ededed; stroke-linecap:butt; stroke-linejoin:round; stroke-width:3.6; stroke-opacity:1; fill:none\" points=\"\n  180,1276.2 2280,1276.2 \n  \"/>\n<polyline clip-path=\"url(#clip631)\" style=\"stroke:#ededed; stroke-linecap:butt; stroke-linejoin:round; stroke-width:3.6; stroke-opacity:1; fill:none\" points=\"\n  180,1211.4 2280,1211.4 \n  \"/>\n<polyline clip-path=\"url(#clip631)\" style=\"stroke:#ededed; stroke-linecap:butt; stroke-linejoin:round; stroke-width:3.6; stroke-opacity:1; fill:none\" points=\"\n  180,1146.6 2280,1146.6 \n  \"/>\n<polyline clip-path=\"url(#clip631)\" style=\"stroke:#ededed; stroke-linecap:butt; stroke-linejoin:round; stroke-width:3.6; stroke-opacity:1; fill:none\" points=\"\n  180,1081.8 2280,1081.8 \n  \"/>\n<polyline clip-path=\"url(#clip631)\" style=\"stroke:#cccccc; stroke-linecap:butt; stroke-linejoin:round; stroke-width:3.6; stroke-opacity:1; fill:none\" points=\"\n  180,1017 2280,1017 \n  \"/>\n<polyline clip-path=\"url(#clip631)\" style=\"stroke:#ededed; stroke-linecap:butt; stroke-linejoin:round; stroke-width:3.6; stroke-opacity:1; fill:none\" points=\"\n  180,952.2 2280,952.2 \n  \"/>\n<polyline clip-path=\"url(#clip631)\" style=\"stroke:#ededed; stroke-linecap:butt; stroke-linejoin:round; stroke-width:3.6; stroke-opacity:1; fill:none\" points=\"\n  180,887.4 2280,887.4 \n  \"/>\n<polyline clip-path=\"url(#clip631)\" style=\"stroke:#ededed; stroke-linecap:butt; stroke-linejoin:round; stroke-width:3.6; stroke-opacity:1; fill:none\" points=\"\n  180,822.6 2280,822.6 \n  \"/>\n<polyline clip-path=\"url(#clip631)\" style=\"stroke:#ededed; stroke-linecap:butt; stroke-linejoin:round; stroke-width:3.6; stroke-opacity:1; fill:none\" points=\"\n  180,757.8 2280,757.8 \n  \"/>\n<polyline clip-path=\"url(#clip631)\" style=\"stroke:#cccccc; stroke-linecap:butt; stroke-linejoin:round; stroke-width:3.6; stroke-opacity:1; fill:none\" points=\"\n  180,693 2280,693 \n  \"/>\n<polyline clip-path=\"url(#clip631)\" style=\"stroke:#ededed; stroke-linecap:butt; stroke-linejoin:round; stroke-width:3.6; stroke-opacity:1; fill:none\" points=\"\n  180,628.2 2280,628.2 \n  \"/>\n<polyline clip-path=\"url(#clip631)\" style=\"stroke:#ededed; stroke-linecap:butt; stroke-linejoin:round; stroke-width:3.6; stroke-opacity:1; fill:none\" points=\"\n  180,563.4 2280,563.4 \n  \"/>\n<polyline clip-path=\"url(#clip631)\" style=\"stroke:#ededed; stroke-linecap:butt; stroke-linejoin:round; stroke-width:3.6; stroke-opacity:1; fill:none\" points=\"\n  180,498.6 2280,498.6 \n  \"/>\n<polyline clip-path=\"url(#clip631)\" style=\"stroke:#ededed; stroke-linecap:butt; stroke-linejoin:round; stroke-width:3.6; stroke-opacity:1; fill:none\" points=\"\n  180,433.8 2280,433.8 \n  \"/>\n<polyline clip-path=\"url(#clip631)\" style=\"stroke:#cccccc; stroke-linecap:butt; stroke-linejoin:round; stroke-width:3.6; stroke-opacity:1; fill:none\" points=\"\n  180,369 2280,369 \n  \"/>\n<polyline clip-path=\"url(#clip631)\" style=\"stroke:#ededed; stroke-linecap:butt; stroke-linejoin:round; stroke-width:3.6; stroke-opacity:1; fill:none\" points=\"\n  180,304.2 2280,304.2 \n  \"/>\n<polyline clip-path=\"url(#clip631)\" style=\"stroke:#ededed; stroke-linecap:butt; stroke-linejoin:round; stroke-width:3.6; stroke-opacity:1; fill:none\" points=\"\n  180,239.4 2280,239.4 \n  \"/>\n<polyline clip-path=\"url(#clip631)\" style=\"stroke:#ededed; stroke-linecap:butt; stroke-linejoin:round; stroke-width:3.6; stroke-opacity:1; fill:none\" points=\"\n  180,174.6 2280,174.6 \n  \"/>\n<polyline clip-path=\"url(#clip631)\" style=\"stroke:#ededed; stroke-linecap:butt; stroke-linejoin:round; stroke-width:3.6; stroke-opacity:1; fill:none\" points=\"\n  180,109.8 2280,109.8 \n  \"/>\n<polyline clip-path=\"url(#clip631)\" style=\"stroke:#cccccc; stroke-linecap:butt; stroke-linejoin:round; stroke-width:3.6; stroke-opacity:1; fill:none\" points=\"\n  180,45 2280,45 \n  \"/>\n<polyline clip-path=\"url(#clip631)\" style=\"stroke:#cccccc; stroke-linecap:butt; stroke-linejoin:round; stroke-width:3.6; stroke-opacity:1; fill:none\" points=\"\n  180,1665 180,45 \n  \"/>\n<polyline clip-path=\"url(#clip631)\" style=\"stroke:#ededed; stroke-linecap:butt; stroke-linejoin:round; stroke-width:3.6; stroke-opacity:1; fill:none\" points=\"\n  250,1665 250,45 \n  \"/>\n<polyline clip-path=\"url(#clip631)\" style=\"stroke:#ededed; stroke-linecap:butt; stroke-linejoin:round; stroke-width:3.6; stroke-opacity:1; fill:none\" points=\"\n  320,1665 320,45 \n  \"/>\n<polyline clip-path=\"url(#clip631)\" style=\"stroke:#ededed; stroke-linecap:butt; stroke-linejoin:round; stroke-width:3.6; stroke-opacity:1; fill:none\" points=\"\n  390,1665 390,45 \n  \"/>\n<polyline clip-path=\"url(#clip631)\" style=\"stroke:#ededed; stroke-linecap:butt; stroke-linejoin:round; stroke-width:3.6; stroke-opacity:1; fill:none\" points=\"\n  460,1665 460,45 \n  \"/>\n<polyline clip-path=\"url(#clip631)\" style=\"stroke:#cccccc; stroke-linecap:butt; stroke-linejoin:round; stroke-width:3.6; stroke-opacity:1; fill:none\" points=\"\n  530,1665 530,45 \n  \"/>\n<polyline clip-path=\"url(#clip631)\" style=\"stroke:#ededed; stroke-linecap:butt; stroke-linejoin:round; stroke-width:3.6; stroke-opacity:1; fill:none\" points=\"\n  600,1665 600,45 \n  \"/>\n<polyline clip-path=\"url(#clip631)\" style=\"stroke:#ededed; stroke-linecap:butt; stroke-linejoin:round; stroke-width:3.6; stroke-opacity:1; fill:none\" points=\"\n  670,1665 670,45 \n  \"/>\n<polyline clip-path=\"url(#clip631)\" style=\"stroke:#ededed; stroke-linecap:butt; stroke-linejoin:round; stroke-width:3.6; stroke-opacity:1; fill:none\" points=\"\n  740,1665 740,45 \n  \"/>\n<polyline clip-path=\"url(#clip631)\" style=\"stroke:#ededed; stroke-linecap:butt; stroke-linejoin:round; stroke-width:3.6; stroke-opacity:1; fill:none\" points=\"\n  810,1665 810,45 \n  \"/>\n<polyline clip-path=\"url(#clip631)\" style=\"stroke:#cccccc; stroke-linecap:butt; stroke-linejoin:round; stroke-width:3.6; stroke-opacity:1; fill:none\" points=\"\n  880,1665 880,45 \n  \"/>\n<polyline clip-path=\"url(#clip631)\" style=\"stroke:#ededed; stroke-linecap:butt; stroke-linejoin:round; stroke-width:3.6; stroke-opacity:1; fill:none\" points=\"\n  950,1665 950,45 \n  \"/>\n<polyline clip-path=\"url(#clip631)\" style=\"stroke:#ededed; stroke-linecap:butt; stroke-linejoin:round; stroke-width:3.6; stroke-opacity:1; fill:none\" points=\"\n  1020,1665 1020,45 \n  \"/>\n<polyline clip-path=\"url(#clip631)\" style=\"stroke:#ededed; stroke-linecap:butt; stroke-linejoin:round; stroke-width:3.6; stroke-opacity:1; fill:none\" points=\"\n  1090,1665 1090,45 \n  \"/>\n<polyline clip-path=\"url(#clip631)\" style=\"stroke:#ededed; stroke-linecap:butt; stroke-linejoin:round; stroke-width:3.6; stroke-opacity:1; fill:none\" points=\"\n  1160,1665 1160,45 \n  \"/>\n<polyline clip-path=\"url(#clip631)\" style=\"stroke:#cccccc; stroke-linecap:butt; stroke-linejoin:round; stroke-width:3.6; stroke-opacity:1; fill:none\" points=\"\n  1230,1665 1230,45 \n  \"/>\n<polyline clip-path=\"url(#clip631)\" style=\"stroke:#ededed; stroke-linecap:butt; stroke-linejoin:round; stroke-width:3.6; stroke-opacity:1; fill:none\" points=\"\n  1300,1665 1300,45 \n  \"/>\n<polyline clip-path=\"url(#clip631)\" style=\"stroke:#ededed; stroke-linecap:butt; stroke-linejoin:round; stroke-width:3.6; stroke-opacity:1; fill:none\" points=\"\n  1370,1665 1370,45 \n  \"/>\n<polyline clip-path=\"url(#clip631)\" style=\"stroke:#ededed; stroke-linecap:butt; stroke-linejoin:round; stroke-width:3.6; stroke-opacity:1; fill:none\" points=\"\n  1440,1665 1440,45 \n  \"/>\n<polyline clip-path=\"url(#clip631)\" style=\"stroke:#ededed; stroke-linecap:butt; stroke-linejoin:round; stroke-width:3.6; stroke-opacity:1; fill:none\" points=\"\n  1510,1665 1510,45 \n  \"/>\n<polyline clip-path=\"url(#clip631)\" style=\"stroke:#cccccc; stroke-linecap:butt; stroke-linejoin:round; stroke-width:3.6; stroke-opacity:1; fill:none\" points=\"\n  1580,1665 1580,45 \n  \"/>\n<polyline clip-path=\"url(#clip631)\" style=\"stroke:#ededed; stroke-linecap:butt; stroke-linejoin:round; stroke-width:3.6; stroke-opacity:1; fill:none\" points=\"\n  1650,1665 1650,45 \n  \"/>\n<polyline clip-path=\"url(#clip631)\" style=\"stroke:#ededed; stroke-linecap:butt; stroke-linejoin:round; stroke-width:3.6; stroke-opacity:1; fill:none\" points=\"\n  1720,1665 1720,45 \n  \"/>\n<polyline clip-path=\"url(#clip631)\" style=\"stroke:#ededed; stroke-linecap:butt; stroke-linejoin:round; stroke-width:3.6; stroke-opacity:1; fill:none\" points=\"\n  1790,1665 1790,45 \n  \"/>\n<polyline clip-path=\"url(#clip631)\" style=\"stroke:#ededed; stroke-linecap:butt; stroke-linejoin:round; stroke-width:3.6; stroke-opacity:1; fill:none\" points=\"\n  1860,1665 1860,45 \n  \"/>\n<polyline clip-path=\"url(#clip631)\" style=\"stroke:#cccccc; stroke-linecap:butt; stroke-linejoin:round; stroke-width:3.6; stroke-opacity:1; fill:none\" points=\"\n  1930,1665 1930,45 \n  \"/>\n<polyline clip-path=\"url(#clip631)\" style=\"stroke:#ededed; stroke-linecap:butt; stroke-linejoin:round; stroke-width:3.6; stroke-opacity:1; fill:none\" points=\"\n  2000,1665 2000,45 \n  \"/>\n<polyline clip-path=\"url(#clip631)\" style=\"stroke:#ededed; stroke-linecap:butt; stroke-linejoin:round; stroke-width:3.6; stroke-opacity:1; fill:none\" points=\"\n  2070,1665 2070,45 \n  \"/>\n<polyline clip-path=\"url(#clip631)\" style=\"stroke:#ededed; stroke-linecap:butt; stroke-linejoin:round; stroke-width:3.6; stroke-opacity:1; fill:none\" points=\"\n  2140,1665 2140,45 \n  \"/>\n<polyline clip-path=\"url(#clip631)\" style=\"stroke:#ededed; stroke-linecap:butt; stroke-linejoin:round; stroke-width:3.6; stroke-opacity:1; fill:none\" points=\"\n  2210,1665 2210,45 \n  \"/>\n<polyline clip-path=\"url(#clip631)\" style=\"stroke:#cccccc; stroke-linecap:butt; stroke-linejoin:round; stroke-width:3.6; stroke-opacity:1; fill:none\" points=\"\n  2280,1665 2280,45 \n  \"/>\n<path clip-path=\"url(#clip631)\" d=\"M123.868 1665.4 Q124.277 1665.81 124.277 1666.39 Q124.277 1666.97 123.868 1667.38 Q123.458 1667.78 122.878 1667.78 L79.1304 1667.78 Q78.5502 1667.78 78.1407 1667.38 Q77.7312 1666.97 77.7312 1666.39 Q77.7312 1665.81 78.1407 1665.4 Q78.5502 1664.99 79.1304 1664.99 L122.878 1664.99 Q123.458 1664.99 123.868 1665.4 Z\" fill=\"#000000\" fill-rule=\"evenodd\" fill-opacity=\"1\" /><path clip-path=\"url(#clip631)\" d=\"M131.102 1673.31 Q131.102 1665.5 141.169 1660.45 Q136.835 1657.51 136.05 1656.66 Q132.979 1653.25 132.979 1648.98 Q132.979 1644.1 136.665 1640.72 Q140.384 1637.31 145.639 1637.31 Q150.656 1637.31 154.443 1640.21 Q158.231 1643.11 158.231 1647.72 Q158.231 1654.2 149.768 1658.57 Q155.365 1662.05 156.696 1663.52 Q160.108 1667.31 160.108 1672.12 Q160.108 1677.72 155.808 1681.57 Q151.509 1685.39 145.571 1685.39 Q139.77 1685.39 135.436 1682.01 Q131.102 1678.64 131.102 1673.31 M134.583 1673.31 Q134.583 1677.65 137.825 1680.55 Q141.101 1683.45 145.639 1683.45 Q150.041 1683.45 153.317 1680.92 Q156.627 1678.4 156.627 1674.64 Q156.627 1673.18 156.116 1671.91 Q155.638 1670.65 154.648 1669.66 Q153.693 1668.64 153.078 1668.19 Q152.498 1667.72 151.372 1666.93 L142.773 1661.51 Q134.583 1666.04 134.583 1673.31 M136.05 1646.25 Q136.05 1649.6 139.565 1651.92 L148.233 1657.51 Q155.16 1653.45 155.16 1647.72 Q155.16 1644 152.328 1641.54 Q149.495 1639.05 145.571 1639.05 Q141.715 1639.05 138.883 1641.1 Q136.05 1643.11 136.05 1646.25 Z\" fill=\"#000000\" fill-rule=\"evenodd\" fill-opacity=\"1\" /><path clip-path=\"url(#clip631)\" d=\"M123.868 1341.4 Q124.277 1341.81 124.277 1342.39 Q124.277 1342.97 123.868 1343.38 Q123.458 1343.78 122.878 1343.78 L79.1304 1343.78 Q78.5502 1343.78 78.1407 1343.38 Q77.7312 1342.97 77.7312 1342.39 Q77.7312 1341.81 78.1407 1341.4 Q78.5502 1340.99 79.1304 1340.99 L122.878 1340.99 Q123.458 1340.99 123.868 1341.4 Z\" fill=\"#000000\" fill-rule=\"evenodd\" fill-opacity=\"1\" /><path clip-path=\"url(#clip631)\" d=\"M131.102 1337.78 Q131.102 1326.79 136.699 1320.07 Q142.295 1313.31 149.495 1313.31 Q153.693 1313.31 156.013 1315.46 Q158.368 1317.58 158.368 1320.85 Q158.368 1322.66 157.31 1323.45 Q156.252 1324.23 155.16 1324.23 Q153.897 1324.23 152.908 1323.38 Q151.918 1322.53 151.918 1320.99 Q151.918 1317.85 155.774 1317.85 Q153.966 1315.05 149.632 1315.05 Q148.301 1315.05 146.936 1315.46 Q145.571 1315.84 143.797 1317.13 Q142.022 1318.43 140.657 1320.48 Q139.292 1322.53 138.337 1326.38 Q137.381 1330.24 137.381 1335.25 L137.381 1336.93 Q140.248 1330 146.117 1330.03 Q151.986 1330.03 156.047 1334.5 Q160.108 1338.97 160.108 1345.59 Q160.108 1352.38 155.877 1356.89 Q151.645 1361.39 145.708 1361.39 Q143.046 1361.39 140.623 1360.27 Q138.234 1359.17 135.982 1356.65 Q133.764 1354.12 132.433 1349.28 Q131.102 1344.43 131.102 1337.78 M137.518 1344.06 Q137.518 1350.92 138.78 1354.19 Q138.985 1354.74 139.429 1355.49 Q139.906 1356.24 140.691 1357.23 Q141.51 1358.19 142.841 1358.83 Q144.172 1359.45 145.708 1359.45 Q150.383 1359.45 152.635 1354.91 Q153.829 1352.38 153.829 1345.53 Q153.829 1338.53 152.567 1335.97 Q150.417 1331.64 146.049 1331.64 Q143.114 1331.64 141.067 1333.65 Q139.053 1335.66 138.268 1338.36 Q137.518 1341.05 137.518 1344.06 Z\" fill=\"#000000\" fill-rule=\"evenodd\" fill-opacity=\"1\" /><path clip-path=\"url(#clip631)\" d=\"M122.878 1017.4 Q123.288 1017.81 123.288 1018.39 Q123.288 1018.97 122.878 1019.38 Q122.469 1019.78 121.889 1019.78 L78.1407 1019.78 Q77.5606 1019.78 77.1511 1019.38 Q76.7416 1018.97 76.7416 1018.39 Q76.7416 1017.81 77.1511 1017.4 Q77.5606 1016.99 78.1407 1016.99 L121.889 1016.99 Q122.469 1016.99 122.878 1017.4 Z\" fill=\"#000000\" fill-rule=\"evenodd\" fill-opacity=\"1\" /><path clip-path=\"url(#clip631)\" d=\"M129.123 1024.32 L129.123 1022.17 L150.587 989.38 Q151.133 988.527 151.986 988.561 Q152.771 988.561 152.942 988.868 Q153.113 989.175 153.113 990.369 L153.113 1022.17 L160.108 1022.17 L160.108 1024.32 L153.113 1024.32 L153.113 1030.4 Q153.113 1032.41 153.932 1033.06 Q154.785 1033.71 158.402 1033.71 L159.869 1033.71 L159.869 1035.86 Q157.003 1035.65 150.383 1035.65 Q143.797 1035.65 140.93 1035.86 L140.93 1033.71 L142.397 1033.71 Q146.015 1033.71 146.868 1033.09 Q147.721 1032.44 147.721 1030.4 L147.721 1024.32 L129.123 1024.32 M131.102 1022.17 L148.13 1022.17 L148.13 996.102 L131.102 1022.17 Z\" fill=\"#000000\" fill-rule=\"evenodd\" fill-opacity=\"1\" /><path clip-path=\"url(#clip631)\" d=\"M124.414 693.396 Q124.823 693.806 124.823 694.386 Q124.823 694.966 124.414 695.375 Q124.004 695.785 123.424 695.785 L79.6763 695.785 Q79.0962 695.785 78.6867 695.375 Q78.2772 694.966 78.2772 694.386 Q78.2772 693.806 78.6867 693.396 Q79.0962 692.987 79.6763 692.987 L123.424 692.987 Q124.004 692.987 124.414 693.396 Z\" fill=\"#000000\" fill-rule=\"evenodd\" fill-opacity=\"1\" /><path clip-path=\"url(#clip631)\" d=\"M132.194 711.857 Q132.194 710.595 132.297 710.219 Q132.433 709.844 132.979 709.264 L146.39 694.317 Q153.727 686.059 153.727 678.859 Q153.727 674.184 151.27 670.84 Q148.847 667.495 144.377 667.495 Q141.305 667.495 138.712 669.372 Q136.119 671.249 134.924 674.593 Q135.129 674.525 135.846 674.525 Q137.586 674.525 138.541 675.617 Q139.531 676.709 139.531 678.176 Q139.531 680.053 138.303 680.975 Q137.108 681.862 135.914 681.862 Q135.436 681.862 134.788 681.76 Q134.173 681.657 133.184 680.702 Q132.194 679.712 132.194 677.972 Q132.194 673.092 135.88 669.202 Q139.599 665.311 145.264 665.311 Q151.679 665.311 155.877 669.133 Q160.108 672.921 160.108 678.859 Q160.108 680.941 159.46 682.851 Q158.846 684.728 157.992 686.196 Q157.173 687.663 154.921 690.018 Q152.669 692.372 150.86 694.044 Q149.052 695.716 144.991 699.265 L137.586 706.466 L150.178 706.466 Q156.32 706.466 156.798 705.92 Q157.481 704.93 158.334 699.709 L160.108 699.709 L158.129 711.857 L132.194 711.857 Z\" fill=\"#000000\" fill-rule=\"evenodd\" fill-opacity=\"1\" /><path clip-path=\"url(#clip631)\" d=\"M130.693 365.506 Q130.693 355.234 133.286 349.638 Q136.903 341.311 145.435 341.311 Q147.243 341.311 149.12 341.823 Q151.031 342.301 153.42 344.178 Q155.843 346.055 157.31 349.126 Q160.108 355.064 160.108 365.506 Q160.108 375.709 157.515 381.271 Q153.727 389.393 145.366 389.393 Q142.227 389.393 139.019 387.789 Q135.846 386.185 133.832 382.329 Q130.693 376.562 130.693 365.506 M136.494 364.653 Q136.494 375.197 137.245 379.395 Q138.098 383.933 140.418 385.912 Q142.773 387.857 145.366 387.857 Q148.165 387.857 150.485 385.776 Q152.84 383.66 153.556 379.122 Q154.341 374.651 154.307 364.653 Q154.307 354.927 153.624 351.037 Q152.703 346.498 150.246 344.69 Q147.823 342.847 145.366 342.847 Q144.445 342.847 143.455 343.12 Q142.5 343.393 141.101 344.178 Q139.702 344.963 138.61 346.908 Q137.552 348.853 137.04 351.788 Q136.494 355.576 136.494 364.653 Z\" fill=\"#000000\" fill-rule=\"evenodd\" fill-opacity=\"1\" /><path clip-path=\"url(#clip631)\" d=\"M132.194 63.8575 Q132.194 62.5948 132.297 62.2195 Q132.433 61.8441 132.979 61.264 L146.39 46.3174 Q153.727 38.0592 153.727 30.8589 Q153.727 26.1838 151.27 22.8396 Q148.847 19.4954 144.377 19.4954 Q141.305 19.4954 138.712 21.3723 Q136.119 23.2491 134.924 26.5933 Q135.129 26.5251 135.846 26.5251 Q137.586 26.5251 138.541 27.6171 Q139.531 28.7091 139.531 30.1764 Q139.531 32.0533 138.303 32.9746 Q137.108 33.8619 135.914 33.8619 Q135.436 33.8619 134.788 33.7595 Q134.173 33.6571 133.184 32.7016 Q132.194 31.712 132.194 29.9717 Q132.194 25.0918 135.88 21.2016 Q139.599 17.3114 145.264 17.3114 Q151.679 17.3114 155.877 21.1334 Q160.108 24.9212 160.108 30.8589 Q160.108 32.9405 159.46 34.8515 Q158.846 36.7284 157.992 38.1957 Q157.173 39.6631 154.921 42.0177 Q152.669 44.3723 150.86 46.0444 Q149.052 47.7165 144.991 51.2655 L137.586 58.4658 L150.178 58.4658 Q156.32 58.4658 156.798 57.9198 Q157.481 56.9302 158.334 51.7091 L160.108 51.7091 L158.129 63.8575 L132.194 63.8575 Z\" fill=\"#000000\" fill-rule=\"evenodd\" fill-opacity=\"1\" /><polyline clip-path=\"url(#clip631)\" style=\"stroke:#000000; stroke-linecap:butt; stroke-linejoin:round; stroke-width:3.6; stroke-opacity:1; fill:none\" points=\"\n  180,1665 180,1665 219.784,1665 180,1665 180,1600.2 199.892,1600.2 180,1600.2 180,1535.4 199.892,1535.4 180,1535.4 \n  180,1470.6 199.892,1470.6 180,1470.6 180,1405.8 199.892,1405.8 180,1405.8 180,1341 219.784,1341 180,1341 180,1276.2 \n  199.892,1276.2 180,1276.2 180,1211.4 199.892,1211.4 180,1211.4 180,1146.6 199.892,1146.6 180,1146.6 180,1081.8 199.892,1081.8 \n  180,1081.8 180,1017 219.784,1017 180,1017 180,952.2 199.892,952.2 180,952.2 180,887.4 199.892,887.4 180,887.4 \n  180,822.6 199.892,822.6 180,822.6 180,757.8 199.892,757.8 180,757.8 180,693 219.784,693 180,693 180,628.2 \n  199.892,628.2 180,628.2 180,563.4 199.892,563.4 180,563.4 180,498.6 199.892,498.6 180,498.6 180,433.8 199.892,433.8 \n  180,433.8 180,369 219.784,369 180,369 180,304.2 199.892,304.2 180,304.2 180,239.4 199.892,239.4 180,239.4 \n  180,174.6 199.892,174.6 180,174.6 180,109.8 199.892,109.8 180,109.8 180,45 219.784,45 180,45 \n  \n  \"/>\n<path clip-path=\"url(#clip631)\" d=\"M165.292 1721.74 Q165.292 1711.47 167.886 1705.87 Q171.503 1697.54 180.034 1697.54 Q181.843 1697.54 183.72 1698.06 Q185.631 1698.53 188.019 1700.41 Q190.442 1702.29 191.91 1705.36 Q194.708 1711.3 194.708 1721.74 Q194.708 1731.94 192.114 1737.5 Q188.326 1745.63 179.966 1745.63 Q176.826 1745.63 173.619 1744.02 Q170.445 1742.42 168.432 1738.56 Q165.292 1732.79 165.292 1721.74 M171.093 1720.89 Q171.093 1731.43 171.844 1735.63 Q172.697 1740.17 175.018 1742.14 Q177.372 1744.09 179.966 1744.09 Q182.764 1744.09 185.085 1742.01 Q187.439 1739.89 188.156 1735.35 Q188.941 1730.88 188.907 1720.89 Q188.907 1711.16 188.224 1707.27 Q187.303 1702.73 184.846 1700.92 Q182.423 1699.08 179.966 1699.08 Q179.045 1699.08 178.055 1699.35 Q177.099 1699.63 175.7 1700.41 Q174.301 1701.2 173.209 1703.14 Q172.151 1705.09 171.639 1708.02 Q171.093 1711.81 171.093 1720.89 Z\" fill=\"#000000\" fill-rule=\"evenodd\" fill-opacity=\"1\" /><path clip-path=\"url(#clip631)\" d=\"M499.561 1704.2 L499.561 1702.01 Q507.955 1702.01 512.289 1697.54 Q513.484 1697.54 513.688 1697.82 Q513.893 1698.09 513.893 1699.35 L513.893 1738.56 Q513.893 1740.64 514.917 1741.29 Q515.941 1741.94 520.411 1741.94 L522.629 1741.94 L522.629 1744.09 Q520.172 1743.89 511.3 1743.89 Q502.427 1743.89 500.004 1744.09 L500.004 1741.94 L502.223 1741.94 Q506.625 1741.94 507.682 1741.33 Q508.74 1740.68 508.74 1738.56 L508.74 1702.36 Q505.089 1704.2 499.561 1704.2 Z\" fill=\"#000000\" fill-rule=\"evenodd\" fill-opacity=\"1\" /><path clip-path=\"url(#clip631)\" d=\"M531.024 1721.74 Q531.024 1711.47 533.617 1705.87 Q537.234 1697.54 545.766 1697.54 Q547.574 1697.54 549.451 1698.06 Q551.362 1698.53 553.751 1700.41 Q556.174 1702.29 557.641 1705.36 Q560.439 1711.3 560.439 1721.74 Q560.439 1731.94 557.846 1737.5 Q554.058 1745.63 545.697 1745.63 Q542.558 1745.63 539.35 1744.02 Q536.177 1742.42 534.163 1738.56 Q531.024 1732.79 531.024 1721.74 M536.825 1720.89 Q536.825 1731.43 537.576 1735.63 Q538.429 1740.17 540.749 1742.14 Q543.104 1744.09 545.697 1744.09 Q548.496 1744.09 550.816 1742.01 Q553.171 1739.89 553.887 1735.35 Q554.672 1730.88 554.638 1720.89 Q554.638 1711.16 553.956 1707.27 Q553.034 1702.73 550.577 1700.92 Q548.154 1699.08 545.697 1699.08 Q544.776 1699.08 543.786 1699.35 Q542.831 1699.63 541.432 1700.41 Q540.033 1701.2 538.941 1703.14 Q537.883 1705.09 537.371 1708.02 Q536.825 1711.81 536.825 1720.89 Z\" fill=\"#000000\" fill-rule=\"evenodd\" fill-opacity=\"1\" /><path clip-path=\"url(#clip631)\" d=\"M848.196 1744.09 Q848.196 1742.83 848.298 1742.45 Q848.435 1742.08 848.981 1741.5 L862.392 1726.55 Q869.728 1718.29 869.728 1711.09 Q869.728 1706.42 867.272 1703.07 Q864.849 1699.73 860.378 1699.73 Q857.307 1699.73 854.714 1701.6 Q852.12 1703.48 850.926 1706.83 Q851.131 1706.76 851.847 1706.76 Q853.588 1706.76 854.543 1707.85 Q855.533 1708.94 855.533 1710.41 Q855.533 1712.29 854.304 1713.21 Q853.11 1714.09 851.915 1714.09 Q851.438 1714.09 850.789 1713.99 Q850.175 1713.89 849.185 1712.93 Q848.196 1711.94 848.196 1710.2 Q848.196 1705.32 851.881 1701.43 Q855.601 1697.54 861.266 1697.54 Q867.681 1697.54 871.878 1701.37 Q876.11 1705.15 876.11 1711.09 Q876.11 1713.17 875.461 1715.08 Q874.847 1716.96 873.994 1718.43 Q873.175 1719.9 870.923 1722.25 Q868.671 1724.6 866.862 1726.28 Q865.053 1727.95 860.993 1731.5 L853.588 1738.7 L866.18 1738.7 Q872.322 1738.7 872.8 1738.15 Q873.482 1737.16 874.335 1731.94 L876.11 1731.94 L874.131 1744.09 L848.196 1744.09 Z\" fill=\"#000000\" fill-rule=\"evenodd\" fill-opacity=\"1\" /><path clip-path=\"url(#clip631)\" d=\"M882.389 1721.74 Q882.389 1711.47 884.982 1705.87 Q888.599 1697.54 897.131 1697.54 Q898.939 1697.54 900.816 1698.06 Q902.727 1698.53 905.116 1700.41 Q907.539 1702.29 909.006 1705.36 Q911.804 1711.3 911.804 1721.74 Q911.804 1731.94 909.211 1737.5 Q905.423 1745.63 897.062 1745.63 Q893.923 1745.63 890.715 1744.02 Q887.542 1742.42 885.528 1738.56 Q882.389 1732.79 882.389 1721.74 M888.19 1720.89 Q888.19 1731.43 888.941 1735.63 Q889.794 1740.17 892.114 1742.14 Q894.469 1744.09 897.062 1744.09 Q899.861 1744.09 902.181 1742.01 Q904.536 1739.89 905.252 1735.35 Q906.037 1730.88 906.003 1720.89 Q906.003 1711.16 905.32 1707.27 Q904.399 1702.73 901.942 1700.92 Q899.519 1699.08 897.062 1699.08 Q896.141 1699.08 895.151 1699.35 Q894.196 1699.63 892.797 1700.41 Q891.398 1701.2 890.306 1703.14 Q889.248 1705.09 888.736 1708.02 Q888.19 1711.81 888.19 1720.89 Z\" fill=\"#000000\" fill-rule=\"evenodd\" fill-opacity=\"1\" /><path clip-path=\"url(#clip631)\" d=\"M1197.92 1734.67 Q1197.92 1732.59 1199.12 1731.6 Q1200.31 1730.61 1201.85 1730.61 Q1203.45 1730.61 1204.58 1731.67 Q1205.74 1732.69 1205.74 1734.5 Q1205.74 1736.45 1204.37 1737.54 Q1203.04 1738.63 1201.13 1738.36 Q1202.8 1741.16 1205.87 1742.42 Q1208.98 1743.68 1211.85 1743.68 Q1214.85 1743.68 1217.27 1741.09 Q1219.73 1738.49 1219.73 1732.15 Q1219.73 1726.75 1217.61 1723.65 Q1215.53 1720.54 1211.4 1720.54 L1208.33 1720.54 Q1207.27 1720.54 1206.97 1720.44 Q1206.66 1720.34 1206.66 1719.76 Q1206.66 1719.08 1207.72 1718.94 Q1208.77 1718.94 1210.45 1718.74 Q1214.51 1718.6 1216.66 1715.08 Q1218.6 1711.81 1218.6 1707.13 Q1218.6 1702.87 1216.55 1701.09 Q1214.54 1699.28 1211.91 1699.28 Q1209.46 1699.28 1206.76 1700.31 Q1204.07 1701.33 1202.6 1703.62 Q1206.93 1703.62 1206.93 1707.13 Q1206.93 1708.67 1205.94 1709.69 Q1204.99 1710.68 1203.38 1710.68 Q1201.85 1710.68 1200.82 1709.73 Q1199.8 1708.74 1199.8 1707.06 Q1199.8 1703.07 1203.35 1700.31 Q1206.93 1697.54 1212.19 1697.54 Q1217.37 1697.54 1221.2 1700.27 Q1225.05 1703 1225.05 1707.2 Q1225.05 1711.33 1222.32 1714.71 Q1219.59 1718.09 1215.26 1719.49 Q1220.58 1720.54 1223.76 1724.16 Q1226.93 1727.74 1226.93 1732.15 Q1226.93 1737.61 1222.63 1741.63 Q1218.33 1745.63 1212.05 1745.63 Q1206.25 1745.63 1202.09 1742.49 Q1197.92 1739.35 1197.92 1734.67 Z\" fill=\"#000000\" fill-rule=\"evenodd\" fill-opacity=\"1\" /><path clip-path=\"url(#clip631)\" d=\"M1232.66 1721.74 Q1232.66 1711.47 1235.26 1705.87 Q1238.87 1697.54 1247.4 1697.54 Q1249.21 1697.54 1251.09 1698.06 Q1253 1698.53 1255.39 1700.41 Q1257.81 1702.29 1259.28 1705.36 Q1262.08 1711.3 1262.08 1721.74 Q1262.08 1731.94 1259.48 1737.5 Q1255.7 1745.63 1247.34 1745.63 Q1244.2 1745.63 1240.99 1744.02 Q1237.81 1742.42 1235.8 1738.56 Q1232.66 1732.79 1232.66 1721.74 M1238.46 1720.89 Q1238.46 1731.43 1239.21 1735.63 Q1240.07 1740.17 1242.39 1742.14 Q1244.74 1744.09 1247.34 1744.09 Q1250.13 1744.09 1252.45 1742.01 Q1254.81 1739.89 1255.53 1735.35 Q1256.31 1730.88 1256.28 1720.89 Q1256.28 1711.16 1255.59 1707.27 Q1254.67 1702.73 1252.22 1700.92 Q1249.79 1699.08 1247.34 1699.08 Q1246.41 1699.08 1245.42 1699.35 Q1244.47 1699.63 1243.07 1700.41 Q1241.67 1701.2 1240.58 1703.14 Q1239.52 1705.09 1239.01 1708.02 Q1238.46 1711.81 1238.46 1720.89 Z\" fill=\"#000000\" fill-rule=\"evenodd\" fill-opacity=\"1\" /><path clip-path=\"url(#clip631)\" d=\"M1547.43 1732.56 L1547.43 1730.41 L1568.89 1697.61 Q1569.44 1696.76 1570.29 1696.79 Q1571.08 1696.79 1571.25 1697.1 Q1571.42 1697.41 1571.42 1698.6 L1571.42 1730.41 L1578.41 1730.41 L1578.41 1732.56 L1571.42 1732.56 L1571.42 1738.63 Q1571.42 1740.64 1572.24 1741.29 Q1573.09 1741.94 1576.71 1741.94 L1578.17 1741.94 L1578.17 1744.09 Q1575.31 1743.89 1568.69 1743.89 Q1562.1 1743.89 1559.24 1744.09 L1559.24 1741.94 L1560.7 1741.94 Q1564.32 1741.94 1565.17 1741.33 Q1566.03 1740.68 1566.03 1738.63 L1566.03 1732.56 L1547.43 1732.56 M1549.41 1730.41 L1566.44 1730.41 L1566.44 1704.33 L1549.41 1730.41 Z\" fill=\"#000000\" fill-rule=\"evenodd\" fill-opacity=\"1\" /><path clip-path=\"url(#clip631)\" d=\"M1583.16 1721.74 Q1583.16 1711.47 1585.75 1705.87 Q1589.37 1697.54 1597.9 1697.54 Q1599.71 1697.54 1601.58 1698.06 Q1603.49 1698.53 1605.88 1700.41 Q1608.31 1702.29 1609.77 1705.36 Q1612.57 1711.3 1612.57 1721.74 Q1612.57 1731.94 1609.98 1737.5 Q1606.19 1745.63 1597.83 1745.63 Q1594.69 1745.63 1591.48 1744.02 Q1588.31 1742.42 1586.3 1738.56 Q1583.16 1732.79 1583.16 1721.74 M1588.96 1720.89 Q1588.96 1731.43 1589.71 1735.63 Q1590.56 1740.17 1592.88 1742.14 Q1595.24 1744.09 1597.83 1744.09 Q1600.63 1744.09 1602.95 1742.01 Q1605.3 1739.89 1606.02 1735.35 Q1606.8 1730.88 1606.77 1720.89 Q1606.77 1711.16 1606.09 1707.27 Q1605.17 1702.73 1602.71 1700.92 Q1600.29 1699.08 1597.83 1699.08 Q1596.91 1699.08 1595.92 1699.35 Q1594.96 1699.63 1593.56 1700.41 Q1592.17 1701.2 1591.07 1703.14 Q1590.02 1705.09 1589.5 1708.02 Q1588.96 1711.81 1588.96 1720.89 Z\" fill=\"#000000\" fill-rule=\"evenodd\" fill-opacity=\"1\" /><path clip-path=\"url(#clip631)\" d=\"M1898.2 1732.83 Q1898.2 1730.75 1899.32 1729.96 Q1900.45 1729.14 1901.64 1729.14 Q1903.25 1729.14 1904.17 1730.17 Q1905.12 1731.16 1905.12 1732.56 Q1905.12 1733.95 1904.17 1734.98 Q1903.25 1735.97 1901.64 1735.97 Q1900.86 1735.97 1900.45 1735.83 Q1901.37 1739.04 1904.17 1741.36 Q1907 1743.68 1910.72 1743.68 Q1915.39 1743.68 1918.19 1739.14 Q1919.86 1736.21 1919.86 1729.55 Q1919.86 1723.68 1918.6 1720.75 Q1916.66 1716.28 1912.66 1716.28 Q1907 1716.28 1903.66 1721.16 Q1903.25 1721.77 1902.77 1721.81 Q1902.09 1721.81 1901.92 1721.43 Q1901.78 1721.02 1901.78 1719.96 L1901.78 1699.28 Q1901.78 1697.61 1902.46 1697.61 Q1902.73 1697.61 1903.31 1697.82 Q1907.72 1699.76 1912.6 1699.8 Q1917.61 1699.8 1922.12 1697.75 Q1922.46 1697.54 1922.66 1697.54 Q1923.35 1697.54 1923.38 1698.33 Q1923.38 1698.6 1922.8 1699.42 Q1922.25 1700.21 1921.06 1701.26 Q1919.86 1702.29 1918.33 1703.28 Q1916.79 1704.27 1914.54 1704.95 Q1912.32 1705.6 1909.87 1705.6 Q1906.93 1705.6 1903.93 1704.68 L1903.93 1718.29 Q1907.55 1714.74 1912.8 1714.74 Q1918.4 1714.74 1922.25 1719.25 Q1926.11 1723.75 1926.11 1730.03 Q1926.11 1736.62 1921.54 1741.12 Q1917 1745.63 1910.86 1745.63 Q1905.26 1745.63 1901.71 1741.63 Q1898.2 1737.64 1898.2 1732.83 Z\" fill=\"#000000\" fill-rule=\"evenodd\" fill-opacity=\"1\" /><path clip-path=\"url(#clip631)\" d=\"M1932.39 1721.74 Q1932.39 1711.47 1934.98 1705.87 Q1938.6 1697.54 1947.13 1697.54 Q1948.94 1697.54 1950.82 1698.06 Q1952.73 1698.53 1955.12 1700.41 Q1957.54 1702.29 1959.01 1705.36 Q1961.8 1711.3 1961.8 1721.74 Q1961.8 1731.94 1959.21 1737.5 Q1955.42 1745.63 1947.06 1745.63 Q1943.92 1745.63 1940.72 1744.02 Q1937.54 1742.42 1935.53 1738.56 Q1932.39 1732.79 1932.39 1721.74 M1938.19 1720.89 Q1938.19 1731.43 1938.94 1735.63 Q1939.79 1740.17 1942.11 1742.14 Q1944.47 1744.09 1947.06 1744.09 Q1949.86 1744.09 1952.18 1742.01 Q1954.54 1739.89 1955.25 1735.35 Q1956.04 1730.88 1956 1720.89 Q1956 1711.16 1955.32 1707.27 Q1954.4 1702.73 1951.94 1700.92 Q1949.52 1699.08 1947.06 1699.08 Q1946.14 1699.08 1945.15 1699.35 Q1944.2 1699.63 1942.8 1700.41 Q1941.4 1701.2 1940.31 1703.14 Q1939.25 1705.09 1938.74 1708.02 Q1938.19 1711.81 1938.19 1720.89 Z\" fill=\"#000000\" fill-rule=\"evenodd\" fill-opacity=\"1\" /><path clip-path=\"url(#clip631)\" d=\"M2247.92 1722.01 Q2247.92 1711.02 2253.52 1704.3 Q2259.12 1697.54 2266.32 1697.54 Q2270.51 1697.54 2272.83 1699.69 Q2275.19 1701.81 2275.19 1705.09 Q2275.19 1706.89 2274.13 1707.68 Q2273.07 1708.46 2271.98 1708.46 Q2270.72 1708.46 2269.73 1707.61 Q2268.74 1706.76 2268.74 1705.22 Q2268.74 1702.08 2272.59 1702.08 Q2270.79 1699.28 2266.45 1699.28 Q2265.12 1699.28 2263.76 1699.69 Q2262.39 1700.07 2260.62 1701.37 Q2258.84 1702.66 2257.48 1704.71 Q2256.11 1706.76 2255.16 1710.61 Q2254.2 1714.47 2254.2 1719.49 L2254.2 1721.16 Q2257.07 1714.23 2262.94 1714.26 Q2268.81 1714.26 2272.87 1718.74 Q2276.93 1723.21 2276.93 1729.83 Q2276.93 1736.62 2272.7 1741.12 Q2268.47 1745.63 2262.53 1745.63 Q2259.87 1745.63 2257.44 1744.5 Q2255.05 1743.41 2252.8 1740.88 Q2250.58 1738.36 2249.25 1733.51 Q2247.92 1728.67 2247.92 1722.01 M2254.34 1728.29 Q2254.34 1735.15 2255.6 1738.43 Q2255.81 1738.97 2256.25 1739.72 Q2256.73 1740.47 2257.51 1741.46 Q2258.33 1742.42 2259.66 1743.07 Q2260.99 1743.68 2262.53 1743.68 Q2267.2 1743.68 2269.46 1739.14 Q2270.65 1736.62 2270.65 1729.76 Q2270.65 1722.76 2269.39 1720.2 Q2267.24 1715.87 2262.87 1715.87 Q2259.93 1715.87 2257.89 1717.88 Q2255.87 1719.9 2255.09 1722.59 Q2254.34 1725.29 2254.34 1728.29 Z\" fill=\"#000000\" fill-rule=\"evenodd\" fill-opacity=\"1\" /><path clip-path=\"url(#clip631)\" d=\"M2282.66 1721.74 Q2282.66 1711.47 2285.26 1705.87 Q2288.87 1697.54 2297.4 1697.54 Q2299.21 1697.54 2301.09 1698.06 Q2303 1698.53 2305.39 1700.41 Q2307.81 1702.29 2309.28 1705.36 Q2312.08 1711.3 2312.08 1721.74 Q2312.08 1731.94 2309.48 1737.5 Q2305.7 1745.63 2297.34 1745.63 Q2294.2 1745.63 2290.99 1744.02 Q2287.81 1742.42 2285.8 1738.56 Q2282.66 1732.79 2282.66 1721.74 M2288.46 1720.89 Q2288.46 1731.43 2289.21 1735.63 Q2290.07 1740.17 2292.39 1742.14 Q2294.74 1744.09 2297.34 1744.09 Q2300.13 1744.09 2302.45 1742.01 Q2304.81 1739.89 2305.53 1735.35 Q2306.31 1730.88 2306.28 1720.89 Q2306.28 1711.16 2305.59 1707.27 Q2304.67 1702.73 2302.22 1700.92 Q2299.79 1699.08 2297.34 1699.08 Q2296.41 1699.08 2295.42 1699.35 Q2294.47 1699.63 2293.07 1700.41 Q2291.67 1701.2 2290.58 1703.14 Q2289.52 1705.09 2289.01 1708.02 Q2288.46 1711.81 2288.46 1720.89 Z\" fill=\"#000000\" fill-rule=\"evenodd\" fill-opacity=\"1\" /><polyline clip-path=\"url(#clip631)\" style=\"stroke:#000000; stroke-linecap:butt; stroke-linejoin:round; stroke-width:3.6; stroke-opacity:1; fill:none\" points=\"\n  180,1665 180,1665 180,1625.22 180,1665 250,1665 250,1645.11 250,1665 320,1665 320,1645.11 320,1665 \n  390,1665 390,1645.11 390,1665 460,1665 460,1645.11 460,1665 530,1665 530,1625.22 530,1665 600,1665 \n  600,1645.11 600,1665 670,1665 670,1645.11 670,1665 740,1665 740,1645.11 740,1665 810,1665 810,1645.11 \n  810,1665 880,1665 880,1625.22 880,1665 950,1665 950,1645.11 950,1665 1020,1665 1020,1645.11 1020,1665 \n  1090,1665 1090,1645.11 1090,1665 1160,1665 1160,1645.11 1160,1665 1230,1665 1230,1625.22 1230,1665 1300,1665 \n  1300,1645.11 1300,1665 1370,1665 1370,1645.11 1370,1665 1440,1665 1440,1645.11 1440,1665 1510,1665 1510,1645.11 \n  1510,1665 1580,1665 1580,1625.22 1580,1665 1650,1665 1650,1645.11 1650,1665 1720,1665 1720,1645.11 1720,1665 \n  1790,1665 1790,1645.11 1790,1665 1860,1665 1860,1645.11 1860,1665 1930,1665 1930,1625.22 1930,1665 2000,1665 \n  2000,1645.11 2000,1665 2070,1665 2070,1645.11 2070,1665 2140,1665 2140,1645.11 2140,1665 2210,1665 2210,1645.11 \n  2210,1665 2280,1665 2280,1625.22 2280,1665 \n  \"/>\n<polyline clip-path=\"url(#clip631)\" style=\"stroke:#000000; stroke-linecap:butt; stroke-linejoin:round; stroke-width:3.6; stroke-opacity:1; fill:none\" points=\"\n  2280,1665 2280,1665 2240.22,1665 2280,1665 2280,1600.2 2260.11,1600.2 2280,1600.2 2280,1535.4 2260.11,1535.4 2280,1535.4 \n  2280,1470.6 2260.11,1470.6 2280,1470.6 2280,1405.8 2260.11,1405.8 2280,1405.8 2280,1341 2240.22,1341 2280,1341 2280,1276.2 \n  2260.11,1276.2 2280,1276.2 2280,1211.4 2260.11,1211.4 2280,1211.4 2280,1146.6 2260.11,1146.6 2280,1146.6 2280,1081.8 2260.11,1081.8 \n  2280,1081.8 2280,1017 2240.22,1017 2280,1017 2280,952.2 2260.11,952.2 2280,952.2 2280,887.4 2260.11,887.4 2280,887.4 \n  2280,822.6 2260.11,822.6 2280,822.6 2280,757.8 2260.11,757.8 2280,757.8 2280,693 2240.22,693 2280,693 2280,628.2 \n  2260.11,628.2 2280,628.2 2280,563.4 2260.11,563.4 2280,563.4 2280,498.6 2260.11,498.6 2280,498.6 2280,433.8 2260.11,433.8 \n  2280,433.8 2280,369 2240.22,369 2280,369 2280,304.2 2260.11,304.2 2280,304.2 2280,239.4 2260.11,239.4 2280,239.4 \n  2280,174.6 2260.11,174.6 2280,174.6 2280,109.8 2260.11,109.8 2280,109.8 2280,45 2240.22,45 2280,45 \n  \n  \"/>\n<polyline clip-path=\"url(#clip631)\" style=\"stroke:#000000; stroke-linecap:butt; stroke-linejoin:round; stroke-width:3.6; stroke-opacity:1; fill:none\" points=\"\n  180,45 180,45 180,84.7837 180,45 250,45 250,64.8918 250,45 320,45 320,64.8918 320,45 \n  390,45 390,64.8918 390,45 460,45 460,64.8918 460,45 530,45 530,84.7837 530,45 600,45 \n  600,64.8918 600,45 670,45 670,64.8918 670,45 740,45 740,64.8918 740,45 810,45 810,64.8918 \n  810,45 880,45 880,84.7837 880,45 950,45 950,64.8918 950,45 1020,45 1020,64.8918 1020,45 \n  1090,45 1090,64.8918 1090,45 1160,45 1160,64.8918 1160,45 1230,45 1230,84.7837 1230,45 1300,45 \n  1300,64.8918 1300,45 1370,45 1370,64.8918 1370,45 1440,45 1440,64.8918 1440,45 1510,45 1510,64.8918 \n  1510,45 1580,45 1580,84.7837 1580,45 1650,45 1650,64.8918 1650,45 1720,45 1720,64.8918 1720,45 \n  1790,45 1790,64.8918 1790,45 1860,45 1860,64.8918 1860,45 1930,45 1930,84.7837 1930,45 2000,45 \n  2000,64.8918 2000,45 2070,45 2070,64.8918 2070,45 2140,45 2140,64.8918 2140,45 2210,45 2210,64.8918 \n  2210,45 2280,45 2280,84.7837 2280,45 \n  \"/>\n<polyline clip-path=\"url(#clip630)\" style=\"stroke:#00528a; stroke-linecap:butt; stroke-linejoin:round; stroke-width:3.6; stroke-opacity:1; fill:none\" points=\"\n  180,369 215,207 250,45 285,207 320,369 355,531 390,369 425,207 460,45 495,207 \n  530,369 565,207 600,369 635,531 670,693 705,531 740,693 775,855 810,1017 845,1179 \n  880,1017 915,855 950,693 985,531 1020,369 1055,207 1090,45 1125,207 1160,369 1195,207 \n  1230,369 1265,207 1300,369 1335,531 1370,369 1405,531 1440,369 1475,207 1510,369 1545,531 \n  1580,369 1615,531 1650,693 1685,531 1720,693 1755,855 1790,1017 1825,1179 1860,1017 1895,1179 \n  1930,1341 1965,1503 2000,1665 2035,1503 2070,1341 2105,1503 \n  \"/>\n</svg>\n"
               },
               "type": "node"
              }
             ],
             "instanceArgs": {
              "namespace": "html",
              "tag": "div"
             },
             "nodeType": "DOM",
             "props": {
              "className": "interact-flex-row interact-widget"
             },
             "type": "node"
            }
           }
          },
          "systemjs_options": null
         },
         "nodeType": "Scope",
         "props": {},
         "type": "node"
        }
       ],
       "instanceArgs": {
        "namespace": "html",
        "tag": "div"
       },
       "nodeType": "DOM",
       "props": {},
       "type": "node"
      },
      "text/html": [
       "<div\n",
       "    class=\"webio-mountpoint\"\n",
       "    data-webio-mountpoint=\"15903510046761932319\"\n",
       ">\n",
       "    <script>\n",
       "    (function(){\n",
       "    // Some integrations (namely, IJulia/Jupyter) use an alternate render pathway than\n",
       "    // just putting the html on the page. If WebIO isn't defined, then it's pretty likely\n",
       "    // that we're in one of those situations and the integration just isn't installed\n",
       "    // correctly.\n",
       "    if (typeof window.WebIO === \"undefined\") {\n",
       "        document\n",
       "            .querySelector('[data-webio-mountpoint=\"15903510046761932319\"]')\n",
       "            .innerHTML = (\n",
       "                '<div style=\"padding: 1em; background-color: #f8d6da; border: 1px solid #f5c6cb; font-weight: bold;\">' +\n",
       "                '<p><strong>WebIO not detected.</strong></p>' +\n",
       "                '<p>Please read ' +\n",
       "                '<a href=\"https://juliagizmos.github.io/WebIO.jl/latest/troubleshooting/not-detected/\" target=\"_blank\">the troubleshooting guide</a> ' +\n",
       "                'for more information on how to resolve this issue.</p>' +\n",
       "                '<p><a href=\"https://juliagizmos.github.io/WebIO.jl/latest/troubleshooting/not-detected/\" target=\"_blank\">https://juliagizmos.github.io/WebIO.jl/latest/troubleshooting/not-detected/</a></p>' +\n",
       "                '</div>'\n",
       "            );\n",
       "        return;\n",
       "    }\n",
       "    WebIO.mount(\n",
       "        document.querySelector('[data-webio-mountpoint=\"15903510046761932319\"]'),\n",
       "        {\"props\":{},\"nodeType\":\"DOM\",\"type\":\"node\",\"instanceArgs\":{\"namespace\":\"html\",\"tag\":\"div\"},\"children\":[{\"props\":{\"className\":\"field interact-widget\"},\"nodeType\":\"DOM\",\"type\":\"node\",\"instanceArgs\":{\"namespace\":\"html\",\"tag\":\"div\"},\"children\":[{\"props\":{},\"nodeType\":\"Scope\",\"type\":\"node\",\"instanceArgs\":{\"imports\":{\"data\":[{\"name\":\"knockout\",\"type\":\"js\",\"url\":\"\\/assetserver\\/6ca7fde95f08d7c1dda6ec1796f289b6c81c6f02-knockout.js\"},{\"name\":\"knockout_punches\",\"type\":\"js\",\"url\":\"\\/assetserver\\/efa259327b8811e0f649ee414241b33d79970dfd-knockout_punches.js\"},{\"name\":null,\"type\":\"js\",\"url\":\"\\/assetserver\\/c98fb2c94cb90318a0d2ad6f29b9a32d742f2d2f-all.js\"},{\"name\":null,\"type\":\"css\",\"url\":\"\\/assetserver\\/89bed67d7926eaa2adb5db10bb8dfc1391b2cbcf-style.css\"},{\"name\":null,\"type\":\"css\",\"url\":\"\\/assetserver\\/e656676faaad789048f67c415857ea352fc37e00-bulma_confined.min.css\"}],\"type\":\"async_block\"},\"id\":\"13234977521722219027\",\"handlers\":{\"changes\":[\"(function (val){return (val!=this.model[\\\"changes\\\"]()) ? (this.valueFromJulia[\\\"changes\\\"]=true, this.model[\\\"changes\\\"](val)) : undefined})\"],\"index\":[\"(function (val){return (val!=this.model[\\\"index\\\"]()) ? (this.valueFromJulia[\\\"index\\\"]=true, this.model[\\\"index\\\"](val)) : undefined})\"]},\"systemjs_options\":null,\"mount_callbacks\":[\"function () {\\n    var handler = (function (ko, koPunches) {\\n    ko.punches.enableAll();\\n    ko.bindingHandlers.numericValue = {\\n        init: function(element, valueAccessor, allBindings, data, context) {\\n            var stringified = ko.observable(ko.unwrap(valueAccessor()));\\n            stringified.subscribe(function(value) {\\n                var val = parseFloat(value);\\n                if (!isNaN(val)) {\\n                    valueAccessor()(val);\\n                }\\n            });\\n            valueAccessor().subscribe(function(value) {\\n                var str = JSON.stringify(value);\\n                if ((str == \\\"0\\\") && ([\\\"-0\\\", \\\"-0.\\\"].indexOf(stringified()) >= 0))\\n                     return;\\n                 if ([\\\"null\\\", \\\"\\\"].indexOf(str) >= 0)\\n                     return;\\n                stringified(str);\\n            });\\n            ko.applyBindingsToNode(\\n                element,\\n                {\\n                    value: stringified,\\n                    valueUpdate: allBindings.get('valueUpdate'),\\n                },\\n                context,\\n            );\\n        }\\n    };\\n    var json_data = {\\\"formatted_vals\\\":[\\\"10\\\",\\\"11\\\",\\\"12\\\",\\\"13\\\",\\\"14\\\",\\\"15\\\",\\\"16\\\",\\\"17\\\",\\\"18\\\",\\\"19\\\",\\\"20\\\",\\\"21\\\",\\\"22\\\",\\\"23\\\",\\\"24\\\",\\\"25\\\",\\\"26\\\",\\\"27\\\",\\\"28\\\",\\\"29\\\",\\\"30\\\",\\\"31\\\",\\\"32\\\",\\\"33\\\",\\\"34\\\",\\\"35\\\",\\\"36\\\",\\\"37\\\",\\\"38\\\",\\\"39\\\",\\\"40\\\",\\\"41\\\",\\\"42\\\",\\\"43\\\",\\\"44\\\",\\\"45\\\",\\\"46\\\",\\\"47\\\",\\\"48\\\",\\\"49\\\",\\\"50\\\",\\\"51\\\",\\\"52\\\",\\\"53\\\",\\\"54\\\",\\\"55\\\",\\\"56\\\",\\\"57\\\",\\\"58\\\",\\\"59\\\",\\\"60\\\",\\\"61\\\",\\\"62\\\",\\\"63\\\",\\\"64\\\",\\\"65\\\",\\\"66\\\",\\\"67\\\",\\\"68\\\",\\\"69\\\",\\\"70\\\",\\\"71\\\",\\\"72\\\",\\\"73\\\",\\\"74\\\",\\\"75\\\",\\\"76\\\",\\\"77\\\",\\\"78\\\",\\\"79\\\",\\\"80\\\",\\\"81\\\",\\\"82\\\",\\\"83\\\",\\\"84\\\",\\\"85\\\",\\\"86\\\",\\\"87\\\",\\\"88\\\",\\\"89\\\",\\\"90\\\",\\\"91\\\",\\\"92\\\",\\\"93\\\",\\\"94\\\",\\\"95\\\",\\\"96\\\",\\\"97\\\",\\\"98\\\",\\\"99\\\",\\\"100\\\"],\\\"changes\\\":WebIO.getval({\\\"name\\\":\\\"changes\\\",\\\"scope\\\":\\\"13234977521722219027\\\",\\\"id\\\":\\\"9005995790751090263\\\",\\\"type\\\":\\\"observable\\\"}),\\\"index\\\":WebIO.getval({\\\"name\\\":\\\"index\\\",\\\"scope\\\":\\\"13234977521722219027\\\",\\\"id\\\":\\\"4287663631927872425\\\",\\\"type\\\":\\\"observable\\\"})};\\n    var self = this;\\n    function AppViewModel() {\\n        for (var key in json_data) {\\n            var el = json_data[key];\\n            this[key] = Array.isArray(el) ? ko.observableArray(el) : ko.observable(el);\\n        }\\n        \\n        [this[\\\"formatted_val\\\"]=ko.computed(    function(){\\n        return this.formatted_vals()[parseInt(this.index())-(10)];\\n    }\\n,this)]\\n        [this[\\\"changes\\\"].subscribe((function (val){!(this.valueFromJulia[\\\"changes\\\"]) ? (WebIO.setval({\\\"name\\\":\\\"changes\\\",\\\"scope\\\":\\\"13234977521722219027\\\",\\\"id\\\":\\\"9005995790751090263\\\",\\\"type\\\":\\\"observable\\\"},val)) : undefined; return this.valueFromJulia[\\\"changes\\\"]=false}),self),this[\\\"index\\\"].subscribe((function (val){!(this.valueFromJulia[\\\"index\\\"]) ? (WebIO.setval({\\\"name\\\":\\\"index\\\",\\\"scope\\\":\\\"13234977521722219027\\\",\\\"id\\\":\\\"4287663631927872425\\\",\\\"type\\\":\\\"observable\\\"},val)) : undefined; return this.valueFromJulia[\\\"index\\\"]=false}),self)]\\n        \\n    }\\n    self.model = new AppViewModel();\\n    self.valueFromJulia = {};\\n    for (var key in json_data) {\\n        self.valueFromJulia[key] = false;\\n    }\\n    ko.applyBindings(self.model, self.dom);\\n}\\n);\\n    (WebIO.importBlock({\\\"data\\\":[{\\\"name\\\":\\\"knockout\\\",\\\"type\\\":\\\"js\\\",\\\"url\\\":\\\"\\/assetserver\\/6ca7fde95f08d7c1dda6ec1796f289b6c81c6f02-knockout.js\\\"},{\\\"name\\\":\\\"knockout_punches\\\",\\\"type\\\":\\\"js\\\",\\\"url\\\":\\\"\\/assetserver\\/efa259327b8811e0f649ee414241b33d79970dfd-knockout_punches.js\\\"}],\\\"type\\\":\\\"async_block\\\"})).then((imports) => handler.apply(this, imports));\\n}\\n\"],\"observables\":{\"changes\":{\"sync\":false,\"id\":\"9005995790751090263\",\"value\":0},\"index\":{\"sync\":true,\"id\":\"4287663631927872425\",\"value\":55}}},\"children\":[{\"props\":{\"className\":\"interact-flex-row interact-widget\"},\"nodeType\":\"DOM\",\"type\":\"node\",\"instanceArgs\":{\"namespace\":\"html\",\"tag\":\"div\"},\"children\":[{\"props\":{\"className\":\"interact-flex-row-left\"},\"nodeType\":\"DOM\",\"type\":\"node\",\"instanceArgs\":{\"namespace\":\"html\",\"tag\":\"div\"},\"children\":[{\"props\":{\"className\":\"interact \",\"style\":{\"padding\":\"5px 10px 0px 10px\"}},\"nodeType\":\"DOM\",\"type\":\"node\",\"instanceArgs\":{\"namespace\":\"html\",\"tag\":\"label\"},\"children\":[\"T\"]}]},{\"props\":{\"className\":\"interact-flex-row-center\"},\"nodeType\":\"DOM\",\"type\":\"node\",\"instanceArgs\":{\"namespace\":\"html\",\"tag\":\"div\"},\"children\":[{\"props\":{\"max\":100,\"min\":10,\"attributes\":{\"type\":\"range\",\"data-bind\":\"numericValue: index, valueUpdate: 'input', event: {change: function (){this.changes(this.changes()+1)}}\",\"orient\":\"horizontal\"},\"step\":1,\"className\":\"slider slider is-fullwidth\",\"style\":{}},\"nodeType\":\"DOM\",\"type\":\"node\",\"instanceArgs\":{\"namespace\":\"html\",\"tag\":\"input\"},\"children\":[]}]},{\"props\":{\"className\":\"interact-flex-row-right\"},\"nodeType\":\"DOM\",\"type\":\"node\",\"instanceArgs\":{\"namespace\":\"html\",\"tag\":\"div\"},\"children\":[{\"props\":{\"attributes\":{\"data-bind\":\"text: formatted_val\"}},\"nodeType\":\"DOM\",\"type\":\"node\",\"instanceArgs\":{\"namespace\":\"html\",\"tag\":\"p\"},\"children\":[]}]}]}]}]},{\"props\":{},\"nodeType\":\"Scope\",\"type\":\"node\",\"instanceArgs\":{\"imports\":{\"data\":[],\"type\":\"async_block\"},\"id\":\"2526152826117136912\",\"handlers\":{},\"systemjs_options\":null,\"mount_callbacks\":[],\"observables\":{\"obs-node\":{\"sync\":false,\"id\":\"9753451202353083692\",\"value\":{\"props\":{\"className\":\"interact-flex-row interact-widget\"},\"nodeType\":\"DOM\",\"type\":\"node\",\"instanceArgs\":{\"namespace\":\"html\",\"tag\":\"div\"},\"children\":[{\"props\":{\"setInnerHtml\":\"<?xml version=\\\"1.0\\\" encoding=\\\"utf-8\\\"?>\\n<svg xmlns=\\\"http:\\/\\/www.w3.org\\/2000\\/svg\\\" xmlns:xlink=\\\"http:\\/\\/www.w3.org\\/1999\\/xlink\\\" width=\\\"600\\\" height=\\\"450\\\" viewBox=\\\"0 0 2400 1800\\\">\\n<defs>\\n  <clipPath id=\\\"clip630\\\">\\n    <rect x=\\\"180\\\" y=\\\"45\\\" width=\\\"2101\\\" height=\\\"1621\\\"\\/>\\n  <\\/clipPath>\\n<\\/defs>\\n<defs>\\n  <clipPath id=\\\"clip631\\\">\\n    <rect x=\\\"0\\\" y=\\\"0\\\" width=\\\"2400\\\" height=\\\"1800\\\"\\/>\\n  <\\/clipPath>\\n<\\/defs>\\n<polyline clip-path=\\\"url(#clip631)\\\" style=\\\"stroke:#cccccc; stroke-linecap:butt; stroke-linejoin:round; stroke-width:3.6; stroke-opacity:1; fill:none\\\" points=\\\"\\n  180,1665 2280,1665 \\n  \\\"\\/>\\n<polyline clip-path=\\\"url(#clip631)\\\" style=\\\"stroke:#ededed; stroke-linecap:butt; stroke-linejoin:round; stroke-width:3.6; stroke-opacity:1; fill:none\\\" points=\\\"\\n  180,1600.2 2280,1600.2 \\n  \\\"\\/>\\n<polyline clip-path=\\\"url(#clip631)\\\" style=\\\"stroke:#ededed; stroke-linecap:butt; stroke-linejoin:round; stroke-width:3.6; stroke-opacity:1; fill:none\\\" points=\\\"\\n  180,1535.4 2280,1535.4 \\n  \\\"\\/>\\n<polyline clip-path=\\\"url(#clip631)\\\" style=\\\"stroke:#ededed; stroke-linecap:butt; stroke-linejoin:round; stroke-width:3.6; stroke-opacity:1; fill:none\\\" points=\\\"\\n  180,1470.6 2280,1470.6 \\n  \\\"\\/>\\n<polyline clip-path=\\\"url(#clip631)\\\" style=\\\"stroke:#ededed; stroke-linecap:butt; stroke-linejoin:round; stroke-width:3.6; stroke-opacity:1; fill:none\\\" points=\\\"\\n  180,1405.8 2280,1405.8 \\n  \\\"\\/>\\n<polyline clip-path=\\\"url(#clip631)\\\" style=\\\"stroke:#cccccc; stroke-linecap:butt; stroke-linejoin:round; stroke-width:3.6; stroke-opacity:1; fill:none\\\" points=\\\"\\n  180,1341 2280,1341 \\n  \\\"\\/>\\n<polyline clip-path=\\\"url(#clip631)\\\" style=\\\"stroke:#ededed; stroke-linecap:butt; stroke-linejoin:round; stroke-width:3.6; stroke-opacity:1; fill:none\\\" points=\\\"\\n  180,1276.2 2280,1276.2 \\n  \\\"\\/>\\n<polyline clip-path=\\\"url(#clip631)\\\" style=\\\"stroke:#ededed; stroke-linecap:butt; stroke-linejoin:round; stroke-width:3.6; stroke-opacity:1; fill:none\\\" points=\\\"\\n  180,1211.4 2280,1211.4 \\n  \\\"\\/>\\n<polyline clip-path=\\\"url(#clip631)\\\" style=\\\"stroke:#ededed; stroke-linecap:butt; stroke-linejoin:round; stroke-width:3.6; stroke-opacity:1; fill:none\\\" points=\\\"\\n  180,1146.6 2280,1146.6 \\n  \\\"\\/>\\n<polyline clip-path=\\\"url(#clip631)\\\" style=\\\"stroke:#ededed; stroke-linecap:butt; stroke-linejoin:round; stroke-width:3.6; stroke-opacity:1; fill:none\\\" points=\\\"\\n  180,1081.8 2280,1081.8 \\n  \\\"\\/>\\n<polyline clip-path=\\\"url(#clip631)\\\" style=\\\"stroke:#cccccc; stroke-linecap:butt; stroke-linejoin:round; stroke-width:3.6; stroke-opacity:1; fill:none\\\" points=\\\"\\n  180,1017 2280,1017 \\n  \\\"\\/>\\n<polyline clip-path=\\\"url(#clip631)\\\" style=\\\"stroke:#ededed; stroke-linecap:butt; stroke-linejoin:round; stroke-width:3.6; stroke-opacity:1; fill:none\\\" points=\\\"\\n  180,952.2 2280,952.2 \\n  \\\"\\/>\\n<polyline clip-path=\\\"url(#clip631)\\\" style=\\\"stroke:#ededed; stroke-linecap:butt; stroke-linejoin:round; stroke-width:3.6; stroke-opacity:1; fill:none\\\" points=\\\"\\n  180,887.4 2280,887.4 \\n  \\\"\\/>\\n<polyline clip-path=\\\"url(#clip631)\\\" style=\\\"stroke:#ededed; stroke-linecap:butt; stroke-linejoin:round; stroke-width:3.6; stroke-opacity:1; fill:none\\\" points=\\\"\\n  180,822.6 2280,822.6 \\n  \\\"\\/>\\n<polyline clip-path=\\\"url(#clip631)\\\" style=\\\"stroke:#ededed; stroke-linecap:butt; stroke-linejoin:round; stroke-width:3.6; stroke-opacity:1; fill:none\\\" points=\\\"\\n  180,757.8 2280,757.8 \\n  \\\"\\/>\\n<polyline clip-path=\\\"url(#clip631)\\\" style=\\\"stroke:#cccccc; stroke-linecap:butt; stroke-linejoin:round; stroke-width:3.6; stroke-opacity:1; fill:none\\\" points=\\\"\\n  180,693 2280,693 \\n  \\\"\\/>\\n<polyline clip-path=\\\"url(#clip631)\\\" style=\\\"stroke:#ededed; stroke-linecap:butt; stroke-linejoin:round; stroke-width:3.6; stroke-opacity:1; fill:none\\\" points=\\\"\\n  180,628.2 2280,628.2 \\n  \\\"\\/>\\n<polyline clip-path=\\\"url(#clip631)\\\" style=\\\"stroke:#ededed; stroke-linecap:butt; stroke-linejoin:round; stroke-width:3.6; stroke-opacity:1; fill:none\\\" points=\\\"\\n  180,563.4 2280,563.4 \\n  \\\"\\/>\\n<polyline clip-path=\\\"url(#clip631)\\\" style=\\\"stroke:#ededed; stroke-linecap:butt; stroke-linejoin:round; stroke-width:3.6; stroke-opacity:1; fill:none\\\" points=\\\"\\n  180,498.6 2280,498.6 \\n  \\\"\\/>\\n<polyline clip-path=\\\"url(#clip631)\\\" style=\\\"stroke:#ededed; stroke-linecap:butt; stroke-linejoin:round; stroke-width:3.6; stroke-opacity:1; fill:none\\\" points=\\\"\\n  180,433.8 2280,433.8 \\n  \\\"\\/>\\n<polyline clip-path=\\\"url(#clip631)\\\" style=\\\"stroke:#cccccc; stroke-linecap:butt; stroke-linejoin:round; stroke-width:3.6; stroke-opacity:1; fill:none\\\" points=\\\"\\n  180,369 2280,369 \\n  \\\"\\/>\\n<polyline clip-path=\\\"url(#clip631)\\\" style=\\\"stroke:#ededed; stroke-linecap:butt; stroke-linejoin:round; stroke-width:3.6; stroke-opacity:1; fill:none\\\" points=\\\"\\n  180,304.2 2280,304.2 \\n  \\\"\\/>\\n<polyline clip-path=\\\"url(#clip631)\\\" style=\\\"stroke:#ededed; stroke-linecap:butt; stroke-linejoin:round; stroke-width:3.6; stroke-opacity:1; fill:none\\\" points=\\\"\\n  180,239.4 2280,239.4 \\n  \\\"\\/>\\n<polyline clip-path=\\\"url(#clip631)\\\" style=\\\"stroke:#ededed; stroke-linecap:butt; stroke-linejoin:round; stroke-width:3.6; stroke-opacity:1; fill:none\\\" points=\\\"\\n  180,174.6 2280,174.6 \\n  \\\"\\/>\\n<polyline clip-path=\\\"url(#clip631)\\\" style=\\\"stroke:#ededed; stroke-linecap:butt; stroke-linejoin:round; stroke-width:3.6; stroke-opacity:1; fill:none\\\" points=\\\"\\n  180,109.8 2280,109.8 \\n  \\\"\\/>\\n<polyline clip-path=\\\"url(#clip631)\\\" style=\\\"stroke:#cccccc; stroke-linecap:butt; stroke-linejoin:round; stroke-width:3.6; stroke-opacity:1; fill:none\\\" points=\\\"\\n  180,45 2280,45 \\n  \\\"\\/>\\n<polyline clip-path=\\\"url(#clip631)\\\" style=\\\"stroke:#cccccc; stroke-linecap:butt; stroke-linejoin:round; stroke-width:3.6; stroke-opacity:1; fill:none\\\" points=\\\"\\n  180,1665 180,45 \\n  \\\"\\/>\\n<polyline clip-path=\\\"url(#clip631)\\\" style=\\\"stroke:#ededed; stroke-linecap:butt; stroke-linejoin:round; stroke-width:3.6; stroke-opacity:1; fill:none\\\" points=\\\"\\n  250,1665 250,45 \\n  \\\"\\/>\\n<polyline clip-path=\\\"url(#clip631)\\\" style=\\\"stroke:#ededed; stroke-linecap:butt; stroke-linejoin:round; stroke-width:3.6; stroke-opacity:1; fill:none\\\" points=\\\"\\n  320,1665 320,45 \\n  \\\"\\/>\\n<polyline clip-path=\\\"url(#clip631)\\\" style=\\\"stroke:#ededed; stroke-linecap:butt; stroke-linejoin:round; stroke-width:3.6; stroke-opacity:1; fill:none\\\" points=\\\"\\n  390,1665 390,45 \\n  \\\"\\/>\\n<polyline clip-path=\\\"url(#clip631)\\\" style=\\\"stroke:#ededed; stroke-linecap:butt; stroke-linejoin:round; stroke-width:3.6; stroke-opacity:1; fill:none\\\" points=\\\"\\n  460,1665 460,45 \\n  \\\"\\/>\\n<polyline clip-path=\\\"url(#clip631)\\\" style=\\\"stroke:#cccccc; stroke-linecap:butt; stroke-linejoin:round; stroke-width:3.6; stroke-opacity:1; fill:none\\\" points=\\\"\\n  530,1665 530,45 \\n  \\\"\\/>\\n<polyline clip-path=\\\"url(#clip631)\\\" style=\\\"stroke:#ededed; stroke-linecap:butt; stroke-linejoin:round; stroke-width:3.6; stroke-opacity:1; fill:none\\\" points=\\\"\\n  600,1665 600,45 \\n  \\\"\\/>\\n<polyline clip-path=\\\"url(#clip631)\\\" style=\\\"stroke:#ededed; stroke-linecap:butt; stroke-linejoin:round; stroke-width:3.6; stroke-opacity:1; fill:none\\\" points=\\\"\\n  670,1665 670,45 \\n  \\\"\\/>\\n<polyline clip-path=\\\"url(#clip631)\\\" style=\\\"stroke:#ededed; stroke-linecap:butt; stroke-linejoin:round; stroke-width:3.6; stroke-opacity:1; fill:none\\\" points=\\\"\\n  740,1665 740,45 \\n  \\\"\\/>\\n<polyline clip-path=\\\"url(#clip631)\\\" style=\\\"stroke:#ededed; stroke-linecap:butt; stroke-linejoin:round; stroke-width:3.6; stroke-opacity:1; fill:none\\\" points=\\\"\\n  810,1665 810,45 \\n  \\\"\\/>\\n<polyline clip-path=\\\"url(#clip631)\\\" style=\\\"stroke:#cccccc; stroke-linecap:butt; stroke-linejoin:round; stroke-width:3.6; stroke-opacity:1; fill:none\\\" points=\\\"\\n  880,1665 880,45 \\n  \\\"\\/>\\n<polyline clip-path=\\\"url(#clip631)\\\" style=\\\"stroke:#ededed; stroke-linecap:butt; stroke-linejoin:round; stroke-width:3.6; stroke-opacity:1; fill:none\\\" points=\\\"\\n  950,1665 950,45 \\n  \\\"\\/>\\n<polyline clip-path=\\\"url(#clip631)\\\" style=\\\"stroke:#ededed; stroke-linecap:butt; stroke-linejoin:round; stroke-width:3.6; stroke-opacity:1; fill:none\\\" points=\\\"\\n  1020,1665 1020,45 \\n  \\\"\\/>\\n<polyline clip-path=\\\"url(#clip631)\\\" style=\\\"stroke:#ededed; stroke-linecap:butt; stroke-linejoin:round; stroke-width:3.6; stroke-opacity:1; fill:none\\\" points=\\\"\\n  1090,1665 1090,45 \\n  \\\"\\/>\\n<polyline clip-path=\\\"url(#clip631)\\\" style=\\\"stroke:#ededed; stroke-linecap:butt; stroke-linejoin:round; stroke-width:3.6; stroke-opacity:1; fill:none\\\" points=\\\"\\n  1160,1665 1160,45 \\n  \\\"\\/>\\n<polyline clip-path=\\\"url(#clip631)\\\" style=\\\"stroke:#cccccc; stroke-linecap:butt; stroke-linejoin:round; stroke-width:3.6; stroke-opacity:1; fill:none\\\" points=\\\"\\n  1230,1665 1230,45 \\n  \\\"\\/>\\n<polyline clip-path=\\\"url(#clip631)\\\" style=\\\"stroke:#ededed; stroke-linecap:butt; stroke-linejoin:round; stroke-width:3.6; stroke-opacity:1; fill:none\\\" points=\\\"\\n  1300,1665 1300,45 \\n  \\\"\\/>\\n<polyline clip-path=\\\"url(#clip631)\\\" style=\\\"stroke:#ededed; stroke-linecap:butt; stroke-linejoin:round; stroke-width:3.6; stroke-opacity:1; fill:none\\\" points=\\\"\\n  1370,1665 1370,45 \\n  \\\"\\/>\\n<polyline clip-path=\\\"url(#clip631)\\\" style=\\\"stroke:#ededed; stroke-linecap:butt; stroke-linejoin:round; stroke-width:3.6; stroke-opacity:1; fill:none\\\" points=\\\"\\n  1440,1665 1440,45 \\n  \\\"\\/>\\n<polyline clip-path=\\\"url(#clip631)\\\" style=\\\"stroke:#ededed; stroke-linecap:butt; stroke-linejoin:round; stroke-width:3.6; stroke-opacity:1; fill:none\\\" points=\\\"\\n  1510,1665 1510,45 \\n  \\\"\\/>\\n<polyline clip-path=\\\"url(#clip631)\\\" style=\\\"stroke:#cccccc; stroke-linecap:butt; stroke-linejoin:round; stroke-width:3.6; stroke-opacity:1; fill:none\\\" points=\\\"\\n  1580,1665 1580,45 \\n  \\\"\\/>\\n<polyline clip-path=\\\"url(#clip631)\\\" style=\\\"stroke:#ededed; stroke-linecap:butt; stroke-linejoin:round; stroke-width:3.6; stroke-opacity:1; fill:none\\\" points=\\\"\\n  1650,1665 1650,45 \\n  \\\"\\/>\\n<polyline clip-path=\\\"url(#clip631)\\\" style=\\\"stroke:#ededed; stroke-linecap:butt; stroke-linejoin:round; stroke-width:3.6; stroke-opacity:1; fill:none\\\" points=\\\"\\n  1720,1665 1720,45 \\n  \\\"\\/>\\n<polyline clip-path=\\\"url(#clip631)\\\" style=\\\"stroke:#ededed; stroke-linecap:butt; stroke-linejoin:round; stroke-width:3.6; stroke-opacity:1; fill:none\\\" points=\\\"\\n  1790,1665 1790,45 \\n  \\\"\\/>\\n<polyline clip-path=\\\"url(#clip631)\\\" style=\\\"stroke:#ededed; stroke-linecap:butt; stroke-linejoin:round; stroke-width:3.6; stroke-opacity:1; fill:none\\\" points=\\\"\\n  1860,1665 1860,45 \\n  \\\"\\/>\\n<polyline clip-path=\\\"url(#clip631)\\\" style=\\\"stroke:#cccccc; stroke-linecap:butt; stroke-linejoin:round; stroke-width:3.6; stroke-opacity:1; fill:none\\\" points=\\\"\\n  1930,1665 1930,45 \\n  \\\"\\/>\\n<polyline clip-path=\\\"url(#clip631)\\\" style=\\\"stroke:#ededed; stroke-linecap:butt; stroke-linejoin:round; stroke-width:3.6; stroke-opacity:1; fill:none\\\" points=\\\"\\n  2000,1665 2000,45 \\n  \\\"\\/>\\n<polyline clip-path=\\\"url(#clip631)\\\" style=\\\"stroke:#ededed; stroke-linecap:butt; stroke-linejoin:round; stroke-width:3.6; stroke-opacity:1; fill:none\\\" points=\\\"\\n  2070,1665 2070,45 \\n  \\\"\\/>\\n<polyline clip-path=\\\"url(#clip631)\\\" style=\\\"stroke:#ededed; stroke-linecap:butt; stroke-linejoin:round; stroke-width:3.6; stroke-opacity:1; fill:none\\\" points=\\\"\\n  2140,1665 2140,45 \\n  \\\"\\/>\\n<polyline clip-path=\\\"url(#clip631)\\\" style=\\\"stroke:#ededed; stroke-linecap:butt; stroke-linejoin:round; stroke-width:3.6; stroke-opacity:1; fill:none\\\" points=\\\"\\n  2210,1665 2210,45 \\n  \\\"\\/>\\n<polyline clip-path=\\\"url(#clip631)\\\" style=\\\"stroke:#cccccc; stroke-linecap:butt; stroke-linejoin:round; stroke-width:3.6; stroke-opacity:1; fill:none\\\" points=\\\"\\n  2280,1665 2280,45 \\n  \\\"\\/>\\n<path clip-path=\\\"url(#clip631)\\\" d=\\\"M123.868 1665.4 Q124.277 1665.81 124.277 1666.39 Q124.277 1666.97 123.868 1667.38 Q123.458 1667.78 122.878 1667.78 L79.1304 1667.78 Q78.5502 1667.78 78.1407 1667.38 Q77.7312 1666.97 77.7312 1666.39 Q77.7312 1665.81 78.1407 1665.4 Q78.5502 1664.99 79.1304 1664.99 L122.878 1664.99 Q123.458 1664.99 123.868 1665.4 Z\\\" fill=\\\"#000000\\\" fill-rule=\\\"evenodd\\\" fill-opacity=\\\"1\\\" \\/><path clip-path=\\\"url(#clip631)\\\" d=\\\"M131.102 1673.31 Q131.102 1665.5 141.169 1660.45 Q136.835 1657.51 136.05 1656.66 Q132.979 1653.25 132.979 1648.98 Q132.979 1644.1 136.665 1640.72 Q140.384 1637.31 145.639 1637.31 Q150.656 1637.31 154.443 1640.21 Q158.231 1643.11 158.231 1647.72 Q158.231 1654.2 149.768 1658.57 Q155.365 1662.05 156.696 1663.52 Q160.108 1667.31 160.108 1672.12 Q160.108 1677.72 155.808 1681.57 Q151.509 1685.39 145.571 1685.39 Q139.77 1685.39 135.436 1682.01 Q131.102 1678.64 131.102 1673.31 M134.583 1673.31 Q134.583 1677.65 137.825 1680.55 Q141.101 1683.45 145.639 1683.45 Q150.041 1683.45 153.317 1680.92 Q156.627 1678.4 156.627 1674.64 Q156.627 1673.18 156.116 1671.91 Q155.638 1670.65 154.648 1669.66 Q153.693 1668.64 153.078 1668.19 Q152.498 1667.72 151.372 1666.93 L142.773 1661.51 Q134.583 1666.04 134.583 1673.31 M136.05 1646.25 Q136.05 1649.6 139.565 1651.92 L148.233 1657.51 Q155.16 1653.45 155.16 1647.72 Q155.16 1644 152.328 1641.54 Q149.495 1639.05 145.571 1639.05 Q141.715 1639.05 138.883 1641.1 Q136.05 1643.11 136.05 1646.25 Z\\\" fill=\\\"#000000\\\" fill-rule=\\\"evenodd\\\" fill-opacity=\\\"1\\\" \\/><path clip-path=\\\"url(#clip631)\\\" d=\\\"M123.868 1341.4 Q124.277 1341.81 124.277 1342.39 Q124.277 1342.97 123.868 1343.38 Q123.458 1343.78 122.878 1343.78 L79.1304 1343.78 Q78.5502 1343.78 78.1407 1343.38 Q77.7312 1342.97 77.7312 1342.39 Q77.7312 1341.81 78.1407 1341.4 Q78.5502 1340.99 79.1304 1340.99 L122.878 1340.99 Q123.458 1340.99 123.868 1341.4 Z\\\" fill=\\\"#000000\\\" fill-rule=\\\"evenodd\\\" fill-opacity=\\\"1\\\" \\/><path clip-path=\\\"url(#clip631)\\\" d=\\\"M131.102 1337.78 Q131.102 1326.79 136.699 1320.07 Q142.295 1313.31 149.495 1313.31 Q153.693 1313.31 156.013 1315.46 Q158.368 1317.58 158.368 1320.85 Q158.368 1322.66 157.31 1323.45 Q156.252 1324.23 155.16 1324.23 Q153.897 1324.23 152.908 1323.38 Q151.918 1322.53 151.918 1320.99 Q151.918 1317.85 155.774 1317.85 Q153.966 1315.05 149.632 1315.05 Q148.301 1315.05 146.936 1315.46 Q145.571 1315.84 143.797 1317.13 Q142.022 1318.43 140.657 1320.48 Q139.292 1322.53 138.337 1326.38 Q137.381 1330.24 137.381 1335.25 L137.381 1336.93 Q140.248 1330 146.117 1330.03 Q151.986 1330.03 156.047 1334.5 Q160.108 1338.97 160.108 1345.59 Q160.108 1352.38 155.877 1356.89 Q151.645 1361.39 145.708 1361.39 Q143.046 1361.39 140.623 1360.27 Q138.234 1359.17 135.982 1356.65 Q133.764 1354.12 132.433 1349.28 Q131.102 1344.43 131.102 1337.78 M137.518 1344.06 Q137.518 1350.92 138.78 1354.19 Q138.985 1354.74 139.429 1355.49 Q139.906 1356.24 140.691 1357.23 Q141.51 1358.19 142.841 1358.83 Q144.172 1359.45 145.708 1359.45 Q150.383 1359.45 152.635 1354.91 Q153.829 1352.38 153.829 1345.53 Q153.829 1338.53 152.567 1335.97 Q150.417 1331.64 146.049 1331.64 Q143.114 1331.64 141.067 1333.65 Q139.053 1335.66 138.268 1338.36 Q137.518 1341.05 137.518 1344.06 Z\\\" fill=\\\"#000000\\\" fill-rule=\\\"evenodd\\\" fill-opacity=\\\"1\\\" \\/><path clip-path=\\\"url(#clip631)\\\" d=\\\"M122.878 1017.4 Q123.288 1017.81 123.288 1018.39 Q123.288 1018.97 122.878 1019.38 Q122.469 1019.78 121.889 1019.78 L78.1407 1019.78 Q77.5606 1019.78 77.1511 1019.38 Q76.7416 1018.97 76.7416 1018.39 Q76.7416 1017.81 77.1511 1017.4 Q77.5606 1016.99 78.1407 1016.99 L121.889 1016.99 Q122.469 1016.99 122.878 1017.4 Z\\\" fill=\\\"#000000\\\" fill-rule=\\\"evenodd\\\" fill-opacity=\\\"1\\\" \\/><path clip-path=\\\"url(#clip631)\\\" d=\\\"M129.123 1024.32 L129.123 1022.17 L150.587 989.38 Q151.133 988.527 151.986 988.561 Q152.771 988.561 152.942 988.868 Q153.113 989.175 153.113 990.369 L153.113 1022.17 L160.108 1022.17 L160.108 1024.32 L153.113 1024.32 L153.113 1030.4 Q153.113 1032.41 153.932 1033.06 Q154.785 1033.71 158.402 1033.71 L159.869 1033.71 L159.869 1035.86 Q157.003 1035.65 150.383 1035.65 Q143.797 1035.65 140.93 1035.86 L140.93 1033.71 L142.397 1033.71 Q146.015 1033.71 146.868 1033.09 Q147.721 1032.44 147.721 1030.4 L147.721 1024.32 L129.123 1024.32 M131.102 1022.17 L148.13 1022.17 L148.13 996.102 L131.102 1022.17 Z\\\" fill=\\\"#000000\\\" fill-rule=\\\"evenodd\\\" fill-opacity=\\\"1\\\" \\/><path clip-path=\\\"url(#clip631)\\\" d=\\\"M124.414 693.396 Q124.823 693.806 124.823 694.386 Q124.823 694.966 124.414 695.375 Q124.004 695.785 123.424 695.785 L79.6763 695.785 Q79.0962 695.785 78.6867 695.375 Q78.2772 694.966 78.2772 694.386 Q78.2772 693.806 78.6867 693.396 Q79.0962 692.987 79.6763 692.987 L123.424 692.987 Q124.004 692.987 124.414 693.396 Z\\\" fill=\\\"#000000\\\" fill-rule=\\\"evenodd\\\" fill-opacity=\\\"1\\\" \\/><path clip-path=\\\"url(#clip631)\\\" d=\\\"M132.194 711.857 Q132.194 710.595 132.297 710.219 Q132.433 709.844 132.979 709.264 L146.39 694.317 Q153.727 686.059 153.727 678.859 Q153.727 674.184 151.27 670.84 Q148.847 667.495 144.377 667.495 Q141.305 667.495 138.712 669.372 Q136.119 671.249 134.924 674.593 Q135.129 674.525 135.846 674.525 Q137.586 674.525 138.541 675.617 Q139.531 676.709 139.531 678.176 Q139.531 680.053 138.303 680.975 Q137.108 681.862 135.914 681.862 Q135.436 681.862 134.788 681.76 Q134.173 681.657 133.184 680.702 Q132.194 679.712 132.194 677.972 Q132.194 673.092 135.88 669.202 Q139.599 665.311 145.264 665.311 Q151.679 665.311 155.877 669.133 Q160.108 672.921 160.108 678.859 Q160.108 680.941 159.46 682.851 Q158.846 684.728 157.992 686.196 Q157.173 687.663 154.921 690.018 Q152.669 692.372 150.86 694.044 Q149.052 695.716 144.991 699.265 L137.586 706.466 L150.178 706.466 Q156.32 706.466 156.798 705.92 Q157.481 704.93 158.334 699.709 L160.108 699.709 L158.129 711.857 L132.194 711.857 Z\\\" fill=\\\"#000000\\\" fill-rule=\\\"evenodd\\\" fill-opacity=\\\"1\\\" \\/><path clip-path=\\\"url(#clip631)\\\" d=\\\"M130.693 365.506 Q130.693 355.234 133.286 349.638 Q136.903 341.311 145.435 341.311 Q147.243 341.311 149.12 341.823 Q151.031 342.301 153.42 344.178 Q155.843 346.055 157.31 349.126 Q160.108 355.064 160.108 365.506 Q160.108 375.709 157.515 381.271 Q153.727 389.393 145.366 389.393 Q142.227 389.393 139.019 387.789 Q135.846 386.185 133.832 382.329 Q130.693 376.562 130.693 365.506 M136.494 364.653 Q136.494 375.197 137.245 379.395 Q138.098 383.933 140.418 385.912 Q142.773 387.857 145.366 387.857 Q148.165 387.857 150.485 385.776 Q152.84 383.66 153.556 379.122 Q154.341 374.651 154.307 364.653 Q154.307 354.927 153.624 351.037 Q152.703 346.498 150.246 344.69 Q147.823 342.847 145.366 342.847 Q144.445 342.847 143.455 343.12 Q142.5 343.393 141.101 344.178 Q139.702 344.963 138.61 346.908 Q137.552 348.853 137.04 351.788 Q136.494 355.576 136.494 364.653 Z\\\" fill=\\\"#000000\\\" fill-rule=\\\"evenodd\\\" fill-opacity=\\\"1\\\" \\/><path clip-path=\\\"url(#clip631)\\\" d=\\\"M132.194 63.8575 Q132.194 62.5948 132.297 62.2195 Q132.433 61.8441 132.979 61.264 L146.39 46.3174 Q153.727 38.0592 153.727 30.8589 Q153.727 26.1838 151.27 22.8396 Q148.847 19.4954 144.377 19.4954 Q141.305 19.4954 138.712 21.3723 Q136.119 23.2491 134.924 26.5933 Q135.129 26.5251 135.846 26.5251 Q137.586 26.5251 138.541 27.6171 Q139.531 28.7091 139.531 30.1764 Q139.531 32.0533 138.303 32.9746 Q137.108 33.8619 135.914 33.8619 Q135.436 33.8619 134.788 33.7595 Q134.173 33.6571 133.184 32.7016 Q132.194 31.712 132.194 29.9717 Q132.194 25.0918 135.88 21.2016 Q139.599 17.3114 145.264 17.3114 Q151.679 17.3114 155.877 21.1334 Q160.108 24.9212 160.108 30.8589 Q160.108 32.9405 159.46 34.8515 Q158.846 36.7284 157.992 38.1957 Q157.173 39.6631 154.921 42.0177 Q152.669 44.3723 150.86 46.0444 Q149.052 47.7165 144.991 51.2655 L137.586 58.4658 L150.178 58.4658 Q156.32 58.4658 156.798 57.9198 Q157.481 56.9302 158.334 51.7091 L160.108 51.7091 L158.129 63.8575 L132.194 63.8575 Z\\\" fill=\\\"#000000\\\" fill-rule=\\\"evenodd\\\" fill-opacity=\\\"1\\\" \\/><polyline clip-path=\\\"url(#clip631)\\\" style=\\\"stroke:#000000; stroke-linecap:butt; stroke-linejoin:round; stroke-width:3.6; stroke-opacity:1; fill:none\\\" points=\\\"\\n  180,1665 180,1665 219.784,1665 180,1665 180,1600.2 199.892,1600.2 180,1600.2 180,1535.4 199.892,1535.4 180,1535.4 \\n  180,1470.6 199.892,1470.6 180,1470.6 180,1405.8 199.892,1405.8 180,1405.8 180,1341 219.784,1341 180,1341 180,1276.2 \\n  199.892,1276.2 180,1276.2 180,1211.4 199.892,1211.4 180,1211.4 180,1146.6 199.892,1146.6 180,1146.6 180,1081.8 199.892,1081.8 \\n  180,1081.8 180,1017 219.784,1017 180,1017 180,952.2 199.892,952.2 180,952.2 180,887.4 199.892,887.4 180,887.4 \\n  180,822.6 199.892,822.6 180,822.6 180,757.8 199.892,757.8 180,757.8 180,693 219.784,693 180,693 180,628.2 \\n  199.892,628.2 180,628.2 180,563.4 199.892,563.4 180,563.4 180,498.6 199.892,498.6 180,498.6 180,433.8 199.892,433.8 \\n  180,433.8 180,369 219.784,369 180,369 180,304.2 199.892,304.2 180,304.2 180,239.4 199.892,239.4 180,239.4 \\n  180,174.6 199.892,174.6 180,174.6 180,109.8 199.892,109.8 180,109.8 180,45 219.784,45 180,45 \\n  \\n  \\\"\\/>\\n<path clip-path=\\\"url(#clip631)\\\" d=\\\"M165.292 1721.74 Q165.292 1711.47 167.886 1705.87 Q171.503 1697.54 180.034 1697.54 Q181.843 1697.54 183.72 1698.06 Q185.631 1698.53 188.019 1700.41 Q190.442 1702.29 191.91 1705.36 Q194.708 1711.3 194.708 1721.74 Q194.708 1731.94 192.114 1737.5 Q188.326 1745.63 179.966 1745.63 Q176.826 1745.63 173.619 1744.02 Q170.445 1742.42 168.432 1738.56 Q165.292 1732.79 165.292 1721.74 M171.093 1720.89 Q171.093 1731.43 171.844 1735.63 Q172.697 1740.17 175.018 1742.14 Q177.372 1744.09 179.966 1744.09 Q182.764 1744.09 185.085 1742.01 Q187.439 1739.89 188.156 1735.35 Q188.941 1730.88 188.907 1720.89 Q188.907 1711.16 188.224 1707.27 Q187.303 1702.73 184.846 1700.92 Q182.423 1699.08 179.966 1699.08 Q179.045 1699.08 178.055 1699.35 Q177.099 1699.63 175.7 1700.41 Q174.301 1701.2 173.209 1703.14 Q172.151 1705.09 171.639 1708.02 Q171.093 1711.81 171.093 1720.89 Z\\\" fill=\\\"#000000\\\" fill-rule=\\\"evenodd\\\" fill-opacity=\\\"1\\\" \\/><path clip-path=\\\"url(#clip631)\\\" d=\\\"M499.561 1704.2 L499.561 1702.01 Q507.955 1702.01 512.289 1697.54 Q513.484 1697.54 513.688 1697.82 Q513.893 1698.09 513.893 1699.35 L513.893 1738.56 Q513.893 1740.64 514.917 1741.29 Q515.941 1741.94 520.411 1741.94 L522.629 1741.94 L522.629 1744.09 Q520.172 1743.89 511.3 1743.89 Q502.427 1743.89 500.004 1744.09 L500.004 1741.94 L502.223 1741.94 Q506.625 1741.94 507.682 1741.33 Q508.74 1740.68 508.74 1738.56 L508.74 1702.36 Q505.089 1704.2 499.561 1704.2 Z\\\" fill=\\\"#000000\\\" fill-rule=\\\"evenodd\\\" fill-opacity=\\\"1\\\" \\/><path clip-path=\\\"url(#clip631)\\\" d=\\\"M531.024 1721.74 Q531.024 1711.47 533.617 1705.87 Q537.234 1697.54 545.766 1697.54 Q547.574 1697.54 549.451 1698.06 Q551.362 1698.53 553.751 1700.41 Q556.174 1702.29 557.641 1705.36 Q560.439 1711.3 560.439 1721.74 Q560.439 1731.94 557.846 1737.5 Q554.058 1745.63 545.697 1745.63 Q542.558 1745.63 539.35 1744.02 Q536.177 1742.42 534.163 1738.56 Q531.024 1732.79 531.024 1721.74 M536.825 1720.89 Q536.825 1731.43 537.576 1735.63 Q538.429 1740.17 540.749 1742.14 Q543.104 1744.09 545.697 1744.09 Q548.496 1744.09 550.816 1742.01 Q553.171 1739.89 553.887 1735.35 Q554.672 1730.88 554.638 1720.89 Q554.638 1711.16 553.956 1707.27 Q553.034 1702.73 550.577 1700.92 Q548.154 1699.08 545.697 1699.08 Q544.776 1699.08 543.786 1699.35 Q542.831 1699.63 541.432 1700.41 Q540.033 1701.2 538.941 1703.14 Q537.883 1705.09 537.371 1708.02 Q536.825 1711.81 536.825 1720.89 Z\\\" fill=\\\"#000000\\\" fill-rule=\\\"evenodd\\\" fill-opacity=\\\"1\\\" \\/><path clip-path=\\\"url(#clip631)\\\" d=\\\"M848.196 1744.09 Q848.196 1742.83 848.298 1742.45 Q848.435 1742.08 848.981 1741.5 L862.392 1726.55 Q869.728 1718.29 869.728 1711.09 Q869.728 1706.42 867.272 1703.07 Q864.849 1699.73 860.378 1699.73 Q857.307 1699.73 854.714 1701.6 Q852.12 1703.48 850.926 1706.83 Q851.131 1706.76 851.847 1706.76 Q853.588 1706.76 854.543 1707.85 Q855.533 1708.94 855.533 1710.41 Q855.533 1712.29 854.304 1713.21 Q853.11 1714.09 851.915 1714.09 Q851.438 1714.09 850.789 1713.99 Q850.175 1713.89 849.185 1712.93 Q848.196 1711.94 848.196 1710.2 Q848.196 1705.32 851.881 1701.43 Q855.601 1697.54 861.266 1697.54 Q867.681 1697.54 871.878 1701.37 Q876.11 1705.15 876.11 1711.09 Q876.11 1713.17 875.461 1715.08 Q874.847 1716.96 873.994 1718.43 Q873.175 1719.9 870.923 1722.25 Q868.671 1724.6 866.862 1726.28 Q865.053 1727.95 860.993 1731.5 L853.588 1738.7 L866.18 1738.7 Q872.322 1738.7 872.8 1738.15 Q873.482 1737.16 874.335 1731.94 L876.11 1731.94 L874.131 1744.09 L848.196 1744.09 Z\\\" fill=\\\"#000000\\\" fill-rule=\\\"evenodd\\\" fill-opacity=\\\"1\\\" \\/><path clip-path=\\\"url(#clip631)\\\" d=\\\"M882.389 1721.74 Q882.389 1711.47 884.982 1705.87 Q888.599 1697.54 897.131 1697.54 Q898.939 1697.54 900.816 1698.06 Q902.727 1698.53 905.116 1700.41 Q907.539 1702.29 909.006 1705.36 Q911.804 1711.3 911.804 1721.74 Q911.804 1731.94 909.211 1737.5 Q905.423 1745.63 897.062 1745.63 Q893.923 1745.63 890.715 1744.02 Q887.542 1742.42 885.528 1738.56 Q882.389 1732.79 882.389 1721.74 M888.19 1720.89 Q888.19 1731.43 888.941 1735.63 Q889.794 1740.17 892.114 1742.14 Q894.469 1744.09 897.062 1744.09 Q899.861 1744.09 902.181 1742.01 Q904.536 1739.89 905.252 1735.35 Q906.037 1730.88 906.003 1720.89 Q906.003 1711.16 905.32 1707.27 Q904.399 1702.73 901.942 1700.92 Q899.519 1699.08 897.062 1699.08 Q896.141 1699.08 895.151 1699.35 Q894.196 1699.63 892.797 1700.41 Q891.398 1701.2 890.306 1703.14 Q889.248 1705.09 888.736 1708.02 Q888.19 1711.81 888.19 1720.89 Z\\\" fill=\\\"#000000\\\" fill-rule=\\\"evenodd\\\" fill-opacity=\\\"1\\\" \\/><path clip-path=\\\"url(#clip631)\\\" d=\\\"M1197.92 1734.67 Q1197.92 1732.59 1199.12 1731.6 Q1200.31 1730.61 1201.85 1730.61 Q1203.45 1730.61 1204.58 1731.67 Q1205.74 1732.69 1205.74 1734.5 Q1205.74 1736.45 1204.37 1737.54 Q1203.04 1738.63 1201.13 1738.36 Q1202.8 1741.16 1205.87 1742.42 Q1208.98 1743.68 1211.85 1743.68 Q1214.85 1743.68 1217.27 1741.09 Q1219.73 1738.49 1219.73 1732.15 Q1219.73 1726.75 1217.61 1723.65 Q1215.53 1720.54 1211.4 1720.54 L1208.33 1720.54 Q1207.27 1720.54 1206.97 1720.44 Q1206.66 1720.34 1206.66 1719.76 Q1206.66 1719.08 1207.72 1718.94 Q1208.77 1718.94 1210.45 1718.74 Q1214.51 1718.6 1216.66 1715.08 Q1218.6 1711.81 1218.6 1707.13 Q1218.6 1702.87 1216.55 1701.09 Q1214.54 1699.28 1211.91 1699.28 Q1209.46 1699.28 1206.76 1700.31 Q1204.07 1701.33 1202.6 1703.62 Q1206.93 1703.62 1206.93 1707.13 Q1206.93 1708.67 1205.94 1709.69 Q1204.99 1710.68 1203.38 1710.68 Q1201.85 1710.68 1200.82 1709.73 Q1199.8 1708.74 1199.8 1707.06 Q1199.8 1703.07 1203.35 1700.31 Q1206.93 1697.54 1212.19 1697.54 Q1217.37 1697.54 1221.2 1700.27 Q1225.05 1703 1225.05 1707.2 Q1225.05 1711.33 1222.32 1714.71 Q1219.59 1718.09 1215.26 1719.49 Q1220.58 1720.54 1223.76 1724.16 Q1226.93 1727.74 1226.93 1732.15 Q1226.93 1737.61 1222.63 1741.63 Q1218.33 1745.63 1212.05 1745.63 Q1206.25 1745.63 1202.09 1742.49 Q1197.92 1739.35 1197.92 1734.67 Z\\\" fill=\\\"#000000\\\" fill-rule=\\\"evenodd\\\" fill-opacity=\\\"1\\\" \\/><path clip-path=\\\"url(#clip631)\\\" d=\\\"M1232.66 1721.74 Q1232.66 1711.47 1235.26 1705.87 Q1238.87 1697.54 1247.4 1697.54 Q1249.21 1697.54 1251.09 1698.06 Q1253 1698.53 1255.39 1700.41 Q1257.81 1702.29 1259.28 1705.36 Q1262.08 1711.3 1262.08 1721.74 Q1262.08 1731.94 1259.48 1737.5 Q1255.7 1745.63 1247.34 1745.63 Q1244.2 1745.63 1240.99 1744.02 Q1237.81 1742.42 1235.8 1738.56 Q1232.66 1732.79 1232.66 1721.74 M1238.46 1720.89 Q1238.46 1731.43 1239.21 1735.63 Q1240.07 1740.17 1242.39 1742.14 Q1244.74 1744.09 1247.34 1744.09 Q1250.13 1744.09 1252.45 1742.01 Q1254.81 1739.89 1255.53 1735.35 Q1256.31 1730.88 1256.28 1720.89 Q1256.28 1711.16 1255.59 1707.27 Q1254.67 1702.73 1252.22 1700.92 Q1249.79 1699.08 1247.34 1699.08 Q1246.41 1699.08 1245.42 1699.35 Q1244.47 1699.63 1243.07 1700.41 Q1241.67 1701.2 1240.58 1703.14 Q1239.52 1705.09 1239.01 1708.02 Q1238.46 1711.81 1238.46 1720.89 Z\\\" fill=\\\"#000000\\\" fill-rule=\\\"evenodd\\\" fill-opacity=\\\"1\\\" \\/><path clip-path=\\\"url(#clip631)\\\" d=\\\"M1547.43 1732.56 L1547.43 1730.41 L1568.89 1697.61 Q1569.44 1696.76 1570.29 1696.79 Q1571.08 1696.79 1571.25 1697.1 Q1571.42 1697.41 1571.42 1698.6 L1571.42 1730.41 L1578.41 1730.41 L1578.41 1732.56 L1571.42 1732.56 L1571.42 1738.63 Q1571.42 1740.64 1572.24 1741.29 Q1573.09 1741.94 1576.71 1741.94 L1578.17 1741.94 L1578.17 1744.09 Q1575.31 1743.89 1568.69 1743.89 Q1562.1 1743.89 1559.24 1744.09 L1559.24 1741.94 L1560.7 1741.94 Q1564.32 1741.94 1565.17 1741.33 Q1566.03 1740.68 1566.03 1738.63 L1566.03 1732.56 L1547.43 1732.56 M1549.41 1730.41 L1566.44 1730.41 L1566.44 1704.33 L1549.41 1730.41 Z\\\" fill=\\\"#000000\\\" fill-rule=\\\"evenodd\\\" fill-opacity=\\\"1\\\" \\/><path clip-path=\\\"url(#clip631)\\\" d=\\\"M1583.16 1721.74 Q1583.16 1711.47 1585.75 1705.87 Q1589.37 1697.54 1597.9 1697.54 Q1599.71 1697.54 1601.58 1698.06 Q1603.49 1698.53 1605.88 1700.41 Q1608.31 1702.29 1609.77 1705.36 Q1612.57 1711.3 1612.57 1721.74 Q1612.57 1731.94 1609.98 1737.5 Q1606.19 1745.63 1597.83 1745.63 Q1594.69 1745.63 1591.48 1744.02 Q1588.31 1742.42 1586.3 1738.56 Q1583.16 1732.79 1583.16 1721.74 M1588.96 1720.89 Q1588.96 1731.43 1589.71 1735.63 Q1590.56 1740.17 1592.88 1742.14 Q1595.24 1744.09 1597.83 1744.09 Q1600.63 1744.09 1602.95 1742.01 Q1605.3 1739.89 1606.02 1735.35 Q1606.8 1730.88 1606.77 1720.89 Q1606.77 1711.16 1606.09 1707.27 Q1605.17 1702.73 1602.71 1700.92 Q1600.29 1699.08 1597.83 1699.08 Q1596.91 1699.08 1595.92 1699.35 Q1594.96 1699.63 1593.56 1700.41 Q1592.17 1701.2 1591.07 1703.14 Q1590.02 1705.09 1589.5 1708.02 Q1588.96 1711.81 1588.96 1720.89 Z\\\" fill=\\\"#000000\\\" fill-rule=\\\"evenodd\\\" fill-opacity=\\\"1\\\" \\/><path clip-path=\\\"url(#clip631)\\\" d=\\\"M1898.2 1732.83 Q1898.2 1730.75 1899.32 1729.96 Q1900.45 1729.14 1901.64 1729.14 Q1903.25 1729.14 1904.17 1730.17 Q1905.12 1731.16 1905.12 1732.56 Q1905.12 1733.95 1904.17 1734.98 Q1903.25 1735.97 1901.64 1735.97 Q1900.86 1735.97 1900.45 1735.83 Q1901.37 1739.04 1904.17 1741.36 Q1907 1743.68 1910.72 1743.68 Q1915.39 1743.68 1918.19 1739.14 Q1919.86 1736.21 1919.86 1729.55 Q1919.86 1723.68 1918.6 1720.75 Q1916.66 1716.28 1912.66 1716.28 Q1907 1716.28 1903.66 1721.16 Q1903.25 1721.77 1902.77 1721.81 Q1902.09 1721.81 1901.92 1721.43 Q1901.78 1721.02 1901.78 1719.96 L1901.78 1699.28 Q1901.78 1697.61 1902.46 1697.61 Q1902.73 1697.61 1903.31 1697.82 Q1907.72 1699.76 1912.6 1699.8 Q1917.61 1699.8 1922.12 1697.75 Q1922.46 1697.54 1922.66 1697.54 Q1923.35 1697.54 1923.38 1698.33 Q1923.38 1698.6 1922.8 1699.42 Q1922.25 1700.21 1921.06 1701.26 Q1919.86 1702.29 1918.33 1703.28 Q1916.79 1704.27 1914.54 1704.95 Q1912.32 1705.6 1909.87 1705.6 Q1906.93 1705.6 1903.93 1704.68 L1903.93 1718.29 Q1907.55 1714.74 1912.8 1714.74 Q1918.4 1714.74 1922.25 1719.25 Q1926.11 1723.75 1926.11 1730.03 Q1926.11 1736.62 1921.54 1741.12 Q1917 1745.63 1910.86 1745.63 Q1905.26 1745.63 1901.71 1741.63 Q1898.2 1737.64 1898.2 1732.83 Z\\\" fill=\\\"#000000\\\" fill-rule=\\\"evenodd\\\" fill-opacity=\\\"1\\\" \\/><path clip-path=\\\"url(#clip631)\\\" d=\\\"M1932.39 1721.74 Q1932.39 1711.47 1934.98 1705.87 Q1938.6 1697.54 1947.13 1697.54 Q1948.94 1697.54 1950.82 1698.06 Q1952.73 1698.53 1955.12 1700.41 Q1957.54 1702.29 1959.01 1705.36 Q1961.8 1711.3 1961.8 1721.74 Q1961.8 1731.94 1959.21 1737.5 Q1955.42 1745.63 1947.06 1745.63 Q1943.92 1745.63 1940.72 1744.02 Q1937.54 1742.42 1935.53 1738.56 Q1932.39 1732.79 1932.39 1721.74 M1938.19 1720.89 Q1938.19 1731.43 1938.94 1735.63 Q1939.79 1740.17 1942.11 1742.14 Q1944.47 1744.09 1947.06 1744.09 Q1949.86 1744.09 1952.18 1742.01 Q1954.54 1739.89 1955.25 1735.35 Q1956.04 1730.88 1956 1720.89 Q1956 1711.16 1955.32 1707.27 Q1954.4 1702.73 1951.94 1700.92 Q1949.52 1699.08 1947.06 1699.08 Q1946.14 1699.08 1945.15 1699.35 Q1944.2 1699.63 1942.8 1700.41 Q1941.4 1701.2 1940.31 1703.14 Q1939.25 1705.09 1938.74 1708.02 Q1938.19 1711.81 1938.19 1720.89 Z\\\" fill=\\\"#000000\\\" fill-rule=\\\"evenodd\\\" fill-opacity=\\\"1\\\" \\/><path clip-path=\\\"url(#clip631)\\\" d=\\\"M2247.92 1722.01 Q2247.92 1711.02 2253.52 1704.3 Q2259.12 1697.54 2266.32 1697.54 Q2270.51 1697.54 2272.83 1699.69 Q2275.19 1701.81 2275.19 1705.09 Q2275.19 1706.89 2274.13 1707.68 Q2273.07 1708.46 2271.98 1708.46 Q2270.72 1708.46 2269.73 1707.61 Q2268.74 1706.76 2268.74 1705.22 Q2268.74 1702.08 2272.59 1702.08 Q2270.79 1699.28 2266.45 1699.28 Q2265.12 1699.28 2263.76 1699.69 Q2262.39 1700.07 2260.62 1701.37 Q2258.84 1702.66 2257.48 1704.71 Q2256.11 1706.76 2255.16 1710.61 Q2254.2 1714.47 2254.2 1719.49 L2254.2 1721.16 Q2257.07 1714.23 2262.94 1714.26 Q2268.81 1714.26 2272.87 1718.74 Q2276.93 1723.21 2276.93 1729.83 Q2276.93 1736.62 2272.7 1741.12 Q2268.47 1745.63 2262.53 1745.63 Q2259.87 1745.63 2257.44 1744.5 Q2255.05 1743.41 2252.8 1740.88 Q2250.58 1738.36 2249.25 1733.51 Q2247.92 1728.67 2247.92 1722.01 M2254.34 1728.29 Q2254.34 1735.15 2255.6 1738.43 Q2255.81 1738.97 2256.25 1739.72 Q2256.73 1740.47 2257.51 1741.46 Q2258.33 1742.42 2259.66 1743.07 Q2260.99 1743.68 2262.53 1743.68 Q2267.2 1743.68 2269.46 1739.14 Q2270.65 1736.62 2270.65 1729.76 Q2270.65 1722.76 2269.39 1720.2 Q2267.24 1715.87 2262.87 1715.87 Q2259.93 1715.87 2257.89 1717.88 Q2255.87 1719.9 2255.09 1722.59 Q2254.34 1725.29 2254.34 1728.29 Z\\\" fill=\\\"#000000\\\" fill-rule=\\\"evenodd\\\" fill-opacity=\\\"1\\\" \\/><path clip-path=\\\"url(#clip631)\\\" d=\\\"M2282.66 1721.74 Q2282.66 1711.47 2285.26 1705.87 Q2288.87 1697.54 2297.4 1697.54 Q2299.21 1697.54 2301.09 1698.06 Q2303 1698.53 2305.39 1700.41 Q2307.81 1702.29 2309.28 1705.36 Q2312.08 1711.3 2312.08 1721.74 Q2312.08 1731.94 2309.48 1737.5 Q2305.7 1745.63 2297.34 1745.63 Q2294.2 1745.63 2290.99 1744.02 Q2287.81 1742.42 2285.8 1738.56 Q2282.66 1732.79 2282.66 1721.74 M2288.46 1720.89 Q2288.46 1731.43 2289.21 1735.63 Q2290.07 1740.17 2292.39 1742.14 Q2294.74 1744.09 2297.34 1744.09 Q2300.13 1744.09 2302.45 1742.01 Q2304.81 1739.89 2305.53 1735.35 Q2306.31 1730.88 2306.28 1720.89 Q2306.28 1711.16 2305.59 1707.27 Q2304.67 1702.73 2302.22 1700.92 Q2299.79 1699.08 2297.34 1699.08 Q2296.41 1699.08 2295.42 1699.35 Q2294.47 1699.63 2293.07 1700.41 Q2291.67 1701.2 2290.58 1703.14 Q2289.52 1705.09 2289.01 1708.02 Q2288.46 1711.81 2288.46 1720.89 Z\\\" fill=\\\"#000000\\\" fill-rule=\\\"evenodd\\\" fill-opacity=\\\"1\\\" \\/><polyline clip-path=\\\"url(#clip631)\\\" style=\\\"stroke:#000000; stroke-linecap:butt; stroke-linejoin:round; stroke-width:3.6; stroke-opacity:1; fill:none\\\" points=\\\"\\n  180,1665 180,1665 180,1625.22 180,1665 250,1665 250,1645.11 250,1665 320,1665 320,1645.11 320,1665 \\n  390,1665 390,1645.11 390,1665 460,1665 460,1645.11 460,1665 530,1665 530,1625.22 530,1665 600,1665 \\n  600,1645.11 600,1665 670,1665 670,1645.11 670,1665 740,1665 740,1645.11 740,1665 810,1665 810,1645.11 \\n  810,1665 880,1665 880,1625.22 880,1665 950,1665 950,1645.11 950,1665 1020,1665 1020,1645.11 1020,1665 \\n  1090,1665 1090,1645.11 1090,1665 1160,1665 1160,1645.11 1160,1665 1230,1665 1230,1625.22 1230,1665 1300,1665 \\n  1300,1645.11 1300,1665 1370,1665 1370,1645.11 1370,1665 1440,1665 1440,1645.11 1440,1665 1510,1665 1510,1645.11 \\n  1510,1665 1580,1665 1580,1625.22 1580,1665 1650,1665 1650,1645.11 1650,1665 1720,1665 1720,1645.11 1720,1665 \\n  1790,1665 1790,1645.11 1790,1665 1860,1665 1860,1645.11 1860,1665 1930,1665 1930,1625.22 1930,1665 2000,1665 \\n  2000,1645.11 2000,1665 2070,1665 2070,1645.11 2070,1665 2140,1665 2140,1645.11 2140,1665 2210,1665 2210,1645.11 \\n  2210,1665 2280,1665 2280,1625.22 2280,1665 \\n  \\\"\\/>\\n<polyline clip-path=\\\"url(#clip631)\\\" style=\\\"stroke:#000000; stroke-linecap:butt; stroke-linejoin:round; stroke-width:3.6; stroke-opacity:1; fill:none\\\" points=\\\"\\n  2280,1665 2280,1665 2240.22,1665 2280,1665 2280,1600.2 2260.11,1600.2 2280,1600.2 2280,1535.4 2260.11,1535.4 2280,1535.4 \\n  2280,1470.6 2260.11,1470.6 2280,1470.6 2280,1405.8 2260.11,1405.8 2280,1405.8 2280,1341 2240.22,1341 2280,1341 2280,1276.2 \\n  2260.11,1276.2 2280,1276.2 2280,1211.4 2260.11,1211.4 2280,1211.4 2280,1146.6 2260.11,1146.6 2280,1146.6 2280,1081.8 2260.11,1081.8 \\n  2280,1081.8 2280,1017 2240.22,1017 2280,1017 2280,952.2 2260.11,952.2 2280,952.2 2280,887.4 2260.11,887.4 2280,887.4 \\n  2280,822.6 2260.11,822.6 2280,822.6 2280,757.8 2260.11,757.8 2280,757.8 2280,693 2240.22,693 2280,693 2280,628.2 \\n  2260.11,628.2 2280,628.2 2280,563.4 2260.11,563.4 2280,563.4 2280,498.6 2260.11,498.6 2280,498.6 2280,433.8 2260.11,433.8 \\n  2280,433.8 2280,369 2240.22,369 2280,369 2280,304.2 2260.11,304.2 2280,304.2 2280,239.4 2260.11,239.4 2280,239.4 \\n  2280,174.6 2260.11,174.6 2280,174.6 2280,109.8 2260.11,109.8 2280,109.8 2280,45 2240.22,45 2280,45 \\n  \\n  \\\"\\/>\\n<polyline clip-path=\\\"url(#clip631)\\\" style=\\\"stroke:#000000; stroke-linecap:butt; stroke-linejoin:round; stroke-width:3.6; stroke-opacity:1; fill:none\\\" points=\\\"\\n  180,45 180,45 180,84.7837 180,45 250,45 250,64.8918 250,45 320,45 320,64.8918 320,45 \\n  390,45 390,64.8918 390,45 460,45 460,64.8918 460,45 530,45 530,84.7837 530,45 600,45 \\n  600,64.8918 600,45 670,45 670,64.8918 670,45 740,45 740,64.8918 740,45 810,45 810,64.8918 \\n  810,45 880,45 880,84.7837 880,45 950,45 950,64.8918 950,45 1020,45 1020,64.8918 1020,45 \\n  1090,45 1090,64.8918 1090,45 1160,45 1160,64.8918 1160,45 1230,45 1230,84.7837 1230,45 1300,45 \\n  1300,64.8918 1300,45 1370,45 1370,64.8918 1370,45 1440,45 1440,64.8918 1440,45 1510,45 1510,64.8918 \\n  1510,45 1580,45 1580,84.7837 1580,45 1650,45 1650,64.8918 1650,45 1720,45 1720,64.8918 1720,45 \\n  1790,45 1790,64.8918 1790,45 1860,45 1860,64.8918 1860,45 1930,45 1930,84.7837 1930,45 2000,45 \\n  2000,64.8918 2000,45 2070,45 2070,64.8918 2070,45 2140,45 2140,64.8918 2140,45 2210,45 2210,64.8918 \\n  2210,45 2280,45 2280,84.7837 2280,45 \\n  \\\"\\/>\\n<polyline clip-path=\\\"url(#clip630)\\\" style=\\\"stroke:#00528a; stroke-linecap:butt; stroke-linejoin:round; stroke-width:3.6; stroke-opacity:1; fill:none\\\" points=\\\"\\n  180,369 215,207 250,45 285,207 320,369 355,531 390,369 425,207 460,45 495,207 \\n  530,369 565,207 600,369 635,531 670,693 705,531 740,693 775,855 810,1017 845,1179 \\n  880,1017 915,855 950,693 985,531 1020,369 1055,207 1090,45 1125,207 1160,369 1195,207 \\n  1230,369 1265,207 1300,369 1335,531 1370,369 1405,531 1440,369 1475,207 1510,369 1545,531 \\n  1580,369 1615,531 1650,693 1685,531 1720,693 1755,855 1790,1017 1825,1179 1860,1017 1895,1179 \\n  1930,1341 1965,1503 2000,1665 2035,1503 2070,1341 2105,1503 \\n  \\\"\\/>\\n<\\/svg>\\n\"},\"nodeType\":\"DOM\",\"type\":\"node\",\"instanceArgs\":{\"namespace\":\"html\",\"tag\":\"div\"},\"children\":[]}]}}}},\"children\":[{\"props\":{},\"nodeType\":\"ObservableNode\",\"type\":\"node\",\"instanceArgs\":{\"id\":\"9753451202353083692\",\"name\":\"obs-node\"},\"children\":[]}]}]},\n",
       "        window,\n",
       "    );\n",
       "    })()\n",
       "    </script>\n",
       "</div>\n"
      ],
      "text/plain": [
       "Node{WebIO.DOM}(WebIO.DOM(:html, :div), Any[Node{WebIO.DOM}(WebIO.DOM(:html, :div), Any[Scope(Node{WebIO.DOM}(WebIO.DOM(:html, :div), Any[Node{WebIO.DOM}(WebIO.DOM(:html, :div), Any[Node{WebIO.DOM}(WebIO.DOM(:html, :label), Any[\"T\"], Dict{Symbol, Any}(:className => \"interact \", :style => Dict{Any, Any}(:padding => \"5px 10px 0px 10px\")))], Dict{Symbol, Any}(:className => \"interact-flex-row-left\")), Node{WebIO.DOM}(WebIO.DOM(:html, :div), Any[Node{WebIO.DOM}(WebIO.DOM(:html, :input), Any[], Dict{Symbol, Any}(:max => 100, :min => 10, :attributes => Dict{Any, Any}(:type => \"range\", Symbol(\"data-bind\") => \"numericValue: index, valueUpdate: 'input', event: {change: function (){this.changes(this.changes()+1)}}\", \"orient\" => \"horizontal\"), :step => 1, :className => \"slider slider is-fullwidth\", :style => Dict{Any, Any}()))], Dict{Symbol, Any}(:className => \"interact-flex-row-center\")), Node{WebIO.DOM}(WebIO.DOM(:html, :div), Any[Node{WebIO.DOM}(WebIO.DOM(:html, :p), Any[], Dict{Symbol, Any}(:attributes => Dict(\"data-bind\" => \"text: formatted_val\")))], Dict{Symbol, Any}(:className => \"interact-flex-row-right\"))], Dict{Symbol, Any}(:className => \"interact-flex-row interact-widget\")), Dict{String, Tuple{Observables.AbstractObservable, Union{Nothing, Bool}}}(\"changes\" => (Observable{Int64} with 1 listeners. Value:\n",
       "0, nothing), \"index\" => (Observable{Int64} with 2 listeners. Value:\n",
       "55, nothing)), Set{String}(), nothing, Asset[Asset(\"js\", \"knockout\", \"/Users/feizhanxia/.julia/packages/Knockout/3gjS1/src/../assets/knockout.js\"), Asset(\"js\", \"knockout_punches\", \"/Users/feizhanxia/.julia/packages/Knockout/3gjS1/src/../assets/knockout_punches.js\"), Asset(\"js\", nothing, \"/Users/feizhanxia/.julia/packages/InteractBase/h8Fwe/src/../assets/all.js\"), Asset(\"css\", nothing, \"/Users/feizhanxia/.julia/packages/InteractBase/h8Fwe/src/../assets/style.css\"), Asset(\"css\", nothing, \"/Users/feizhanxia/.julia/packages/Interact/pVyN2/src/../assets/bulma_confined.min.css\")], Dict{Any, Any}(\"changes\" => Any[WebIO.JSString(\"(function (val){return (val!=this.model[\\\"changes\\\"]()) ? (this.valueFromJulia[\\\"changes\\\"]=true, this.model[\\\"changes\\\"](val)) : undefined})\")], \"index\" => Any[WebIO.JSString(\"(function (val){return (val!=this.model[\\\"index\\\"]()) ? (this.valueFromJulia[\\\"index\\\"]=true, this.model[\\\"index\\\"](val)) : undefined})\")]), WebIO.ConnectionPool(Channel{Any}(32), Set{AbstractConnection}(), Condition(Base.InvasiveLinkedList{Task}(Task (runnable) @0x000000016cbcc010, Task (runnable) @0x000000016cbcc010), Base.AlwaysLockedST(1))), WebIO.JSString[WebIO.JSString(\"function () {\\n    var handler = (function (ko, koPunches) {\\n    ko.punches.enableAll();\\n    ko.bindingHandlers.numericValue = {\\n        init: function(element, valueAccessor, allBindings, data, context) {\\n            var stringified = ko.observable(ko.unwrap(valueAccessor()));\\n            stringified.subscribe(function(value) {\\n                var val = parseFloat(value);\\n                if (!isNaN(val)) {\\n                    valueAccessor()(val);\\n                }\\n            });\\n            valueAccessor().subscribe(function(value) {\\n                var str = JSON.stringify(value);\\n                if ((str == \\\"0\\\") && ([\\\"-0\\\", \\\"-0.\\\"].indexOf(stringified()) >= 0))\\n                     return;\\n                 if ([\\\"null\\\", \\\"\\\"].indexOf(str) >= 0)\\n                     return;\\n                stringified(str);\\n            });\\n            ko.applyBindingsToNode(\\n                element,\\n                {\\n                    value: stringified,\\n                    valueUpdate: allBindings.get('valueUpdate'),\\n                },\\n                context,\\n            );\\n        }\\n    };\\n    var json_data = {\\\"formatted_vals\\\":[\\\"10\\\",\\\"11\\\",\\\"12\\\",\\\"13\\\",\\\"14\\\",\\\"15\\\",\\\"16\\\",\\\"17\\\",\\\"18\\\",\\\"19\\\",\\\"20\\\",\\\"21\\\",\\\"22\\\",\\\"23\\\",\\\"24\\\",\\\"25\\\",\\\"26\\\",\\\"27\\\",\\\"28\\\",\\\"29\\\",\\\"30\\\",\\\"31\\\",\\\"32\\\",\\\"33\\\",\\\"34\\\",\\\"35\\\",\\\"36\\\",\\\"37\\\",\\\"38\\\",\\\"39\\\",\\\"40\\\",\\\"41\\\",\\\"42\\\",\\\"43\\\",\\\"44\\\",\\\"45\\\",\\\"46\\\",\\\"47\\\",\\\"48\\\",\\\"49\\\",\\\"50\\\",\\\"51\\\",\\\"52\\\",\\\"53\\\",\\\"54\\\",\\\"55\\\",\\\"56\\\",\\\"57\\\",\\\"58\\\",\\\"59\\\",\\\"60\\\",\\\"61\\\",\\\"62\\\",\\\"63\\\",\\\"64\\\",\\\"65\\\",\\\"66\\\",\\\"67\\\",\\\"68\\\",\\\"69\\\",\\\"70\\\",\\\"71\\\",\\\"72\\\",\\\"73\\\",\\\"74\\\",\\\"75\\\",\\\"76\\\",\\\"77\\\",\\\"78\\\",\\\"79\\\",\\\"80\\\",\\\"81\\\",\\\"82\\\",\\\"83\\\",\\\"84\\\",\\\"85\\\",\\\"86\\\",\\\"87\\\",\\\"88\\\",\\\"89\\\",\\\"90\\\",\\\"91\\\",\\\"92\\\",\\\"93\\\",\\\"94\\\",\\\"95\\\",\\\"96\\\",\\\"97\\\",\\\"98\\\",\\\"99\\\",\\\"100\\\"],\\\"changes\\\":WebIO.getval({\\\"name\\\":\\\"changes\\\",\\\"scope\\\":\\\"13234977521722219027\\\",\\\"id\\\":\\\"9005995790751090263\\\",\\\"type\\\":\\\"observable\\\"}),\\\"index\\\":WebIO.getval({\\\"name\\\":\\\"index\\\",\\\"scope\\\":\\\"13234977521722219027\\\",\\\"id\\\":\\\"4287663631927872425\\\",\\\"type\\\":\\\"observable\\\"})};\\n    var self = this;\\n    function AppViewModel() {\\n        for (var key in json_data) {\\n            var el = json_data[key];\\n            this[key] = Array.isArray(el) ? ko.observableArray(el) : ko.observable(el);\\n        }\\n        \\n        [this[\\\"formatted_val\\\"]=ko.computed(    function(){\\n        return this.formatted_vals()[parseInt(this.index())-(10)];\\n    }\\n,this)]\\n        [this[\\\"changes\\\"].subscribe((function (val){!(this.valueFromJulia[\\\"changes\\\"]) ? (WebIO.setval({\\\"name\\\":\\\"changes\\\",\\\"scope\\\":\\\"13234977521722219027\\\",\\\"id\\\":\\\"9005995790751090263\\\",\\\"type\\\":\\\"observable\\\"},val)) : undefined; return this.valueFromJulia[\\\"changes\\\"]=false}),self),this[\\\"index\\\"].subscribe((function (val){!(this.valueFromJulia[\\\"index\\\"]) ? (WebIO.setval({\\\"name\\\":\\\"index\\\",\\\"scope\\\":\\\"13234977521722219027\\\",\\\"id\\\":\\\"4287663631927872425\\\",\\\"type\\\":\\\"observable\\\"},val)) : undefined; return this.valueFromJulia[\\\"index\\\"]=false}),self)]\\n        \\n    }\\n    self.model = new AppViewModel();\\n    self.valueFromJulia = {};\\n    for (var key in json_data) {\\n        self.valueFromJulia[key] = false;\\n    }\\n    ko.applyBindings(self.model, self.dom);\\n}\\n);\\n    (WebIO.importBlock({\\\"data\\\":[{\\\"name\\\":\\\"knockout\\\",\\\"type\\\":\\\"js\\\",\\\"url\\\":\\\"/assetserver/6ca7fde95f08d7c1dda6ec1796f289b6c81c6f02-knockout.js\\\"},{\\\"name\\\":\\\"knockout_punches\\\",\\\"type\\\":\\\"js\\\",\\\"url\\\":\\\"/assetserver/efa259327b8811e0f649ee414241b33d79970dfd-knockout_punches.js\\\"}],\\\"type\\\":\\\"async_block\\\"})).then((imports) => handler.apply(this, imports));\\n}\\n\")])], Dict{Symbol, Any}(:className => \"field interact-widget\")), Observable{Node{WebIO.DOM}} with 0 listeners. Value:\n",
       "Node{WebIO.DOM}(WebIO.DOM(:html, :div), Any[GR.SVG(UInt8[0x3c, 0x3f, 0x78, 0x6d, 0x6c, 0x20, 0x76, 0x65, 0x72, 0x73  …  0x2f, 0x3e, 0x0a, 0x3c, 0x2f, 0x73, 0x76, 0x67, 0x3e, 0x0a])], Dict{Symbol, Any}(:className => \"interact-flex-row interact-widget\"))], Dict{Symbol, Any}())"
      ]
     },
     "execution_count": 6,
     "metadata": {
      "@webio": {
       "kernelId": "8aa2c175-fbc1-4b4d-9833-7e1f995900c0"
      }
     },
     "output_type": "execute_result"
    }
   ],
   "source": [
    "@manipulate for T in 10:100\n",
    "    plot(0:T, walk(T))\n",
    "end"
   ]
  },
  {
   "cell_type": "code",
   "execution_count": 8,
   "id": "a09452c6-c856-4644-9e86-1870eec95dea",
   "metadata": {},
   "outputs": [
    {
     "data": {
      "text/latex": [
       "No documentation found.\n",
       "\n",
       "Binding \\texttt{@manipulate} does not exist.\n",
       "\n"
      ],
      "text/markdown": [
       "No documentation found.\n",
       "\n",
       "Binding `@manipulate` does not exist.\n"
      ],
      "text/plain": [
       "  No documentation found.\n",
       "\n",
       "  Binding \u001b[36m@manipulate\u001b[39m does not exist."
      ]
     },
     "execution_count": 8,
     "metadata": {},
     "output_type": "execute_result"
    }
   ],
   "source": [
    "?@manipulate"
   ]
  },
  {
   "cell_type": "code",
   "execution_count": 9,
   "id": "c3b1d8b4-c68d-48db-b100-2c121d776d17",
   "metadata": {},
   "outputs": [
    {
     "ename": "LoadError",
     "evalue": "LoadError: UndefVarError: @manipulate not defined\nin expression starting at In[9]:1",
     "output_type": "error",
     "traceback": [
      "LoadError: UndefVarError: @manipulate not defined\nin expression starting at In[9]:1",
      "",
      "Stacktrace:",
      " [1] top-level scope",
      "   @ :0",
      " [2] eval",
      "   @ ./boot.jl:373 [inlined]",
      " [3] include_string(mapexpr::typeof(REPL.softscope), mod::Module, code::String, filename::String)",
      "   @ Base ./loading.jl:1196"
     ]
    }
   ],
   "source": [
    "@manipulate throttle = 0.1 for r = 0:.05:1, g = 0:.05:1, b = 0:.05:1\n",
    "    HTML(string(\"<div style='color:#\", hex(RGB(r,g,b)), \"'>Color me</div>\"))\n",
    "end"
   ]
  },
  {
   "cell_type": "code",
   "execution_count": 7,
   "id": "6ec08893-17ff-4d5d-9684-9b6e4246de4a",
   "metadata": {},
   "outputs": [
    {
     "data": {
      "application/vnd.webio.node+json": {
       "children": [],
       "instanceArgs": {
        "namespace": "html",
        "tag": "div"
       },
       "nodeType": "DOM",
       "props": {},
       "type": "node"
      },
      "text/html": [
       "<div style=\"padding: 1em; background-color: #f8d6da; border: 1px solid #f5c6cb; font-weight: bold;\">\n",
       "<p>The WebIO Jupyter extension was not detected. See the\n",
       "<a href=\"https://juliagizmos.github.io/WebIO.jl/latest/providers/ijulia/\" target=\"_blank\">\n",
       "    WebIO Jupyter integration documentation\n",
       "</a>\n",
       "for more information.\n",
       "</div>\n"
      ],
      "text/plain": [
       "WebIO._IJuliaInit()"
      ]
     },
     "metadata": {},
     "output_type": "display_data"
    }
   ],
   "source": [
    "using WebIO"
   ]
  },
  {
   "cell_type": "code",
   "execution_count": 6,
   "id": "87931934-9598-4166-a056-f66405602b05",
   "metadata": {},
   "outputs": [
    {
     "ename": "LoadError",
     "evalue": "UndefVarError: walk not defined",
     "output_type": "error",
     "traceback": [
      "UndefVarError: walk not defined",
      "",
      "Stacktrace:",
      " [1] top-level scope",
      "   @ In[6]:2",
      " [2] eval",
      "   @ ./boot.jl:373 [inlined]",
      " [3] include_string(mapexpr::typeof(REPL.softscope), mod::Module, code::String, filename::String)",
      "   @ Base ./loading.jl:1196"
     ]
    }
   ],
   "source": [
    "using JLD2\n",
    "traj=walk(1000)\n",
    "@save \"data.jld2\" traj"
   ]
  },
  {
   "cell_type": "code",
   "execution_count": 5,
   "id": "311d4cba-9589-44a2-bd79-88deecae5c54",
   "metadata": {},
   "outputs": [
    {
     "ename": "LoadError",
     "evalue": "LoadError: UndefVarError: @load not defined\nin expression starting at In[5]:1",
     "output_type": "error",
     "traceback": [
      "LoadError: UndefVarError: @load not defined\nin expression starting at In[5]:1",
      "",
      "Stacktrace:",
      " [1] top-level scope",
      "   @ :0",
      " [2] eval",
      "   @ ./boot.jl:373 [inlined]",
      " [3] include_string(mapexpr::typeof(REPL.softscope), mod::Module, code::String, filename::String)",
      "   @ Base ./loading.jl:1196"
     ]
    }
   ],
   "source": [
    "@load \"data.jld2\" traj\n",
    "typeof(traj)"
   ]
  },
  {
   "cell_type": "code",
   "execution_count": 29,
   "id": "2f4a7640-75ef-4363-8ce8-f18e2faeecbd",
   "metadata": {},
   "outputs": [
    {
     "data": {
      "text/plain": [
       "MyComplex(1.0, 2.0)"
      ]
     },
     "execution_count": 29,
     "metadata": {},
     "output_type": "execute_result"
    }
   ],
   "source": [
    "struct MyComplex\n",
    "    real::Float64\n",
    "    imag::Float64\n",
    "end\n",
    "\n",
    "a=MyComplex(1.0, 2.0)"
   ]
  },
  {
   "cell_type": "code",
   "execution_count": 30,
   "id": "6b6e0fae-072c-4112-87f8-446c40f5b48c",
   "metadata": {},
   "outputs": [
    {
     "data": {
      "text/plain": [
       "1.0"
      ]
     },
     "execution_count": 30,
     "metadata": {},
     "output_type": "execute_result"
    }
   ],
   "source": [
    "a.real"
   ]
  },
  {
   "cell_type": "code",
   "execution_count": 31,
   "id": "a5fb0412-0127-4667-80a4-b2939335d3b1",
   "metadata": {},
   "outputs": [
    {
     "data": {
      "text/plain": [
       "2.0"
      ]
     },
     "execution_count": 31,
     "metadata": {},
     "output_type": "execute_result"
    }
   ],
   "source": [
    "a.imag"
   ]
  },
  {
   "cell_type": "code",
   "execution_count": 32,
   "id": "897035f4-81d4-4b88-894e-b1273a1e2a69",
   "metadata": {},
   "outputs": [
    {
     "data": {
      "text/plain": [
       "* (generic function with 374 methods)"
      ]
     },
     "execution_count": 32,
     "metadata": {},
     "output_type": "execute_result"
    }
   ],
   "source": [
    "import Base: *\n",
    "*(a::MyComplex, b::MyComplex) = MyComplex(a.real * b.real - a.imag * b.imag, a.real * b.imag + a.imag * b.real)"
   ]
  },
  {
   "cell_type": "code",
   "execution_count": 34,
   "id": "ac9580f0-2115-45c0-9b91-232210925919",
   "metadata": {},
   "outputs": [
    {
     "data": {
      "text/plain": [
       "MyComplex(-5.0, 5.0)"
      ]
     },
     "execution_count": 34,
     "metadata": {},
     "output_type": "execute_result"
    }
   ],
   "source": [
    "b = MyComplex(1.0,3.0)\n",
    "a * b"
   ]
  },
  {
   "cell_type": "code",
   "execution_count": 35,
   "id": "b424ead5-e38d-4f87-8434-667e674e26d1",
   "metadata": {},
   "outputs": [
    {
     "data": {
      "text/plain": [
       "show (generic function with 322 methods)"
      ]
     },
     "execution_count": 35,
     "metadata": {},
     "output_type": "execute_result"
    }
   ],
   "source": [
    "import Base: show\n",
    "show(io::IO, ::MIME\"text/plain\", x::MyComplex) = print(io, \"$(x.real) + $(x.imag)im\")"
   ]
  },
  {
   "cell_type": "code",
   "execution_count": 36,
   "id": "97f78a67-1382-4b19-bb97-c98f1d036cc2",
   "metadata": {},
   "outputs": [
    {
     "data": {
      "text/plain": [
       "-5.0 + 5.0im"
      ]
     },
     "execution_count": 36,
     "metadata": {},
     "output_type": "execute_result"
    }
   ],
   "source": [
    "a * b"
   ]
  },
  {
   "cell_type": "code",
   "execution_count": 37,
   "id": "b362a28e-7ad2-4eed-a333-7d4c0a8f576c",
   "metadata": {},
   "outputs": [
    {
     "data": {
      "text/plain": [
       "0 + 5im"
      ]
     },
     "execution_count": 37,
     "metadata": {},
     "output_type": "execute_result"
    }
   ],
   "source": [
    "5im"
   ]
  },
  {
   "cell_type": "code",
   "execution_count": 38,
   "id": "49947ac4-88c7-4162-b244-9768d0515288",
   "metadata": {},
   "outputs": [
    {
     "data": {
      "text/plain": [
       "0 + 192im"
      ]
     },
     "execution_count": 38,
     "metadata": {},
     "output_type": "execute_result"
    }
   ],
   "source": [
    "192im"
   ]
  },
  {
   "cell_type": "code",
   "execution_count": 39,
   "id": "5859a055-dbd3-41c1-9d3a-6a9cca78da34",
   "metadata": {},
   "outputs": [],
   "source": [
    "struct MyComplex2{T <: Real}\n",
    "    real::T\n",
    "    imag::T\n",
    "end"
   ]
  },
  {
   "cell_type": "code",
   "execution_count": 44,
   "id": "756eb9c4-9b43-454e-80a4-a6def233f27c",
   "metadata": {},
   "outputs": [
    {
     "name": "stdout",
     "output_type": "stream",
     "text": [
      "search: \u001b[0m\u001b[1mR\u001b[22m\u001b[0m\u001b[1me\u001b[22m\u001b[0m\u001b[1ma\u001b[22m\u001b[0m\u001b[1ml\u001b[22m \u001b[0m\u001b[1mr\u001b[22m\u001b[0m\u001b[1me\u001b[22m\u001b[0m\u001b[1ma\u001b[22m\u001b[0m\u001b[1ml\u001b[22m \u001b[0m\u001b[1mr\u001b[22m\u001b[0m\u001b[1me\u001b[22m\u001b[0m\u001b[1ma\u001b[22m\u001b[0m\u001b[1ml\u001b[22mpath is\u001b[0m\u001b[1mr\u001b[22m\u001b[0m\u001b[1me\u001b[22m\u001b[0m\u001b[1ma\u001b[22m\u001b[0m\u001b[1ml\u001b[22m \u001b[0m\u001b[1mr\u001b[22m\u001b[0m\u001b[1me\u001b[22m\u001b[0m\u001b[1ma\u001b[22md\u001b[0m\u001b[1ml\u001b[22mink \u001b[0m\u001b[1mr\u001b[22m\u001b[0m\u001b[1me\u001b[22m\u001b[0m\u001b[1ma\u001b[22md\u001b[0m\u001b[1ml\u001b[22mine \u001b[0m\u001b[1mr\u001b[22m\u001b[0m\u001b[1me\u001b[22m\u001b[0m\u001b[1ma\u001b[22md\u001b[0m\u001b[1ml\u001b[22mines\n",
      "\n"
     ]
    },
    {
     "data": {
      "text/latex": [
       "\\begin{verbatim}\n",
       "Real <: Number\n",
       "\\end{verbatim}\n",
       "Abstract supertype for all real numbers.\n",
       "\n"
      ],
      "text/markdown": [
       "```\n",
       "Real <: Number\n",
       "```\n",
       "\n",
       "Abstract supertype for all real numbers.\n"
      ],
      "text/plain": [
       "\u001b[36m  Real <: Number\u001b[39m\n",
       "\n",
       "  Abstract supertype for all real numbers."
      ]
     },
     "execution_count": 44,
     "metadata": {},
     "output_type": "execute_result"
    }
   ],
   "source": [
    "?Real"
   ]
  },
  {
   "cell_type": "code",
   "execution_count": 45,
   "id": "d169d84e-f21e-4084-8204-c3d284d0e35b",
   "metadata": {},
   "outputs": [
    {
     "data": {
      "text/plain": [
       "MyComplex2{Float32}(1.0f0, 2.0f0)"
      ]
     },
     "execution_count": 45,
     "metadata": {},
     "output_type": "execute_result"
    }
   ],
   "source": [
    "MyComplex2{Float32}(1., 2.)"
   ]
  },
  {
   "cell_type": "code",
   "execution_count": 53,
   "id": "c1c02594-bb10-47f1-b130-903e487fc20e",
   "metadata": {},
   "outputs": [],
   "source": [
    "struct MyComplex3{T <: Real}\n",
    "    real::T\n",
    "    imag::T\n",
    "    MyComplex3(real::T) where {T <: Real} = new{T}(real, 0)\n",
    "end"
   ]
  },
  {
   "cell_type": "code",
   "execution_count": 56,
   "id": "7d1b77b2-a35c-4b28-b12e-6984a4776d88",
   "metadata": {},
   "outputs": [
    {
     "data": {
      "text/plain": [
       "MyComplex3{Float64}(1.0, 2.0)"
      ]
     },
     "execution_count": 56,
     "metadata": {},
     "output_type": "execute_result"
    }
   ],
   "source": [
    "MyComplex3(1., 2.0)"
   ]
  },
  {
   "cell_type": "code",
   "execution_count": 68,
   "id": "0428213d-bcad-4c39-9c91-24131784196b",
   "metadata": {},
   "outputs": [
    {
     "name": "stdout",
     "output_type": "stream",
     "text": [
      "A/B\n"
     ]
    }
   ],
   "source": [
    "abstract type TypeA end\n",
    "struct TypeB <: TypeA end\n",
    "struct TypeC <: TypeA end\n",
    "wooo(a1::TypeA, a2::TypeA) = println(\"A/A\")\n",
    "wooo(a::TypeA, b::TypeB) = println(\"A/B\")\n",
    "\n",
    "callme(a1::TypeA, a2::TypeA) = wooo(a1, a2)\n",
    "\n",
    "b = TypeB(); c = TypeC();\n",
    "callme(c, b)"
   ]
  },
  {
   "cell_type": "code",
   "execution_count": 94,
   "id": "9181be5c-2d92-4221-a214-d4a3b6f2d2fe",
   "metadata": {},
   "outputs": [
    {
     "data": {
      "text/plain": [
       "MutableTypee2(2)"
      ]
     },
     "execution_count": 94,
     "metadata": {},
     "output_type": "execute_result"
    }
   ],
   "source": [
    "abstract type AbstractType end\n",
    "\n",
    "struct ImmutableType2 <: AbstractType\n",
    "    a::Int\n",
    "end\n",
    "mutable struct MutableTypee2 <: AbstractType\n",
    "    a::Int\n",
    "end\n",
    "\n",
    "a = ImmutableType2(3)\n",
    "b = MutableTypee2(3)\n",
    "b.a = 2\n",
    "b"
   ]
  },
  {
   "cell_type": "code",
   "execution_count": 96,
   "id": "c2179665-139c-4f97-9459-4ebbfd86585f",
   "metadata": {},
   "outputs": [
    {
     "name": "stdout",
     "output_type": "stream",
     "text": [
      "AbstractType\n",
      "  ImmutableType2\n",
      "  MmutableType2\n",
      "  MutableType2\n",
      "  MutableTypee2\n"
     ]
    }
   ],
   "source": [
    "function view_tree(T, depth=0)\n",
    "    println(\"  \"^depth, T)\n",
    "    for each in subtypes(T)\n",
    "        view_tree(each, depth+1)\n",
    "    end\n",
    "end\n",
    "view_tree(AbstractType)"
   ]
  },
  {
   "cell_type": "code",
   "execution_count": 99,
   "id": "2457471f-437b-4075-b572-a37098f71a76",
   "metadata": {},
   "outputs": [
    {
     "data": {
      "text/latex": [
       "\\begin{verbatim}\n",
       "show([io::IO = stdout], x)\n",
       "\\end{verbatim}\n",
       "Write a text representation of a value \\texttt{x} to the output stream \\texttt{io}. New types \\texttt{T} should overload \\texttt{show(io::IO, x::T)}. The representation used by \\texttt{show} generally includes Julia-specific formatting and type information, and should be parseable Julia code when possible.\n",
       "\n",
       "\\href{@ref}{\\texttt{repr}} returns the output of \\texttt{show} as a string.\n",
       "\n",
       "To customize human-readable text output for objects of type \\texttt{T}, define \\texttt{show(io::IO, ::MIME\"text/plain\", ::T)} instead. Checking the \\texttt{:compact} \\href{@ref}{\\texttt{IOContext}} property of \\texttt{io} in such methods is recommended, since some containers show their elements by calling this method with \\texttt{:compact => true}.\n",
       "\n",
       "See also \\href{@ref}{\\texttt{print}}, which writes un-decorated representations.\n",
       "\n",
       "\\section{Examples}\n",
       "\\begin{verbatim}\n",
       "julia> show(\"Hello World!\")\n",
       "\"Hello World!\"\n",
       "julia> print(\"Hello World!\")\n",
       "Hello World!\n",
       "\\end{verbatim}\n",
       "\\rule{\\textwidth}{1pt}\n",
       "\\begin{verbatim}\n",
       "show(io::IO, mime, x)\n",
       "\\end{verbatim}\n",
       "The \\href{@ref}{\\texttt{display}} functions ultimately call \\texttt{show} in order to write an object \\texttt{x} as a given \\texttt{mime} type to a given I/O stream \\texttt{io} (usually a memory buffer), if possible. In order to provide a rich multimedia representation of a user-defined type \\texttt{T}, it is only necessary to define a new \\texttt{show} method for \\texttt{T}, via: \\texttt{show(io, ::MIME\"mime\", x::T) = ...}, where \\texttt{mime} is a MIME-type string and the function body calls \\href{@ref}{\\texttt{write}} (or similar) to write that representation of \\texttt{x} to \\texttt{io}. (Note that the \\texttt{MIME\"\"} notation only supports literal strings; to construct \\texttt{MIME} types in a more flexible manner use \\texttt{MIME\\{Symbol(\"\")\\}}.)\n",
       "\n",
       "For example, if you define a \\texttt{MyImage} type and know how to write it to a PNG file, you could define a function \\texttt{show(io, ::MIME\"image/png\", x::MyImage) = ...} to allow your images to be displayed on any PNG-capable \\texttt{AbstractDisplay} (such as IJulia). As usual, be sure to \\texttt{import Base.show} in order to add new methods to the built-in Julia function \\texttt{show}.\n",
       "\n",
       "Technically, the \\texttt{MIME\"mime\"} macro defines a singleton type for the given \\texttt{mime} string, which allows us to exploit Julia's dispatch mechanisms in determining how to display objects of any given type.\n",
       "\n",
       "The default MIME type is \\texttt{MIME\"text/plain\"}. There is a fallback definition for \\texttt{text/plain} output that calls \\texttt{show} with 2 arguments, so it is not always necessary to add a method for that case. If a type benefits from custom human-readable output though, \\texttt{show(::IO, ::MIME\"text/plain\", ::T)} should be defined. For example, the \\texttt{Day} type uses \\texttt{1 day} as the output for the \\texttt{text/plain} MIME type, and \\texttt{Day(1)} as the output of 2-argument \\texttt{show}.\n",
       "\n",
       "Container types generally implement 3-argument \\texttt{show} by calling \\texttt{show(io, MIME\"text/plain\"(), x)} for elements \\texttt{x}, with \\texttt{:compact => true} set in an \\href{@ref}{\\texttt{IOContext}} passed as the first argument.\n",
       "\n"
      ],
      "text/markdown": [
       "```\n",
       "show([io::IO = stdout], x)\n",
       "```\n",
       "\n",
       "Write a text representation of a value `x` to the output stream `io`. New types `T` should overload `show(io::IO, x::T)`. The representation used by `show` generally includes Julia-specific formatting and type information, and should be parseable Julia code when possible.\n",
       "\n",
       "[`repr`](@ref) returns the output of `show` as a string.\n",
       "\n",
       "To customize human-readable text output for objects of type `T`, define `show(io::IO, ::MIME\"text/plain\", ::T)` instead. Checking the `:compact` [`IOContext`](@ref) property of `io` in such methods is recommended, since some containers show their elements by calling this method with `:compact => true`.\n",
       "\n",
       "See also [`print`](@ref), which writes un-decorated representations.\n",
       "\n",
       "# Examples\n",
       "\n",
       "```jldoctest\n",
       "julia> show(\"Hello World!\")\n",
       "\"Hello World!\"\n",
       "julia> print(\"Hello World!\")\n",
       "Hello World!\n",
       "```\n",
       "\n",
       "---\n",
       "\n",
       "```\n",
       "show(io::IO, mime, x)\n",
       "```\n",
       "\n",
       "The [`display`](@ref) functions ultimately call `show` in order to write an object `x` as a given `mime` type to a given I/O stream `io` (usually a memory buffer), if possible. In order to provide a rich multimedia representation of a user-defined type `T`, it is only necessary to define a new `show` method for `T`, via: `show(io, ::MIME\"mime\", x::T) = ...`, where `mime` is a MIME-type string and the function body calls [`write`](@ref) (or similar) to write that representation of `x` to `io`. (Note that the `MIME\"\"` notation only supports literal strings; to construct `MIME` types in a more flexible manner use `MIME{Symbol(\"\")}`.)\n",
       "\n",
       "For example, if you define a `MyImage` type and know how to write it to a PNG file, you could define a function `show(io, ::MIME\"image/png\", x::MyImage) = ...` to allow your images to be displayed on any PNG-capable `AbstractDisplay` (such as IJulia). As usual, be sure to `import Base.show` in order to add new methods to the built-in Julia function `show`.\n",
       "\n",
       "Technically, the `MIME\"mime\"` macro defines a singleton type for the given `mime` string, which allows us to exploit Julia's dispatch mechanisms in determining how to display objects of any given type.\n",
       "\n",
       "The default MIME type is `MIME\"text/plain\"`. There is a fallback definition for `text/plain` output that calls `show` with 2 arguments, so it is not always necessary to add a method for that case. If a type benefits from custom human-readable output though, `show(::IO, ::MIME\"text/plain\", ::T)` should be defined. For example, the `Day` type uses `1 day` as the output for the `text/plain` MIME type, and `Day(1)` as the output of 2-argument `show`.\n",
       "\n",
       "Container types generally implement 3-argument `show` by calling `show(io, MIME\"text/plain\"(), x)` for elements `x`, with `:compact => true` set in an [`IOContext`](@ref) passed as the first argument.\n"
      ],
      "text/plain": [
       "\u001b[36m  show([io::IO = stdout], x)\u001b[39m\n",
       "\n",
       "  Write a text representation of a value \u001b[36mx\u001b[39m to the output stream \u001b[36mio\u001b[39m. New types\n",
       "  \u001b[36mT\u001b[39m should overload \u001b[36mshow(io::IO, x::T)\u001b[39m. The representation used by \u001b[36mshow\u001b[39m\n",
       "  generally includes Julia-specific formatting and type information, and\n",
       "  should be parseable Julia code when possible.\n",
       "\n",
       "  \u001b[36mrepr\u001b[39m returns the output of \u001b[36mshow\u001b[39m as a string.\n",
       "\n",
       "  To customize human-readable text output for objects of type \u001b[36mT\u001b[39m, define\n",
       "  \u001b[36mshow(io::IO, ::MIME\"text/plain\", ::T)\u001b[39m instead. Checking the \u001b[36m:compact\u001b[39m\n",
       "  \u001b[36mIOContext\u001b[39m property of \u001b[36mio\u001b[39m in such methods is recommended, since some\n",
       "  containers show their elements by calling this method with \u001b[36m:compact => true\u001b[39m.\n",
       "\n",
       "  See also \u001b[36mprint\u001b[39m, which writes un-decorated representations.\n",
       "\n",
       "\u001b[1m  Examples\u001b[22m\n",
       "\u001b[1m  ≡≡≡≡≡≡≡≡≡≡\u001b[22m\n",
       "\n",
       "\u001b[36m  julia> show(\"Hello World!\")\u001b[39m\n",
       "\u001b[36m  \"Hello World!\"\u001b[39m\n",
       "\u001b[36m  julia> print(\"Hello World!\")\u001b[39m\n",
       "\u001b[36m  Hello World!\u001b[39m\n",
       "\n",
       "  ────────────────────────────────────────────────────────────────────────────\n",
       "\n",
       "\u001b[36m  show(io::IO, mime, x)\u001b[39m\n",
       "\n",
       "  The \u001b[36mdisplay\u001b[39m functions ultimately call \u001b[36mshow\u001b[39m in order to write an object \u001b[36mx\u001b[39m as\n",
       "  a given \u001b[36mmime\u001b[39m type to a given I/O stream \u001b[36mio\u001b[39m (usually a memory buffer), if\n",
       "  possible. In order to provide a rich multimedia representation of a\n",
       "  user-defined type \u001b[36mT\u001b[39m, it is only necessary to define a new \u001b[36mshow\u001b[39m method for \u001b[36mT\u001b[39m,\n",
       "  via: \u001b[36mshow(io, ::MIME\"mime\", x::T) = ...\u001b[39m, where \u001b[36mmime\u001b[39m is a MIME-type string\n",
       "  and the function body calls \u001b[36mwrite\u001b[39m (or similar) to write that representation\n",
       "  of \u001b[36mx\u001b[39m to \u001b[36mio\u001b[39m. (Note that the \u001b[36mMIME\"\"\u001b[39m notation only supports literal strings; to\n",
       "  construct \u001b[36mMIME\u001b[39m types in a more flexible manner use \u001b[36mMIME{Symbol(\"\")}\u001b[39m.)\n",
       "\n",
       "  For example, if you define a \u001b[36mMyImage\u001b[39m type and know how to write it to a PNG\n",
       "  file, you could define a function \u001b[36mshow(io, ::MIME\"image/png\", x::MyImage) =\n",
       "  ...\u001b[39m to allow your images to be displayed on any PNG-capable \u001b[36mAbstractDisplay\u001b[39m\n",
       "  (such as IJulia). As usual, be sure to \u001b[36mimport Base.show\u001b[39m in order to add new\n",
       "  methods to the built-in Julia function \u001b[36mshow\u001b[39m.\n",
       "\n",
       "  Technically, the \u001b[36mMIME\"mime\"\u001b[39m macro defines a singleton type for the given\n",
       "  \u001b[36mmime\u001b[39m string, which allows us to exploit Julia's dispatch mechanisms in\n",
       "  determining how to display objects of any given type.\n",
       "\n",
       "  The default MIME type is \u001b[36mMIME\"text/plain\"\u001b[39m. There is a fallback definition\n",
       "  for \u001b[36mtext/plain\u001b[39m output that calls \u001b[36mshow\u001b[39m with 2 arguments, so it is not always\n",
       "  necessary to add a method for that case. If a type benefits from custom\n",
       "  human-readable output though, \u001b[36mshow(::IO, ::MIME\"text/plain\", ::T)\u001b[39m should be\n",
       "  defined. For example, the \u001b[36mDay\u001b[39m type uses \u001b[36m1 day\u001b[39m as the output for the\n",
       "  \u001b[36mtext/plain\u001b[39m MIME type, and \u001b[36mDay(1)\u001b[39m as the output of 2-argument \u001b[36mshow\u001b[39m.\n",
       "\n",
       "  Container types generally implement 3-argument \u001b[36mshow\u001b[39m by calling \u001b[36mshow(io,\n",
       "  MIME\"text/plain\"(), x)\u001b[39m for elements \u001b[36mx\u001b[39m, with \u001b[36m:compact => true\u001b[39m set in an\n",
       "  \u001b[36mIOContext\u001b[39m passed as the first argument."
      ]
     },
     "execution_count": 99,
     "metadata": {},
     "output_type": "execute_result"
    }
   ],
   "source": [
    "?Base.show()"
   ]
  },
  {
   "cell_type": "code",
   "execution_count": 101,
   "id": "dbcbbab4-4bf5-42dd-8228-e0b8c9d00985",
   "metadata": {},
   "outputs": [],
   "source": [
    "using JuliaZH"
   ]
  },
  {
   "cell_type": "code",
   "execution_count": 111,
   "id": "74130f84-f198-4071-a9bb-6f3401e9ef77",
   "metadata": {},
   "outputs": [
    {
     "name": "stdout",
     "output_type": "stream",
     "text": [
      "search: \u001b[0m\u001b[1mA\u001b[22m\u001b[0m\u001b[1mb\u001b[22m\u001b[0m\u001b[1ms\u001b[22m\u001b[0m\u001b[1mt\u001b[22m\u001b[0m\u001b[1mr\u001b[22m\u001b[0m\u001b[1ma\u001b[22m\u001b[0m\u001b[1mc\u001b[22m\u001b[0m\u001b[1mt\u001b[22m\u001b[0m\u001b[1mT\u001b[22m\u001b[0m\u001b[1my\u001b[22m\u001b[0m\u001b[1mp\u001b[22m\u001b[0m\u001b[1me\u001b[22m '\u001b[0m\u001b[1ma\u001b[22m\u001b[0m\u001b[1mb\u001b[22m\u001b[0m\u001b[1ms\u001b[22m\u001b[0m\u001b[1mt\u001b[22m\u001b[0m\u001b[1mr\u001b[22m\u001b[0m\u001b[1ma\u001b[22m\u001b[0m\u001b[1mc\u001b[22m\u001b[0m\u001b[1mt\u001b[22m \u001b[0m\u001b[1mt\u001b[22m\u001b[0m\u001b[1my\u001b[22m\u001b[0m\u001b[1mp\u001b[22m\u001b[0m\u001b[1me\u001b[22m' is\u001b[0m\u001b[1ma\u001b[22m\u001b[0m\u001b[1mb\u001b[22m\u001b[0m\u001b[1ms\u001b[22m\u001b[0m\u001b[1mt\u001b[22m\u001b[0m\u001b[1mr\u001b[22m\u001b[0m\u001b[1ma\u001b[22m\u001b[0m\u001b[1mc\u001b[22m\u001b[0m\u001b[1mt\u001b[22m\u001b[0m\u001b[1mt\u001b[22m\u001b[0m\u001b[1my\u001b[22m\u001b[0m\u001b[1mp\u001b[22m\u001b[0m\u001b[1me\u001b[22m \u001b[0m\u001b[1mA\u001b[22m\u001b[0m\u001b[1mb\u001b[22m\u001b[0m\u001b[1ms\u001b[22m\u001b[0m\u001b[1mt\u001b[22m\u001b[0m\u001b[1mr\u001b[22m\u001b[0m\u001b[1ma\u001b[22m\u001b[0m\u001b[1mc\u001b[22m\u001b[0m\u001b[1mt\u001b[22mS\u001b[0m\u001b[1mt\u001b[22mring \u001b[0m\u001b[1mA\u001b[22m\u001b[0m\u001b[1mb\u001b[22m\u001b[0m\u001b[1ms\u001b[22m\u001b[0m\u001b[1mt\u001b[22m\u001b[0m\u001b[1mr\u001b[22m\u001b[0m\u001b[1ma\u001b[22m\u001b[0m\u001b[1mc\u001b[22m\u001b[0m\u001b[1mt\u001b[22mSe\u001b[0m\u001b[1mt\u001b[22m\n",
      "\n"
     ]
    },
    {
     "data": {
      "text/latex": [
       "\\begin{verbatim}\n",
       "abstract type\n",
       "\\end{verbatim}\n",
       "\\texttt{abstract type} 声明来一个不能实例化的类型，它将仅仅作为类型图中的一个节点存在，从而能够描述一系列相互关联的具体类型（concrete type）：这些具体类型都是抽象类型的子节点。抽象类型在概念上使得 Julia 的类型系统不仅仅是一系列对象的集合。例如：\n",
       "\n",
       "\\begin{verbatim}\n",
       "abstract type Number end\n",
       "abstract type Real <: Number end\n",
       "\\end{verbatim}\n",
       "\\href{@ref}{\\texttt{Number}} 没有父节点（父类型）, 而 \\href{@ref}{\\texttt{Real}} 是 \\texttt{Number} 的一个抽象子类型。\n",
       "\n"
      ],
      "text/markdown": [
       "```\n",
       "abstract type\n",
       "```\n",
       "\n",
       "`abstract type` 声明来一个不能实例化的类型，它将仅仅作为类型图中的一个节点存在，从而能够描述一系列相互关联的具体类型（concrete type）：这些具体类型都是抽象类型的子节点。抽象类型在概念上使得 Julia 的类型系统不仅仅是一系列对象的集合。例如：\n",
       "\n",
       "```julia\n",
       "abstract type Number end\n",
       "abstract type Real <: Number end\n",
       "```\n",
       "\n",
       "[`Number`](@ref) 没有父节点（父类型）, 而 [`Real`](@ref) 是 `Number` 的一个抽象子类型。\n"
      ],
      "text/plain": [
       "\u001b[36m  abstract type\u001b[39m\n",
       "\n",
       "  \u001b[36mabstract type\u001b[39m 声明来一个不能实例化的类型，它将仅仅作为类型图中的一个节点存在，从而能够描述一系列相互关联的具体类型（concrete\n",
       "  type）：这些具体类型都是抽象类型的子节点。抽象类型在概念上使得 Julia 的类型系统不仅仅是一系列对象的集合。例如：\n",
       "\n",
       "\u001b[36m  abstract type Number end\u001b[39m\n",
       "\u001b[36m  abstract type Real <: Number end\u001b[39m\n",
       "\n",
       "  \u001b[36mNumber\u001b[39m 没有父节点（父类型）, 而 \u001b[36mReal\u001b[39m 是 \u001b[36mNumber\u001b[39m 的一个抽象子类型。"
      ]
     },
     "execution_count": 111,
     "metadata": {},
     "output_type": "execute_result"
    }
   ],
   "source": [
    "?abstract type"
   ]
  },
  {
   "cell_type": "code",
   "execution_count": 109,
   "id": "cc914a2f-115d-42d6-a071-ea0892354470",
   "metadata": {},
   "outputs": [
    {
     "name": "stdout",
     "output_type": "stream",
     "text": [
      "Number\n",
      "  Complex\n",
      "  Real\n",
      "    AbstractFloat\n",
      "      BigFloat\n",
      "      Float16\n",
      "      Float32\n",
      "      Float64\n",
      "    AbstractIrrational\n",
      "      Irrational\n",
      "    FixedPointNumbers.FixedPoint\n",
      "      FixedPointNumbers.Fixed\n",
      "      FixedPointNumbers.Normed\n",
      "    Integer\n",
      "      Bool\n",
      "      Signed\n",
      "        BigInt\n",
      "        Int128\n",
      "        Int16\n",
      "        Int32\n",
      "        Int64\n",
      "        Int8\n",
      "      Unsigned\n",
      "        UInt128\n",
      "        UInt16\n",
      "        UInt32\n",
      "        UInt64\n",
      "        UInt8\n",
      "    Rational\n"
     ]
    }
   ],
   "source": [
    "view_tree(Number)"
   ]
  },
  {
   "cell_type": "code",
   "execution_count": 113,
   "id": "53add783-fe86-4ad2-9e8f-455cebed6a39",
   "metadata": {},
   "outputs": [
    {
     "name": "stdout",
     "output_type": "stream",
     "text": [
      "AbstractString\n",
      "  RelocatableFolders.Path\n",
      "  String\n",
      "  SubString\n",
      "  SubstitutionString\n",
      "  Test.GenericString\n"
     ]
    }
   ],
   "source": [
    "view_tree(AbstractString)"
   ]
  },
  {
   "cell_type": "code",
   "execution_count": 114,
   "id": "ec553feb-8100-47a1-9ccd-ded57b710368",
   "metadata": {},
   "outputs": [
    {
     "name": "stdout",
     "output_type": "stream",
     "text": [
      "search: \u001b[0m\u001b[1mm\u001b[22m\u001b[0m\u001b[1ma\u001b[22m\u001b[0m\u001b[1mc\u001b[22m\u001b[0m\u001b[1mr\u001b[22m\u001b[0m\u001b[1mo\u001b[22m \u001b[0m\u001b[1mm\u001b[22m\u001b[0m\u001b[1ma\u001b[22m\u001b[0m\u001b[1mc\u001b[22m\u001b[0m\u001b[1mr\u001b[22m\u001b[0m\u001b[1mo\u001b[22mexpand @\u001b[0m\u001b[1mm\u001b[22m\u001b[0m\u001b[1ma\u001b[22m\u001b[0m\u001b[1mc\u001b[22m\u001b[0m\u001b[1mr\u001b[22m\u001b[0m\u001b[1mo\u001b[22mexpand @\u001b[0m\u001b[1mm\u001b[22m\u001b[0m\u001b[1ma\u001b[22m\u001b[0m\u001b[1mc\u001b[22m\u001b[0m\u001b[1mr\u001b[22m\u001b[0m\u001b[1mo\u001b[22mexpand1 set\u001b[0m\u001b[1mm\u001b[22m\u001b[0m\u001b[1ma\u001b[22mrker\u001b[0m\u001b[1mc\u001b[22molo\u001b[0m\u001b[1mr\u001b[22mind\n",
      "\n"
     ]
    },
    {
     "data": {
      "text/latex": [
       "\\begin{verbatim}\n",
       "macro\n",
       "\\end{verbatim}\n",
       "\\texttt{macro} 定义了一种会将生成的代码包含在最终程序体中的方法，这称之为宏。一个宏将一系列输入映射到一个表达式，然后所返回的表达式将会被直接进行编译而不需要在运行时调用 \\texttt{eval} 函数。宏的输入可以包括表达式、字面量和符号。例如：\n",
       "\n",
       "\\section{例子}\n",
       "\\begin{verbatim}\n",
       "julia> macro sayhello(name)\n",
       "           return :( println(\"Hello, \", $name, \"!\") )\n",
       "       end\n",
       "@sayhello (macro with 1 method)\n",
       "\n",
       "julia> @sayhello \"小明\"\n",
       "Hello, 小明!\n",
       "\\end{verbatim}\n"
      ],
      "text/markdown": [
       "```\n",
       "macro\n",
       "```\n",
       "\n",
       "`macro` 定义了一种会将生成的代码包含在最终程序体中的方法，这称之为宏。一个宏将一系列输入映射到一个表达式，然后所返回的表达式将会被直接进行编译而不需要在运行时调用 `eval` 函数。宏的输入可以包括表达式、字面量和符号。例如：\n",
       "\n",
       "# 例子\n",
       "\n",
       "```jldoctest\n",
       "julia> macro sayhello(name)\n",
       "           return :( println(\"Hello, \", $name, \"!\") )\n",
       "       end\n",
       "@sayhello (macro with 1 method)\n",
       "\n",
       "julia> @sayhello \"小明\"\n",
       "Hello, 小明!\n",
       "```\n"
      ],
      "text/plain": [
       "\u001b[36m  macro\u001b[39m\n",
       "\n",
       "  \u001b[36mmacro\u001b[39m\n",
       "  定义了一种会将生成的代码包含在最终程序体中的方法，这称之为宏。一个宏将一系列输入映射到一个表达式，然后所返回的表达式将会被直接进行编译而不需要在运行时调用\n",
       "  \u001b[36meval\u001b[39m 函数。宏的输入可以包括表达式、字面量和符号。例如：\n",
       "\n",
       "\u001b[1m  例子\u001b[22m\n",
       "\u001b[1m  ≡≡≡≡\u001b[22m\n",
       "\n",
       "\u001b[36m  julia> macro sayhello(name)\u001b[39m\n",
       "\u001b[36m             return :( println(\"Hello, \", $name, \"!\") )\u001b[39m\n",
       "\u001b[36m         end\u001b[39m\n",
       "\u001b[36m  @sayhello (macro with 1 method)\u001b[39m\n",
       "\u001b[36m  \u001b[39m\n",
       "\u001b[36m  julia> @sayhello \"小明\"\u001b[39m\n",
       "\u001b[36m  Hello, 小明!\u001b[39m"
      ]
     },
     "execution_count": 114,
     "metadata": {},
     "output_type": "execute_result"
    }
   ],
   "source": [
    "?macro"
   ]
  },
  {
   "cell_type": "code",
   "execution_count": 3,
   "id": "c7c195b9-22e2-4c7e-a88e-f63d6961f781",
   "metadata": {},
   "outputs": [
    {
     "data": {
      "text/plain": [
       ":(a + b)"
      ]
     },
     "execution_count": 3,
     "metadata": {},
     "output_type": "execute_result"
    }
   ],
   "source": [
    "e = :(a + b)"
   ]
  },
  {
   "cell_type": "code",
   "execution_count": 4,
   "id": "f787319d-96aa-4463-acea-dd90af89d1a3",
   "metadata": {},
   "outputs": [
    {
     "data": {
      "text/plain": [
       "Expr"
      ]
     },
     "execution_count": 4,
     "metadata": {},
     "output_type": "execute_result"
    }
   ],
   "source": [
    "e\n",
    "typeof(e)"
   ]
  },
  {
   "cell_type": "code",
   "execution_count": null,
   "id": "8ec57c4e-0932-4181-8ca2-9745c2ba4eb4",
   "metadata": {},
   "outputs": [
    {
     "name": "stdout",
     "output_type": "stream",
     "text": [
      "search: \u001b[0m\u001b[1mE\u001b[22m\u001b[0m\u001b[1mx\u001b[22m\u001b[0m\u001b[1mp\u001b[22m\u001b[0m\u001b[1mr\u001b[22m \u001b[0m\u001b[1me\u001b[22m\u001b[0m\u001b[1mx\u001b[22m\u001b[0m\u001b[1mp\u001b[22mo\u001b[0m\u001b[1mr\u001b[22mt n\u001b[0m\u001b[1me\u001b[22m\u001b[0m\u001b[1mx\u001b[22mt\u001b[0m\u001b[1mp\u001b[22m\u001b[0m\u001b[1mr\u001b[22mod \u001b[0m\u001b[1me\u001b[22m\u001b[0m\u001b[1mx\u001b[22m\u001b[0m\u001b[1mp\u001b[22manduse\u001b[0m\u001b[1mr\u001b[22m \u001b[0m\u001b[1me\u001b[22m\u001b[0m\u001b[1mx\u001b[22m\u001b[0m\u001b[1mp\u001b[22m2 \u001b[0m\u001b[1me\u001b[22m\u001b[0m\u001b[1mx\u001b[22m\u001b[0m\u001b[1mp\u001b[22m \u001b[0m\u001b[1me\u001b[22m\u001b[0m\u001b[1mx\u001b[22m\u001b[0m\u001b[1mp\u001b[22mm1 \u001b[0m\u001b[1me\u001b[22m\u001b[0m\u001b[1mx\u001b[22m\u001b[0m\u001b[1mp\u001b[22m10 \u001b[0m\u001b[1me\u001b[22m\u001b[0m\u001b[1mx\u001b[22m\u001b[0m\u001b[1mp\u001b[22monent\n",
      "\n"
     ]
    },
    {
     "data": {
      "text/latex": [
       "\\begin{verbatim}\n",
       "Expr(head::Symbol, args...)\n",
       "\\end{verbatim}\n",
       "A type representing compound expressions in parsed julia code (ASTs). Each expression consists of a \\texttt{head} \\texttt{Symbol} identifying which kind of expression it is (e.g. a call, for loop, conditional statement, etc.), and subexpressions (e.g. the arguments of a call). The subexpressions are stored in a \\texttt{Vector\\{Any\\}} field called \\texttt{args}.\n",
       "\n",
       "See the manual chapter on \\href{@ref}{Metaprogramming} and the developer documentation \\href{@ref}{Julia ASTs}.\n",
       "\n",
       "\\section{Examples}\n",
       "\\begin{verbatim}\n",
       "julia> Expr(:call, :+, 1, 2)\n",
       ":(1 + 2)\n",
       "\n",
       "julia> dump(:(a ? b : c))\n",
       "Expr\n",
       "  head: Symbol if\n",
       "  args: Array{Any}((3,))\n",
       "    1: Symbol a\n",
       "    2: Symbol b\n",
       "    3: Symbol c\n",
       "\\end{verbatim}\n"
      ],
      "text/markdown": [
       "```\n",
       "Expr(head::Symbol, args...)\n",
       "```\n",
       "\n",
       "A type representing compound expressions in parsed julia code (ASTs). Each expression consists of a `head` `Symbol` identifying which kind of expression it is (e.g. a call, for loop, conditional statement, etc.), and subexpressions (e.g. the arguments of a call). The subexpressions are stored in a `Vector{Any}` field called `args`.\n",
       "\n",
       "See the manual chapter on [Metaprogramming](@ref) and the developer documentation [Julia ASTs](@ref).\n",
       "\n",
       "# Examples\n",
       "\n",
       "```jldoctest\n",
       "julia> Expr(:call, :+, 1, 2)\n",
       ":(1 + 2)\n",
       "\n",
       "julia> dump(:(a ? b : c))\n",
       "Expr\n",
       "  head: Symbol if\n",
       "  args: Array{Any}((3,))\n",
       "    1: Symbol a\n",
       "    2: Symbol b\n",
       "    3: Symbol c\n",
       "```\n"
      ],
      "text/plain": [
       "\u001b[36m  Expr(head::Symbol, args...)\u001b[39m\n",
       "\n",
       "  A type representing compound expressions in parsed julia code (ASTs). Each\n",
       "  expression consists of a \u001b[36mhead\u001b[39m \u001b[36mSymbol\u001b[39m identifying which kind of expression it\n",
       "  is (e.g. a call, for loop, conditional statement, etc.), and subexpressions\n",
       "  (e.g. the arguments of a call). The subexpressions are stored in a\n",
       "  \u001b[36mVector{Any}\u001b[39m field called \u001b[36margs\u001b[39m.\n",
       "\n",
       "  See the manual chapter on Metaprogramming and the developer documentation\n",
       "  Julia ASTs.\n",
       "\n",
       "\u001b[1m  Examples\u001b[22m\n",
       "\u001b[1m  ≡≡≡≡≡≡≡≡≡≡\u001b[22m\n",
       "\n",
       "\u001b[36m  julia> Expr(:call, :+, 1, 2)\u001b[39m\n",
       "\u001b[36m  :(1 + 2)\u001b[39m\n",
       "\u001b[36m  \u001b[39m\n",
       "\u001b[36m  julia> dump(:(a ? b : c))\u001b[39m\n",
       "\u001b[36m  Expr\u001b[39m\n",
       "\u001b[36m    head: Symbol if\u001b[39m\n",
       "\u001b[36m    args: Array{Any}((3,))\u001b[39m\n",
       "\u001b[36m      1: Symbol a\u001b[39m\n",
       "\u001b[36m      2: Symbol b\u001b[39m\n",
       "\u001b[36m      3: Symbol c\u001b[39m"
      ]
     },
     "execution_count": 5,
     "metadata": {},
     "output_type": "execute_result"
    }
   ],
   "source": [
    "?Expr"
   ]
  },
  {
   "cell_type": "code",
   "execution_count": null,
   "id": "b349c74f-3008-4154-8e13-8faf94991677",
   "metadata": {},
   "outputs": [
    {
     "name": "stdout",
     "output_type": "stream",
     "text": [
      "search: \u001b[0m\u001b[1md\u001b[22m\u001b[0m\u001b[1mu\u001b[22m\u001b[0m\u001b[1mm\u001b[22m\u001b[0m\u001b[1mp\u001b[22m\n",
      "\n"
     ]
    },
    {
     "data": {
      "text/latex": [
       "\\begin{verbatim}\n",
       "dump(x; maxdepth=8)\n",
       "\\end{verbatim}\n",
       "Show every part of the representation of a value. The depth of the output is truncated at \\texttt{maxdepth}.\n",
       "\n",
       "\\section{Examples}\n",
       "\\begin{verbatim}\n",
       "julia> struct MyStruct\n",
       "           x\n",
       "           y\n",
       "       end\n",
       "\n",
       "julia> x = MyStruct(1, (2,3));\n",
       "\n",
       "julia> dump(x)\n",
       "MyStruct\n",
       "  x: Int64 1\n",
       "  y: Tuple{Int64, Int64}\n",
       "    1: Int64 2\n",
       "    2: Int64 3\n",
       "\n",
       "julia> dump(x; maxdepth = 1)\n",
       "MyStruct\n",
       "  x: Int64 1\n",
       "  y: Tuple{Int64, Int64}\n",
       "\\end{verbatim}\n"
      ],
      "text/markdown": [
       "```\n",
       "dump(x; maxdepth=8)\n",
       "```\n",
       "\n",
       "Show every part of the representation of a value. The depth of the output is truncated at `maxdepth`.\n",
       "\n",
       "# Examples\n",
       "\n",
       "```jldoctest\n",
       "julia> struct MyStruct\n",
       "           x\n",
       "           y\n",
       "       end\n",
       "\n",
       "julia> x = MyStruct(1, (2,3));\n",
       "\n",
       "julia> dump(x)\n",
       "MyStruct\n",
       "  x: Int64 1\n",
       "  y: Tuple{Int64, Int64}\n",
       "    1: Int64 2\n",
       "    2: Int64 3\n",
       "\n",
       "julia> dump(x; maxdepth = 1)\n",
       "MyStruct\n",
       "  x: Int64 1\n",
       "  y: Tuple{Int64, Int64}\n",
       "```\n"
      ],
      "text/plain": [
       "\u001b[36m  dump(x; maxdepth=8)\u001b[39m\n",
       "\n",
       "  Show every part of the representation of a value. The depth of the output is\n",
       "  truncated at \u001b[36mmaxdepth\u001b[39m.\n",
       "\n",
       "\u001b[1m  Examples\u001b[22m\n",
       "\u001b[1m  ≡≡≡≡≡≡≡≡≡≡\u001b[22m\n",
       "\n",
       "\u001b[36m  julia> struct MyStruct\u001b[39m\n",
       "\u001b[36m             x\u001b[39m\n",
       "\u001b[36m             y\u001b[39m\n",
       "\u001b[36m         end\u001b[39m\n",
       "\u001b[36m  \u001b[39m\n",
       "\u001b[36m  julia> x = MyStruct(1, (2,3));\u001b[39m\n",
       "\u001b[36m  \u001b[39m\n",
       "\u001b[36m  julia> dump(x)\u001b[39m\n",
       "\u001b[36m  MyStruct\u001b[39m\n",
       "\u001b[36m    x: Int64 1\u001b[39m\n",
       "\u001b[36m    y: Tuple{Int64, Int64}\u001b[39m\n",
       "\u001b[36m      1: Int64 2\u001b[39m\n",
       "\u001b[36m      2: Int64 3\u001b[39m\n",
       "\u001b[36m  \u001b[39m\n",
       "\u001b[36m  julia> dump(x; maxdepth = 1)\u001b[39m\n",
       "\u001b[36m  MyStruct\u001b[39m\n",
       "\u001b[36m    x: Int64 1\u001b[39m\n",
       "\u001b[36m    y: Tuple{Int64, Int64}\u001b[39m"
      ]
     },
     "execution_count": 6,
     "metadata": {},
     "output_type": "execute_result"
    }
   ],
   "source": [
    "?dump"
   ]
  },
  {
   "cell_type": "code",
   "execution_count": 149,
   "id": "a6926fac-b6f8-49c2-9818-db79c096f1a5",
   "metadata": {},
   "outputs": [
    {
     "name": "stdout",
     "output_type": "stream",
     "text": [
      "Expr\n",
      "  head: Symbol call\n",
      "  args: Array{Any}((3,))\n",
      "    1: Symbol +\n",
      "    2: Symbol a\n",
      "    3: Symbol b\n"
     ]
    }
   ],
   "source": [
    "dump(e, maxdepth=5)"
   ]
  },
  {
   "cell_type": "code",
   "execution_count": 14,
   "id": "bfc3e64d-a2b9-4773-8d15-0be946d6ec71",
   "metadata": {},
   "outputs": [
    {
     "data": {
      "text/plain": [
       "quote\n",
       "    \u001b[90m#= In[14]:3 =#\u001b[39m\n",
       "    a + b\n",
       "    \u001b[90m#= In[14]:4 =#\u001b[39m\n",
       "    b + c\n",
       "end"
      ]
     },
     "execution_count": 14,
     "metadata": {},
     "output_type": "execute_result"
    }
   ],
   "source": [
    "a= \n",
    "quote\n",
    "    a + b\n",
    "    b + c\n",
    "end"
   ]
  },
  {
   "cell_type": "code",
   "execution_count": 13,
   "id": "76cbd8a6-ab29-4518-93f6-491bbd025972",
   "metadata": {},
   "outputs": [
    {
     "name": "stdout",
     "output_type": "stream",
     "text": [
      "Expr\n",
      "  head: Symbol block\n",
      "  args: Array{Any}((4,))\n",
      "    1: LineNumberNode\n",
      "      line: Int64 2\n",
      "      file: Symbol In[10]\n",
      "    2: Expr\n",
      "      head: Symbol call\n",
      "      args: Array{Any}((3,))\n",
      "        1: Symbol +\n",
      "        2: Symbol a\n",
      "        3: Symbol b\n",
      "    3: LineNumberNode\n",
      "      line: Int64 3\n",
      "      file: Symbol In[10]\n",
      "    4: Expr\n",
      "      head: Symbol call\n",
      "      args: Array{Any}((3,))\n",
      "        1: Symbol +\n",
      "        2: Symbol b\n",
      "        3: Symbol c\n"
     ]
    }
   ],
   "source": [
    "dump(a)"
   ]
  },
  {
   "cell_type": "code",
   "execution_count": 21,
   "id": "f43c4d2f-4939-4d3d-b534-9f0678e7fc76",
   "metadata": {},
   "outputs": [
    {
     "data": {
      "text/plain": [
       "Expr"
      ]
     },
     "execution_count": 21,
     "metadata": {},
     "output_type": "execute_result"
    }
   ],
   "source": [
    "typeof(:(:(a+b)))"
   ]
  },
  {
   "cell_type": "code",
   "execution_count": 36,
   "id": "ee51faa8-5f84-4cef-adf2-045901ca65ac",
   "metadata": {},
   "outputs": [
    {
     "data": {
      "text/plain": [
       "@> (macro with 1 method)"
      ]
     },
     "execution_count": 36,
     "metadata": {},
     "output_type": "execute_result"
    }
   ],
   "source": [
    "fa(x) = (println(\"call a\"); x)\n",
    "fb(x) = (println(\"call b\"); x)\n",
    "fc(x) = (println(\"call c\"); x)\n",
    "\n",
    "macro >(fs...)\n",
    "    ex = :($(last(fs))(x))\n",
    "    for f in reverse(fs[1:end-1])\n",
    "        ex = :($f($ex))\n",
    "    end\n",
    "    :(x->$ex)\n",
    "end"
   ]
  },
  {
   "cell_type": "code",
   "execution_count": 43,
   "id": "eaf3689c-6f65-412c-ab7b-492fe668774f",
   "metadata": {},
   "outputs": [
    {
     "name": "stdout",
     "output_type": "stream",
     "text": [
      "call c\n",
      "call b\n",
      "call a\n"
     ]
    },
    {
     "data": {
      "text/plain": [
       ":a"
      ]
     },
     "execution_count": 43,
     "metadata": {},
     "output_type": "execute_result"
    }
   ],
   "source": [
    "f = @> fa fb fc\n",
    "f(:a)"
   ]
  },
  {
   "cell_type": "code",
   "execution_count": 35,
   "id": "4d16e2ab-7b82-4bae-a67a-fb8ce3ebec1d",
   "metadata": {},
   "outputs": [
    {
     "data": {
      "text/plain": [
       "9-element Vector{Int64}:\n",
       " 1\n",
       " 2\n",
       " 3\n",
       " 4\n",
       " 5\n",
       " 6\n",
       " 7\n",
       " 8\n",
       " 9"
      ]
     },
     "execution_count": 35,
     "metadata": {},
     "output_type": "execute_result"
    }
   ],
   "source": [
    "[x for x in 1:10][1:end-1]"
   ]
  },
  {
   "cell_type": "code",
   "execution_count": 15,
   "id": "e5712adf-0cc6-4212-aa11-e8c543e0b41f",
   "metadata": {},
   "outputs": [],
   "source": [
    "using JuliaZH"
   ]
  },
  {
   "cell_type": "code",
   "execution_count": 16,
   "id": "9a58717b-dda7-4213-a844-e24fceac64af",
   "metadata": {},
   "outputs": [],
   "source": [
    "using Lazy"
   ]
  },
  {
   "cell_type": "code",
   "execution_count": 17,
   "id": "c3caa654-876b-404d-8e05-f8fa755c2386",
   "metadata": {},
   "outputs": [
    {
     "name": "stdout",
     "output_type": "stream",
     "text": [
      "search: \u001b[0m\u001b[1mL\u001b[22m\u001b[0m\u001b[1ma\u001b[22m\u001b[0m\u001b[1mz\u001b[22m\u001b[0m\u001b[1my\u001b[22m \u001b[0m\u001b[1ml\u001b[22m\u001b[0m\u001b[1ma\u001b[22m\u001b[0m\u001b[1mz\u001b[22m\u001b[0m\u001b[1my\u001b[22mmap @\u001b[0m\u001b[1ml\u001b[22m\u001b[0m\u001b[1ma\u001b[22m\u001b[0m\u001b[1mz\u001b[22m\u001b[0m\u001b[1my\u001b[22m Ju\u001b[0m\u001b[1ml\u001b[22mi\u001b[0m\u001b[1ma\u001b[22m\u001b[0m\u001b[1mZ\u001b[22mH disp\u001b[0m\u001b[1ml\u001b[22m\u001b[0m\u001b[1ma\u001b[22mysi\u001b[0m\u001b[1mz\u001b[22me \u001b[0m\u001b[1ml\u001b[22me\u001b[0m\u001b[1ma\u001b[22mding_\u001b[0m\u001b[1mz\u001b[22meros\n",
      "\n"
     ]
    },
    {
     "data": {
      "text/latex": [
       "No docstring found for module \\texttt{Lazy}.\n",
       "\n",
       "\\section{Exported names}\n",
       "\\texttt{@>}, \\texttt{@>>}, \\texttt{@as}, \\texttt{@bounce}, \\texttt{@d}, \\texttt{@defonce}, \\texttt{@dotimes}, \\texttt{@dynamic}, \\texttt{@errs}, \\texttt{@forward}, \\texttt{@init}, \\texttt{@iter}, \\texttt{@lazy}, \\texttt{@listable}, \\texttt{@oncethen}, \\texttt{@or}, \\texttt{@rec}, \\texttt{@switch}, \\texttt{@with}, \\texttt{List}, \\texttt{c}, \\texttt{concat}, \\texttt{constantly}, \\texttt{d}, \\texttt{distinct}, \\texttt{doall}, \\texttt{dorun}, \\texttt{drop}, \\texttt{droplast}, \\texttt{dropwhile}, \\texttt{flatten}, \\texttt{foreach}, \\texttt{frequencies}, \\texttt{groupby}, \\texttt{init}, \\texttt{interpose}, \\texttt{iterated}, \\texttt{lazymap}, \\texttt{list}, \\texttt{partition}, \\texttt{partitionby}, \\texttt{prepend}, \\texttt{reductions}, \\texttt{remove}, \\texttt{repeatedly}, \\texttt{riffle}, \\texttt{s}, \\texttt{seq}, \\texttt{splitat}, \\texttt{splitby}, \\texttt{tail}, \\texttt{take}, \\texttt{takelast}, \\texttt{takenth}, \\texttt{takeuntil}, \\texttt{takewhile}\n",
       "\n",
       "\\section{Displaying contents of readme found at \\texttt{/Users/feizhanxia/.julia/packages/Lazy/9Xnd3/README.md}}\n",
       "\\section{Lazy.jl}\n",
       "\\href{https://gitter.im/one-more-minute/Lazy.jl}{\\begin{figure}\n",
       "\\centering\n",
       "\\includegraphics{https://badges.gitter.im/one-more-minute/Lazy.jl.png}\n",
       "\\caption{Gitter chat}\n",
       "\\end{figure}\n",
       "}\n",
       "\n",
       "\\begin{verbatim}\n",
       "Pkg.add(\"Lazy\")\n",
       "\\end{verbatim}\n",
       "Lazy.jl provides Julia with the cornerstones of functional programming - lazily-evaluated lists and a large library of functions for working with them. It's also a repository for some neat macros, which might be useful to you even if you don't want lazy lists (see below).\n",
       "\n",
       "Firstly, the canonical examples, in Julia:\n",
       "\n",
       "\\begin{verbatim}\n",
       "using Lazy\n",
       "\n",
       "# Note : prepends. Don't forget the semicolon!\n",
       "#   -- When running interactively, the semi-colon prevents the environment \n",
       "#      from trying to display an infinite list.\n",
       "\n",
       "# Fibonacci sequence defined in terms of itself:\n",
       "fibs = @lazy 0:1:(fibs + drop(1, fibs));\n",
       "\n",
       "take(20, fibs)\n",
       "#> (0 1 1 2 3 5 8 13 21 34 55 89 144 233 377 610 987 1597 2584 4181)\n",
       "\n",
       "# isprime defined in terms of the prime numbers:\n",
       "isprime(n) =\n",
       "  @>> primes begin\n",
       "    takewhile(x -> x<=sqrt(n))\n",
       "    map(x -> n % x == 0)\n",
       "    any; !\n",
       "  end\n",
       "\n",
       "# the prime numbers defined in terms of isprime:\n",
       "primes = filter(isprime, Lazy.range(2));\n",
       "\n",
       "take(20, primes)\n",
       "#> (2 3 5 7 11 13 17 19 23 29 31 37 41 43 47 53 59 61 67 71)\n",
       "\\end{verbatim}\n",
       "If you've done any functional programming, you already know how to use Lazy.jl; just head down to the reference below to see what functions are available.\n",
       "\n",
       "\\subsubsection{Intro to Laziness}\n",
       "For the unfamiliar, laziness just means that the elements of the list aren't actually calculated until you use them. This allows you to perform all sorts of magic, like working with infinite lists or lists of items from the future.\n",
       "\n",
       "\\begin{verbatim}\n",
       "# Even square numbers:\n",
       "> esquares = @>> Lazy.range() map(x->x^2) filter(iseven);\n",
       "# first 5\n",
       "> take(5, esquares)\n",
       "List:\n",
       "  4\n",
       "  16\n",
       "  36\n",
       "  64\n",
       "  100\n",
       "# 99th\n",
       "> esquares[99]\n",
       "39204\n",
       "\\end{verbatim}\n",
       "But lazy lists aren't just for mathematical tricks; you can use them very practically for things like file IO. For example, you might represent the lines of a terabyte-large file with a lazy list; you can process the lines as any other list, letting the IO happen in the background.\n",
       "\n",
       "\\begin{verbatim}\n",
       "# TODO: lineseq example\n",
       "@>> \"file.txt\" lineseq foreach(println) # Will work no matter many lines file.txt has\n",
       "\\end{verbatim}\n",
       "The other thing that separates lists from arrays is the huge amount of functionality that comes with most functional programming libraries, including Lazy.jl - if you know your way around them, most data manipulation becomes a simple case of chaining a few functions together. Even if you do ultimately need arrays for speed, you could do worse than to prototype with lists.\n",
       "\n",
       "\\subsubsection{Macros}\n",
       "The threading macros will pipe values through functions, a bit like the \\texttt{|>} operator but far more flexible. They can make code a \\emph{lot} cleaner by putting function calls in the order they are applied. The best way to understand them is by example:\n",
       "\n",
       "\\begin{verbatim}\n",
       "# Just like x |> f etc.\n",
       "@> x f == f(x)\n",
       "@> x g f == f(g(x))\n",
       "@> x a b c d e == e(d(c(b(a(x)))))\n",
       "\n",
       "# Unlike |>, functions can have arguments - the value\n",
       "# preceding a function will be treated as its first argument\n",
       "@> x g(y, z) f == f(g(x, y, z))\n",
       "\n",
       "@> x g f(y, z) == f(g(x), y, z)\n",
       "\n",
       "# @>> does the exact same thing, but with value treated as the *last* argument.\n",
       "\n",
       "@>> x g(y, z) f == f(g(y, z, x))\n",
       "\n",
       "@>> x g f(y, z) == f(y, z, g(x))\n",
       "\n",
       "# @as lets you name the threaded argument\n",
       "@as _ x f(_, y) g(z, _) == g(z, f(x, y))\n",
       "\n",
       "# All threading macros work over begin blocks\n",
       "\n",
       "@as x 2 begin\n",
       " x^2\n",
       " x+2\n",
       "end == 6\n",
       "\\end{verbatim}\n",
       "\\subsubsection{Function Reference}\n",
       "\\begin{verbatim}\n",
       "List # The abstract type that represents lazy lists\n",
       "\n",
       "list(1,2,3) == (1 2 3)\n",
       "\n",
       "prepend(1, list(2,3,4)) == 1:list(2,3,4) == (1 2 3 4)\n",
       "\n",
       "# Most list handling functions have similar names\n",
       "# to those in Clojure.\n",
       "\n",
       "# Create a seq from any iterator or array\n",
       "seq([1,2,3]) == seq(1:3) == (1 2 3)\n",
       "\n",
       "# Infinite list of an element\n",
       "constantly(x) == (x x x ...)\n",
       "constantly(1) == (1 1 1 ...)\n",
       "\n",
       "# Infinite list of function calls\n",
       "repeatedly(f) == (f() f() f() ...)\n",
       "repeatedly(rand) == (0.634 0.478 0.776 ...)\n",
       "\n",
       "# Infinitely repeat list\n",
       "cycle(a) == (a... a... a... ...)\n",
       "cycle([1,2,3]) == (1 2 3 1 2 3 1 2 3 1 ...)\n",
       "\n",
       "# Repeatedly nest function calls\n",
       "iterated(f, x) == (x f(x) f(f(x)) ...)\n",
       "iterated(x->x^2, 2) == (2 4 16 256 65536 ...)\n",
       "\n",
       "range(2) == (2 3 4 5 ...)\n",
       "range(1, 5) == (1 2 3 4 5)\n",
       "range(1, 5, 2) == (1 3 5)\n",
       "\n",
       "list(1,2,3) * list(4,5,6) == (1 2 3 4 5 6)\n",
       "\n",
       "first(list(1,2,3)) == 1\n",
       "tail(list(1,2,3)) == (2 3)\n",
       "\n",
       "flatten(list(1,2,list(3,4))) == (1 2 3 4)\n",
       "\n",
       "takeuntil(x -> x > 1, 0:1) == (0 1)\n",
       "takeuntil(x -> x > 1, 0:5) == (0 1 2)\n",
       "takeuntil(x -> x > 1, 2:5) == (2)\n",
       "takeuntil(x -> x > 1, []) == ()\n",
       "\n",
       "riffle\n",
       "interpose\n",
       "take\n",
       "drop\n",
       "takelast\n",
       "droplast\n",
       "takenth\n",
       "takewhile\n",
       "dropwhile\n",
       "# These work as for arrays, but are\n",
       "# lazy where appropriate.\n",
       "map, reduce, filter, reverse\n",
       "lazymap\n",
       "reductions\n",
       "remove\n",
       "dorun\n",
       "foreach\n",
       "distinct\n",
       "groupby\n",
       "partition\n",
       "partitionby\n",
       "splitat\n",
       "splitby\n",
       "\n",
       "# @lazy is the secret sauce that makes infinite definitions\n",
       "# work; usually you can just wrap your list definition in it:\n",
       "@lazy [1,2,3] == (1 2 3)\n",
       "# Define a lazy recursive function\n",
       "constantly(x) = @lazy x:constantly(x)\n",
       "\n",
       "# Make a function map itself over lists\n",
       "@listable exp\n",
       "exp(range()) == (2.71 7.38 20.08 54.59 148.41 ...)\n",
       "\n",
       "# Threading macros, see above\n",
       "@>, @>>\n",
       "\\end{verbatim}\n"
      ],
      "text/markdown": [
       "No docstring found for module `Lazy`.\n",
       "\n",
       "# Exported names\n",
       "\n",
       "`@>`, `@>>`, `@as`, `@bounce`, `@d`, `@defonce`, `@dotimes`, `@dynamic`, `@errs`, `@forward`, `@init`, `@iter`, `@lazy`, `@listable`, `@oncethen`, `@or`, `@rec`, `@switch`, `@with`, `List`, `c`, `concat`, `constantly`, `d`, `distinct`, `doall`, `dorun`, `drop`, `droplast`, `dropwhile`, `flatten`, `foreach`, `frequencies`, `groupby`, `init`, `interpose`, `iterated`, `lazymap`, `list`, `partition`, `partitionby`, `prepend`, `reductions`, `remove`, `repeatedly`, `riffle`, `s`, `seq`, `splitat`, `splitby`, `tail`, `take`, `takelast`, `takenth`, `takeuntil`, `takewhile`\n",
       "\n",
       "# Displaying contents of readme found at `/Users/feizhanxia/.julia/packages/Lazy/9Xnd3/README.md`\n",
       "\n",
       "# Lazy.jl\n",
       "\n",
       "[![Gitter chat](https://badges.gitter.im/one-more-minute/Lazy.jl.png)](https://gitter.im/one-more-minute/Lazy.jl)\n",
       "\n",
       "```julia\n",
       "Pkg.add(\"Lazy\")\n",
       "```\n",
       "\n",
       "Lazy.jl provides Julia with the cornerstones of functional programming - lazily-evaluated lists and a large library of functions for working with them. It's also a repository for some neat macros, which might be useful to you even if you don't want lazy lists (see below).\n",
       "\n",
       "Firstly, the canonical examples, in Julia:\n",
       "\n",
       "```julia\n",
       "using Lazy\n",
       "\n",
       "# Note : prepends. Don't forget the semicolon!\n",
       "#   -- When running interactively, the semi-colon prevents the environment \n",
       "#      from trying to display an infinite list.\n",
       "\n",
       "# Fibonacci sequence defined in terms of itself:\n",
       "fibs = @lazy 0:1:(fibs + drop(1, fibs));\n",
       "\n",
       "take(20, fibs)\n",
       "#> (0 1 1 2 3 5 8 13 21 34 55 89 144 233 377 610 987 1597 2584 4181)\n",
       "\n",
       "# isprime defined in terms of the prime numbers:\n",
       "isprime(n) =\n",
       "  @>> primes begin\n",
       "    takewhile(x -> x<=sqrt(n))\n",
       "    map(x -> n % x == 0)\n",
       "    any; !\n",
       "  end\n",
       "\n",
       "# the prime numbers defined in terms of isprime:\n",
       "primes = filter(isprime, Lazy.range(2));\n",
       "\n",
       "take(20, primes)\n",
       "#> (2 3 5 7 11 13 17 19 23 29 31 37 41 43 47 53 59 61 67 71)\n",
       "```\n",
       "\n",
       "If you've done any functional programming, you already know how to use Lazy.jl; just head down to the reference below to see what functions are available.\n",
       "\n",
       "### Intro to Laziness\n",
       "\n",
       "For the unfamiliar, laziness just means that the elements of the list aren't actually calculated until you use them. This allows you to perform all sorts of magic, like working with infinite lists or lists of items from the future.\n",
       "\n",
       "```julia\n",
       "# Even square numbers:\n",
       "> esquares = @>> Lazy.range() map(x->x^2) filter(iseven);\n",
       "# first 5\n",
       "> take(5, esquares)\n",
       "List:\n",
       "  4\n",
       "  16\n",
       "  36\n",
       "  64\n",
       "  100\n",
       "# 99th\n",
       "> esquares[99]\n",
       "39204\n",
       "```\n",
       "\n",
       "But lazy lists aren't just for mathematical tricks; you can use them very practically for things like file IO. For example, you might represent the lines of a terabyte-large file with a lazy list; you can process the lines as any other list, letting the IO happen in the background.\n",
       "\n",
       "```julia\n",
       "# TODO: lineseq example\n",
       "@>> \"file.txt\" lineseq foreach(println) # Will work no matter many lines file.txt has\n",
       "```\n",
       "\n",
       "The other thing that separates lists from arrays is the huge amount of functionality that comes with most functional programming libraries, including Lazy.jl - if you know your way around them, most data manipulation becomes a simple case of chaining a few functions together. Even if you do ultimately need arrays for speed, you could do worse than to prototype with lists.\n",
       "\n",
       "### Macros\n",
       "\n",
       "The threading macros will pipe values through functions, a bit like the `|>` operator but far more flexible. They can make code a *lot* cleaner by putting function calls in the order they are applied. The best way to understand them is by example:\n",
       "\n",
       "```julia\n",
       "# Just like x |> f etc.\n",
       "@> x f == f(x)\n",
       "@> x g f == f(g(x))\n",
       "@> x a b c d e == e(d(c(b(a(x)))))\n",
       "\n",
       "# Unlike |>, functions can have arguments - the value\n",
       "# preceding a function will be treated as its first argument\n",
       "@> x g(y, z) f == f(g(x, y, z))\n",
       "\n",
       "@> x g f(y, z) == f(g(x), y, z)\n",
       "\n",
       "# @>> does the exact same thing, but with value treated as the *last* argument.\n",
       "\n",
       "@>> x g(y, z) f == f(g(y, z, x))\n",
       "\n",
       "@>> x g f(y, z) == f(y, z, g(x))\n",
       "\n",
       "# @as lets you name the threaded argument\n",
       "@as _ x f(_, y) g(z, _) == g(z, f(x, y))\n",
       "\n",
       "# All threading macros work over begin blocks\n",
       "\n",
       "@as x 2 begin\n",
       " x^2\n",
       " x+2\n",
       "end == 6\n",
       "```\n",
       "\n",
       "### Function Reference\n",
       "\n",
       "```julia\n",
       "List # The abstract type that represents lazy lists\n",
       "\n",
       "list(1,2,3) == (1 2 3)\n",
       "\n",
       "prepend(1, list(2,3,4)) == 1:list(2,3,4) == (1 2 3 4)\n",
       "\n",
       "# Most list handling functions have similar names\n",
       "# to those in Clojure.\n",
       "\n",
       "# Create a seq from any iterator or array\n",
       "seq([1,2,3]) == seq(1:3) == (1 2 3)\n",
       "\n",
       "# Infinite list of an element\n",
       "constantly(x) == (x x x ...)\n",
       "constantly(1) == (1 1 1 ...)\n",
       "\n",
       "# Infinite list of function calls\n",
       "repeatedly(f) == (f() f() f() ...)\n",
       "repeatedly(rand) == (0.634 0.478 0.776 ...)\n",
       "\n",
       "# Infinitely repeat list\n",
       "cycle(a) == (a... a... a... ...)\n",
       "cycle([1,2,3]) == (1 2 3 1 2 3 1 2 3 1 ...)\n",
       "\n",
       "# Repeatedly nest function calls\n",
       "iterated(f, x) == (x f(x) f(f(x)) ...)\n",
       "iterated(x->x^2, 2) == (2 4 16 256 65536 ...)\n",
       "\n",
       "range(2) == (2 3 4 5 ...)\n",
       "range(1, 5) == (1 2 3 4 5)\n",
       "range(1, 5, 2) == (1 3 5)\n",
       "\n",
       "list(1,2,3) * list(4,5,6) == (1 2 3 4 5 6)\n",
       "\n",
       "first(list(1,2,3)) == 1\n",
       "tail(list(1,2,3)) == (2 3)\n",
       "\n",
       "flatten(list(1,2,list(3,4))) == (1 2 3 4)\n",
       "\n",
       "takeuntil(x -> x > 1, 0:1) == (0 1)\n",
       "takeuntil(x -> x > 1, 0:5) == (0 1 2)\n",
       "takeuntil(x -> x > 1, 2:5) == (2)\n",
       "takeuntil(x -> x > 1, []) == ()\n",
       "\n",
       "riffle\n",
       "interpose\n",
       "take\n",
       "drop\n",
       "takelast\n",
       "droplast\n",
       "takenth\n",
       "takewhile\n",
       "dropwhile\n",
       "# These work as for arrays, but are\n",
       "# lazy where appropriate.\n",
       "map, reduce, filter, reverse\n",
       "lazymap\n",
       "reductions\n",
       "remove\n",
       "dorun\n",
       "foreach\n",
       "distinct\n",
       "groupby\n",
       "partition\n",
       "partitionby\n",
       "splitat\n",
       "splitby\n",
       "\n",
       "# @lazy is the secret sauce that makes infinite definitions\n",
       "# work; usually you can just wrap your list definition in it:\n",
       "@lazy [1,2,3] == (1 2 3)\n",
       "# Define a lazy recursive function\n",
       "constantly(x) = @lazy x:constantly(x)\n",
       "\n",
       "# Make a function map itself over lists\n",
       "@listable exp\n",
       "exp(range()) == (2.71 7.38 20.08 54.59 148.41 ...)\n",
       "\n",
       "# Threading macros, see above\n",
       "@>, @>>\n",
       "```\n"
      ],
      "text/plain": [
       "  No docstring found for module \u001b[36mLazy\u001b[39m.\n",
       "\n",
       "\u001b[1m  Exported names\u001b[22m\n",
       "\u001b[1m  ≡≡≡≡≡≡≡≡≡≡≡≡≡≡≡≡\u001b[22m\n",
       "\n",
       "  \u001b[36m@>\u001b[39m, \u001b[36m@>>\u001b[39m, \u001b[36m@as\u001b[39m, \u001b[36m@bounce\u001b[39m, \u001b[36m@d\u001b[39m, \u001b[36m@defonce\u001b[39m, \u001b[36m@dotimes\u001b[39m, \u001b[36m@dynamic\u001b[39m, \u001b[36m@errs\u001b[39m, \u001b[36m@forward\u001b[39m,\n",
       "  \u001b[36m@init\u001b[39m, \u001b[36m@iter\u001b[39m, \u001b[36m@lazy\u001b[39m, \u001b[36m@listable\u001b[39m, \u001b[36m@oncethen\u001b[39m, \u001b[36m@or\u001b[39m, \u001b[36m@rec\u001b[39m, \u001b[36m@switch\u001b[39m, \u001b[36m@with\u001b[39m, \u001b[36mList\u001b[39m,\n",
       "  \u001b[36mc\u001b[39m, \u001b[36mconcat\u001b[39m, \u001b[36mconstantly\u001b[39m, \u001b[36md\u001b[39m, \u001b[36mdistinct\u001b[39m, \u001b[36mdoall\u001b[39m, \u001b[36mdorun\u001b[39m, \u001b[36mdrop\u001b[39m, \u001b[36mdroplast\u001b[39m, \u001b[36mdropwhile\u001b[39m,\n",
       "  \u001b[36mflatten\u001b[39m, \u001b[36mforeach\u001b[39m, \u001b[36mfrequencies\u001b[39m, \u001b[36mgroupby\u001b[39m, \u001b[36minit\u001b[39m, \u001b[36minterpose\u001b[39m, \u001b[36miterated\u001b[39m, \u001b[36mlazymap\u001b[39m,\n",
       "  \u001b[36mlist\u001b[39m, \u001b[36mpartition\u001b[39m, \u001b[36mpartitionby\u001b[39m, \u001b[36mprepend\u001b[39m, \u001b[36mreductions\u001b[39m, \u001b[36mremove\u001b[39m, \u001b[36mrepeatedly\u001b[39m,\n",
       "  \u001b[36mriffle\u001b[39m, \u001b[36ms\u001b[39m, \u001b[36mseq\u001b[39m, \u001b[36msplitat\u001b[39m, \u001b[36msplitby\u001b[39m, \u001b[36mtail\u001b[39m, \u001b[36mtake\u001b[39m, \u001b[36mtakelast\u001b[39m, \u001b[36mtakenth\u001b[39m, \u001b[36mtakeuntil\u001b[39m,\n",
       "  \u001b[36mtakewhile\u001b[39m\n",
       "\n",
       "\u001b[1m  Displaying contents of readme found at\u001b[22m\n",
       "\u001b[1m \u001b[36m/Users/feizhanxia/.julia/packages/Lazy/9Xnd3/README.md\u001b[39m\u001b[22m\n",
       "\u001b[1m  ≡≡≡≡≡≡≡≡≡≡≡≡≡≡≡≡≡≡≡≡≡≡≡≡≡≡≡≡≡≡≡≡≡≡≡≡≡≡≡≡≡≡≡≡≡≡≡≡≡≡≡≡≡≡≡≡\u001b[22m\n",
       "\n",
       "\u001b[1m  Lazy.jl\u001b[22m\n",
       "\u001b[1m  ≡≡≡≡≡≡≡≡≡\u001b[22m\n",
       "\n",
       "  (Image: Gitter chat) (https://gitter.im/one-more-minute/Lazy.jl)\n",
       "\n",
       "\u001b[36m  Pkg.add(\"Lazy\")\u001b[39m\n",
       "\n",
       "  Lazy.jl provides Julia with the cornerstones of functional programming -\n",
       "  lazily-evaluated lists and a large library of functions for working with\n",
       "  them. It's also a repository for some neat macros, which might be useful to\n",
       "  you even if you don't want lazy lists (see below).\n",
       "\n",
       "  Firstly, the canonical examples, in Julia:\n",
       "\n",
       "\u001b[36m  using Lazy\u001b[39m\n",
       "\u001b[36m  \u001b[39m\n",
       "\u001b[36m  # Note : prepends. Don't forget the semicolon!\u001b[39m\n",
       "\u001b[36m  #   -- When running interactively, the semi-colon prevents the environment \u001b[39m\n",
       "\u001b[36m  #      from trying to display an infinite list.\u001b[39m\n",
       "\u001b[36m  \u001b[39m\n",
       "\u001b[36m  # Fibonacci sequence defined in terms of itself:\u001b[39m\n",
       "\u001b[36m  fibs = @lazy 0:1:(fibs + drop(1, fibs));\u001b[39m\n",
       "\u001b[36m  \u001b[39m\n",
       "\u001b[36m  take(20, fibs)\u001b[39m\n",
       "\u001b[36m  #> (0 1 1 2 3 5 8 13 21 34 55 89 144 233 377 610 987 1597 2584 4181)\u001b[39m\n",
       "\u001b[36m  \u001b[39m\n",
       "\u001b[36m  # isprime defined in terms of the prime numbers:\u001b[39m\n",
       "\u001b[36m  isprime(n) =\u001b[39m\n",
       "\u001b[36m    @>> primes begin\u001b[39m\n",
       "\u001b[36m      takewhile(x -> x<=sqrt(n))\u001b[39m\n",
       "\u001b[36m      map(x -> n % x == 0)\u001b[39m\n",
       "\u001b[36m      any; !\u001b[39m\n",
       "\u001b[36m    end\u001b[39m\n",
       "\u001b[36m  \u001b[39m\n",
       "\u001b[36m  # the prime numbers defined in terms of isprime:\u001b[39m\n",
       "\u001b[36m  primes = filter(isprime, Lazy.range(2));\u001b[39m\n",
       "\u001b[36m  \u001b[39m\n",
       "\u001b[36m  take(20, primes)\u001b[39m\n",
       "\u001b[36m  #> (2 3 5 7 11 13 17 19 23 29 31 37 41 43 47 53 59 61 67 71)\u001b[39m\n",
       "\n",
       "  If you've done any functional programming, you already know how to use\n",
       "  Lazy.jl; just head down to the reference below to see what functions are\n",
       "  available.\n",
       "\n",
       "\u001b[1m  Intro to Laziness\u001b[22m\n",
       "\u001b[1m  –––––––––––––––––––\u001b[22m\n",
       "\n",
       "  For the unfamiliar, laziness just means that the elements of the list aren't\n",
       "  actually calculated until you use them. This allows you to perform all sorts\n",
       "  of magic, like working with infinite lists or lists of items from the\n",
       "  future.\n",
       "\n",
       "\u001b[36m  # Even square numbers:\u001b[39m\n",
       "\u001b[36m  > esquares = @>> Lazy.range() map(x->x^2) filter(iseven);\u001b[39m\n",
       "\u001b[36m  # first 5\u001b[39m\n",
       "\u001b[36m  > take(5, esquares)\u001b[39m\n",
       "\u001b[36m  List:\u001b[39m\n",
       "\u001b[36m    4\u001b[39m\n",
       "\u001b[36m    16\u001b[39m\n",
       "\u001b[36m    36\u001b[39m\n",
       "\u001b[36m    64\u001b[39m\n",
       "\u001b[36m    100\u001b[39m\n",
       "\u001b[36m  # 99th\u001b[39m\n",
       "\u001b[36m  > esquares[99]\u001b[39m\n",
       "\u001b[36m  39204\u001b[39m\n",
       "\n",
       "  But lazy lists aren't just for mathematical tricks; you can use them very\n",
       "  practically for things like file IO. For example, you might represent the\n",
       "  lines of a terabyte-large file with a lazy list; you can process the lines\n",
       "  as any other list, letting the IO happen in the background.\n",
       "\n",
       "\u001b[36m  # TODO: lineseq example\u001b[39m\n",
       "\u001b[36m  @>> \"file.txt\" lineseq foreach(println) # Will work no matter many lines file.txt has\u001b[39m\n",
       "\n",
       "  The other thing that separates lists from arrays is the huge amount of\n",
       "  functionality that comes with most functional programming libraries,\n",
       "  including Lazy.jl - if you know your way around them, most data manipulation\n",
       "  becomes a simple case of chaining a few functions together. Even if you do\n",
       "  ultimately need arrays for speed, you could do worse than to prototype with\n",
       "  lists.\n",
       "\n",
       "\u001b[1m  Macros\u001b[22m\n",
       "\u001b[1m  ––––––––\u001b[22m\n",
       "\n",
       "  The threading macros will pipe values through functions, a bit like the \u001b[36m|>\u001b[39m\n",
       "  operator but far more flexible. They can make code a \u001b[4mlot\u001b[24m cleaner by putting\n",
       "  function calls in the order they are applied. The best way to understand\n",
       "  them is by example:\n",
       "\n",
       "\u001b[36m  # Just like x |> f etc.\u001b[39m\n",
       "\u001b[36m  @> x f == f(x)\u001b[39m\n",
       "\u001b[36m  @> x g f == f(g(x))\u001b[39m\n",
       "\u001b[36m  @> x a b c d e == e(d(c(b(a(x)))))\u001b[39m\n",
       "\u001b[36m  \u001b[39m\n",
       "\u001b[36m  # Unlike |>, functions can have arguments - the value\u001b[39m\n",
       "\u001b[36m  # preceding a function will be treated as its first argument\u001b[39m\n",
       "\u001b[36m  @> x g(y, z) f == f(g(x, y, z))\u001b[39m\n",
       "\u001b[36m  \u001b[39m\n",
       "\u001b[36m  @> x g f(y, z) == f(g(x), y, z)\u001b[39m\n",
       "\u001b[36m  \u001b[39m\n",
       "\u001b[36m  # @>> does the exact same thing, but with value treated as the *last* argument.\u001b[39m\n",
       "\u001b[36m  \u001b[39m\n",
       "\u001b[36m  @>> x g(y, z) f == f(g(y, z, x))\u001b[39m\n",
       "\u001b[36m  \u001b[39m\n",
       "\u001b[36m  @>> x g f(y, z) == f(y, z, g(x))\u001b[39m\n",
       "\u001b[36m  \u001b[39m\n",
       "\u001b[36m  # @as lets you name the threaded argument\u001b[39m\n",
       "\u001b[36m  @as _ x f(_, y) g(z, _) == g(z, f(x, y))\u001b[39m\n",
       "\u001b[36m  \u001b[39m\n",
       "\u001b[36m  # All threading macros work over begin blocks\u001b[39m\n",
       "\u001b[36m  \u001b[39m\n",
       "\u001b[36m  @as x 2 begin\u001b[39m\n",
       "\u001b[36m   x^2\u001b[39m\n",
       "\u001b[36m   x+2\u001b[39m\n",
       "\u001b[36m  end == 6\u001b[39m\n",
       "\n",
       "\u001b[1m  Function Reference\u001b[22m\n",
       "\u001b[1m  ––––––––––––––––––––\u001b[22m\n",
       "\n",
       "\u001b[36m  List # The abstract type that represents lazy lists\u001b[39m\n",
       "\u001b[36m  \u001b[39m\n",
       "\u001b[36m  list(1,2,3) == (1 2 3)\u001b[39m\n",
       "\u001b[36m  \u001b[39m\n",
       "\u001b[36m  prepend(1, list(2,3,4)) == 1:list(2,3,4) == (1 2 3 4)\u001b[39m\n",
       "\u001b[36m  \u001b[39m\n",
       "\u001b[36m  # Most list handling functions have similar names\u001b[39m\n",
       "\u001b[36m  # to those in Clojure.\u001b[39m\n",
       "\u001b[36m  \u001b[39m\n",
       "\u001b[36m  # Create a seq from any iterator or array\u001b[39m\n",
       "\u001b[36m  seq([1,2,3]) == seq(1:3) == (1 2 3)\u001b[39m\n",
       "\u001b[36m  \u001b[39m\n",
       "\u001b[36m  # Infinite list of an element\u001b[39m\n",
       "\u001b[36m  constantly(x) == (x x x ...)\u001b[39m\n",
       "\u001b[36m  constantly(1) == (1 1 1 ...)\u001b[39m\n",
       "\u001b[36m  \u001b[39m\n",
       "\u001b[36m  # Infinite list of function calls\u001b[39m\n",
       "\u001b[36m  repeatedly(f) == (f() f() f() ...)\u001b[39m\n",
       "\u001b[36m  repeatedly(rand) == (0.634 0.478 0.776 ...)\u001b[39m\n",
       "\u001b[36m  \u001b[39m\n",
       "\u001b[36m  # Infinitely repeat list\u001b[39m\n",
       "\u001b[36m  cycle(a) == (a... a... a... ...)\u001b[39m\n",
       "\u001b[36m  cycle([1,2,3]) == (1 2 3 1 2 3 1 2 3 1 ...)\u001b[39m\n",
       "\u001b[36m  \u001b[39m\n",
       "\u001b[36m  # Repeatedly nest function calls\u001b[39m\n",
       "\u001b[36m  iterated(f, x) == (x f(x) f(f(x)) ...)\u001b[39m\n",
       "\u001b[36m  iterated(x->x^2, 2) == (2 4 16 256 65536 ...)\u001b[39m\n",
       "\u001b[36m  \u001b[39m\n",
       "\u001b[36m  range(2) == (2 3 4 5 ...)\u001b[39m\n",
       "\u001b[36m  range(1, 5) == (1 2 3 4 5)\u001b[39m\n",
       "\u001b[36m  range(1, 5, 2) == (1 3 5)\u001b[39m\n",
       "\u001b[36m  \u001b[39m\n",
       "\u001b[36m  list(1,2,3) * list(4,5,6) == (1 2 3 4 5 6)\u001b[39m\n",
       "\u001b[36m  \u001b[39m\n",
       "\u001b[36m  first(list(1,2,3)) == 1\u001b[39m\n",
       "\u001b[36m  tail(list(1,2,3)) == (2 3)\u001b[39m\n",
       "\u001b[36m  \u001b[39m\n",
       "\u001b[36m  flatten(list(1,2,list(3,4))) == (1 2 3 4)\u001b[39m\n",
       "\u001b[36m  \u001b[39m\n",
       "\u001b[36m  takeuntil(x -> x > 1, 0:1) == (0 1)\u001b[39m\n",
       "\u001b[36m  takeuntil(x -> x > 1, 0:5) == (0 1 2)\u001b[39m\n",
       "\u001b[36m  takeuntil(x -> x > 1, 2:5) == (2)\u001b[39m\n",
       "\u001b[36m  takeuntil(x -> x > 1, []) == ()\u001b[39m\n",
       "\u001b[36m  \u001b[39m\n",
       "\u001b[36m  riffle\u001b[39m\n",
       "\u001b[36m  interpose\u001b[39m\n",
       "\u001b[36m  take\u001b[39m\n",
       "\u001b[36m  drop\u001b[39m\n",
       "\u001b[36m  takelast\u001b[39m\n",
       "\u001b[36m  droplast\u001b[39m\n",
       "\u001b[36m  takenth\u001b[39m\n",
       "\u001b[36m  takewhile\u001b[39m\n",
       "\u001b[36m  dropwhile\u001b[39m\n",
       "\u001b[36m  # These work as for arrays, but are\u001b[39m\n",
       "\u001b[36m  # lazy where appropriate.\u001b[39m\n",
       "\u001b[36m  map, reduce, filter, reverse\u001b[39m\n",
       "\u001b[36m  lazymap\u001b[39m\n",
       "\u001b[36m  reductions\u001b[39m\n",
       "\u001b[36m  remove\u001b[39m\n",
       "\u001b[36m  dorun\u001b[39m\n",
       "\u001b[36m  foreach\u001b[39m\n",
       "\u001b[36m  distinct\u001b[39m\n",
       "\u001b[36m  groupby\u001b[39m\n",
       "\u001b[36m  partition\u001b[39m\n",
       "\u001b[36m  partitionby\u001b[39m\n",
       "\u001b[36m  splitat\u001b[39m\n",
       "\u001b[36m  splitby\u001b[39m\n",
       "\u001b[36m  \u001b[39m\n",
       "\u001b[36m  # @lazy is the secret sauce that makes infinite definitions\u001b[39m\n",
       "\u001b[36m  # work; usually you can just wrap your list definition in it:\u001b[39m\n",
       "\u001b[36m  @lazy [1,2,3] == (1 2 3)\u001b[39m\n",
       "\u001b[36m  # Define a lazy recursive function\u001b[39m\n",
       "\u001b[36m  constantly(x) = @lazy x:constantly(x)\u001b[39m\n",
       "\u001b[36m  \u001b[39m\n",
       "\u001b[36m  # Make a function map itself over lists\u001b[39m\n",
       "\u001b[36m  @listable exp\u001b[39m\n",
       "\u001b[36m  exp(range()) == (2.71 7.38 20.08 54.59 148.41 ...)\u001b[39m\n",
       "\u001b[36m  \u001b[39m\n",
       "\u001b[36m  # Threading macros, see above\u001b[39m\n",
       "\u001b[36m  @>, @>>\u001b[39m"
      ]
     },
     "execution_count": 17,
     "metadata": {},
     "output_type": "execute_result"
    }
   ],
   "source": [
    "?Lazy"
   ]
  },
  {
   "cell_type": "code",
   "execution_count": 50,
   "id": "4ad3e23f-c7c9-46e9-ae2c-8f3cb9593bff",
   "metadata": {},
   "outputs": [
    {
     "name": "stdout",
     "output_type": "stream",
     "text": [
      "Expr\n",
      "  head: Symbol call\n",
      "  args: Array{Any}((3,))\n",
      "    1: Symbol +\n",
      "    2: Symbol a\n",
      "    3: Symbol b\n"
     ]
    }
   ],
   "source": [
    "dump(e)"
   ]
  },
  {
   "cell_type": "code",
   "execution_count": 55,
   "id": "20451f83-91a7-4188-a137-9741366b3fdd",
   "metadata": {},
   "outputs": [
    {
     "data": {
      "text/plain": [
       "3-element Vector{Any}:\n",
       " :+\n",
       " :a\n",
       " :b"
      ]
     },
     "execution_count": 55,
     "metadata": {},
     "output_type": "execute_result"
    }
   ],
   "source": [
    "e.args"
   ]
  },
  {
   "cell_type": "code",
   "execution_count": null,
   "id": "3ffcb8e4-c2e3-491a-8619-d49a71343306",
   "metadata": {},
   "outputs": [],
   "source": []
  }
 ],
 "metadata": {
  "@webio": {
   "lastCommId": "6c45e59a-9e07-4b32-860e-cbda26b21340",
   "lastKernelId": "8aa2c175-fbc1-4b4d-9833-7e1f995900c0"
  },
  "kernelspec": {
   "display_name": "Julia 1.7.1",
   "language": "julia",
   "name": "julia-1.7"
  },
  "language_info": {
   "file_extension": ".jl",
   "mimetype": "application/julia",
   "name": "julia",
   "version": "1.7.1"
  }
 },
 "nbformat": 4,
 "nbformat_minor": 5
}
